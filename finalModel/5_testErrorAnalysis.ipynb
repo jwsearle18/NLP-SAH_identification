{
 "cells": [
  {
   "cell_type": "code",
   "execution_count": 1,
   "metadata": {},
   "outputs": [],
   "source": [
    "import pandas as pd"
   ]
  },
  {
   "cell_type": "code",
   "execution_count": 3,
   "metadata": {},
   "outputs": [],
   "source": [
    "false_positives_ids_df = pd.read_csv('/home/jsearle/bigDrive/NAX/NLP-SAH_identification/finalModel/results/LogReg/false_positives.csv')\n",
    "false_negatives_ids_df = pd.read_csv('/home/jsearle/bigDrive/NAX/NLP-SAH_identification/finalModel/results/LogReg/false_negatives.csv')\n",
    "\n",
    "full_cohort_df = pd.read_csv('/home/jsearle/bigDrive/NAX/NLP-SAH_identification/cleanCohorts/full_cohort_final.csv')"
   ]
  },
  {
   "cell_type": "code",
   "execution_count": 4,
   "metadata": {},
   "outputs": [],
   "source": [
    "# Merge to get text for false positives\n",
    "false_positives_text_df = pd.merge(false_positives_ids_df, full_cohort_df[['BDSPPatientID', 'text']], on='BDSPPatientID', how='left')\n",
    "\n",
    "# Merge to get text for false negatives\n",
    "false_negatives_text_df = pd.merge(false_negatives_ids_df, full_cohort_df[['BDSPPatientID', 'text']], on='BDSPPatientID', how='left')"
   ]
  },
  {
   "cell_type": "code",
   "execution_count": 5,
   "metadata": {},
   "outputs": [
    {
     "data": {
      "text/html": [
       "<div>\n",
       "<style scoped>\n",
       "    .dataframe tbody tr th:only-of-type {\n",
       "        vertical-align: middle;\n",
       "    }\n",
       "\n",
       "    .dataframe tbody tr th {\n",
       "        vertical-align: top;\n",
       "    }\n",
       "\n",
       "    .dataframe thead th {\n",
       "        text-align: right;\n",
       "    }\n",
       "</style>\n",
       "<table border=\"1\" class=\"dataframe\">\n",
       "  <thead>\n",
       "    <tr style=\"text-align: right;\">\n",
       "      <th></th>\n",
       "      <th>BDSPPatientID</th>\n",
       "      <th>text</th>\n",
       "    </tr>\n",
       "  </thead>\n",
       "  <tbody>\n",
       "    <tr>\n",
       "      <th>0</th>\n",
       "      <td>114793141</td>\n",
       "      <td>Physician ***** *****       Admit date: ****...</td>\n",
       "    </tr>\n",
       "    <tr>\n",
       "      <th>1</th>\n",
       "      <td>121593736</td>\n",
       "      <td>Physician ***** *****       Admit date: ****...</td>\n",
       "    </tr>\n",
       "    <tr>\n",
       "      <th>2</th>\n",
       "      <td>151117492</td>\n",
       "      <td>\\n\\nNote Date: *****/*****/*****\\n\\nNote Type:...</td>\n",
       "    </tr>\n",
       "    <tr>\n",
       "      <th>3</th>\n",
       "      <td>115345969</td>\n",
       "      <td>Physician ***** *****       Admit date: ****...</td>\n",
       "    </tr>\n",
       "    <tr>\n",
       "      <th>4</th>\n",
       "      <td>150016455</td>\n",
       "      <td>\\n\\nNote Date: *****/*****/*****  Time: 0853\\n...</td>\n",
       "    </tr>\n",
       "  </tbody>\n",
       "</table>\n",
       "</div>"
      ],
      "text/plain": [
       "   BDSPPatientID                                               text\n",
       "0      114793141    Physician ***** *****       Admit date: ****...\n",
       "1      121593736    Physician ***** *****       Admit date: ****...\n",
       "2      151117492  \\n\\nNote Date: *****/*****/*****\\n\\nNote Type:...\n",
       "3      115345969    Physician ***** *****       Admit date: ****...\n",
       "4      150016455  \\n\\nNote Date: *****/*****/*****  Time: 0853\\n..."
      ]
     },
     "execution_count": 5,
     "metadata": {},
     "output_type": "execute_result"
    }
   ],
   "source": [
    "false_negatives_text_df.head()"
   ]
  },
  {
   "cell_type": "code",
   "execution_count": 6,
   "metadata": {},
   "outputs": [],
   "source": [
    "false_negatives_text_df.to_csv('LR_false_negatives.csv')\n",
    "false_positives_text_df.to_csv('LR_false_positives.csv')"
   ]
  }
 ],
 "metadata": {
  "kernelspec": {
   "display_name": "NAX",
   "language": "python",
   "name": "python3"
  },
  "language_info": {
   "codemirror_mode": {
    "name": "ipython",
    "version": 3
   },
   "file_extension": ".py",
   "mimetype": "text/x-python",
   "name": "python",
   "nbconvert_exporter": "python",
   "pygments_lexer": "ipython3",
   "version": "3.12.3"
  }
 },
 "nbformat": 4,
 "nbformat_minor": 2
}
