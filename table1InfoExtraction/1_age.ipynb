{
 "cells": [
  {
   "cell_type": "code",
   "execution_count": null,
   "metadata": {},
   "outputs": [],
   "source": [
    "import pandas as pd\n",
    "from thunderpack import ThunderReader\n",
    "from tqdm import tqdm\n",
    "import re"
   ]
  },
  {
   "cell_type": "markdown",
   "metadata": {},
   "source": [
    "## GOALS\n",
    "- AGE average age of all participants (and Standard Deviation)\n",
    "    - per hospital\n",
    "    - per ICD standing\n",
    "\n",
    "- SEX num/percent female/male\n",
    "    - per hospital\n",
    "    - per icd standing\n",
    "\n",
    "- RACE num/percent\n",
    "    - per hospital\n",
    "    - per icd standing\n"
   ]
  },
  {
   "cell_type": "code",
   "execution_count": null,
   "metadata": {},
   "outputs": [],
   "source": []
  }
 ],
 "metadata": {
  "language_info": {
   "name": "python"
  }
 },
 "nbformat": 4,
 "nbformat_minor": 2
}
