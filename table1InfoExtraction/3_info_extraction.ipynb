{
 "cells": [
  {
   "cell_type": "code",
   "execution_count": 1,
   "metadata": {},
   "outputs": [],
   "source": [
    "import pandas as pd"
   ]
  },
  {
   "cell_type": "code",
   "execution_count": 11,
   "metadata": {},
   "outputs": [
    {
     "name": "stdout",
     "output_type": "stream",
     "text": [
      "499\n"
     ]
    },
    {
     "data": {
      "text/html": [
       "<div>\n",
       "<style scoped>\n",
       "    .dataframe tbody tr th:only-of-type {\n",
       "        vertical-align: middle;\n",
       "    }\n",
       "\n",
       "    .dataframe tbody tr th {\n",
       "        vertical-align: top;\n",
       "    }\n",
       "\n",
       "    .dataframe thead th {\n",
       "        text-align: right;\n",
       "    }\n",
       "</style>\n",
       "<table border=\"1\" class=\"dataframe\">\n",
       "  <thead>\n",
       "    <tr style=\"text-align: right;\">\n",
       "      <th></th>\n",
       "      <th>BDSPPatientID</th>\n",
       "      <th>SexDSC</th>\n",
       "      <th>Age</th>\n",
       "      <th>CategorizedRace</th>\n",
       "    </tr>\n",
       "  </thead>\n",
       "  <tbody>\n",
       "    <tr>\n",
       "      <th>0</th>\n",
       "      <td>150064116</td>\n",
       "      <td>Female</td>\n",
       "      <td>64</td>\n",
       "      <td>White</td>\n",
       "    </tr>\n",
       "    <tr>\n",
       "      <th>1</th>\n",
       "      <td>150074292</td>\n",
       "      <td>Male</td>\n",
       "      <td>74</td>\n",
       "      <td>White</td>\n",
       "    </tr>\n",
       "    <tr>\n",
       "      <th>2</th>\n",
       "      <td>150000165</td>\n",
       "      <td>Female</td>\n",
       "      <td>90</td>\n",
       "      <td>Black or African American</td>\n",
       "    </tr>\n",
       "    <tr>\n",
       "      <th>3</th>\n",
       "      <td>150000237</td>\n",
       "      <td>Male</td>\n",
       "      <td>66</td>\n",
       "      <td>White</td>\n",
       "    </tr>\n",
       "    <tr>\n",
       "      <th>4</th>\n",
       "      <td>150000263</td>\n",
       "      <td>Male</td>\n",
       "      <td>56</td>\n",
       "      <td>White</td>\n",
       "    </tr>\n",
       "  </tbody>\n",
       "</table>\n",
       "</div>"
      ],
      "text/plain": [
       "   BDSPPatientID  SexDSC  Age            CategorizedRace\n",
       "0      150064116  Female   64                      White\n",
       "1      150074292    Male   74                      White\n",
       "2      150000165  Female   90  Black or African American\n",
       "3      150000237    Male   66                      White\n",
       "4      150000263    Male   56                      White"
      ]
     },
     "execution_count": 11,
     "metadata": {},
     "output_type": "execute_result"
    }
   ],
   "source": [
    "# read in correct demographics csv\n",
    "demographics_df = pd.read_csv('/home/jsearle/bigDrive/NAX/NLP-SAH_identification/table1InfoExtraction/BIDMC_neg_demographics.csv')\n",
    "print(len(demographics_df))\n",
    "demographics_df.head()"
   ]
  },
  {
   "cell_type": "code",
   "execution_count": 12,
   "metadata": {},
   "outputs": [],
   "source": [
    "# Check values in the SexDSC column and calculate the percentage of each\n",
    "sex_counts = demographics_df['SexDSC'].value_counts()\n",
    "total_count = len(demographics_df)\n",
    "\n",
    "# Calculate numbers and percentages\n",
    "numFemale = sex_counts.get('Female', 0)\n",
    "numMale = sex_counts.get('Male', 0)\n",
    "percentageFemale = (numFemale / total_count) * 100\n",
    "percentageMale = (numMale / total_count) * 100"
   ]
  },
  {
   "cell_type": "code",
   "execution_count": 13,
   "metadata": {},
   "outputs": [
    {
     "name": "stdout",
     "output_type": "stream",
     "text": [
      "Statistics\n",
      "\n",
      "AGE\n",
      "Average: 66.0501002004008\n",
      "sd =  16.2831217894734\n",
      "\n",
      "SEX\n",
      "F = 268 (53.71%)\n",
      "M = 231 (46.29%)\n"
     ]
    }
   ],
   "source": [
    "# Calculate and print the average age\n",
    "average_age_MGB = demographics_df['Age'].mean()\n",
    "std_dev_age_MGB = demographics_df['Age'].std()\n",
    "\n",
    "print(\"Statistics\")\n",
    "print(\"\\nAGE\")\n",
    "print(\"Average:\", average_age_MGB)\n",
    "print(\"sd = \", std_dev_age_MGB)\n",
    "\n",
    "print(\"\\nSEX\")\n",
    "print(f\"F = {numFemale} ({percentageFemale:.2f}%)\")\n",
    "print(f\"M = {numMale} ({percentageMale:.2f}%)\")"
   ]
  },
  {
   "cell_type": "code",
   "execution_count": 14,
   "metadata": {},
   "outputs": [
    {
     "name": "stdout",
     "output_type": "stream",
     "text": [
      "White - 328 (65.73%)\n",
      "\n",
      "Black or African American - 77 (15.43%)\n",
      "\n",
      "Unavailable - 58 (11.62%)\n",
      "\n",
      "Asian - 19 (3.81%)\n",
      "\n",
      "Other - 17 (3.41%)\n",
      "\n"
     ]
    }
   ],
   "source": [
    "# Get the value counts for the new CategorizedRace column\n",
    "categorized_race_counts = demographics_df['CategorizedRace'].value_counts()\n",
    "total_count = len(demographics_df)\n",
    "\n",
    "# Calculate percentages\n",
    "categorized_race_percentages = (categorized_race_counts / total_count * 100).round(2)\n",
    "\n",
    "\n",
    "for race, count in categorized_race_counts.items():\n",
    "    percentage = categorized_race_percentages[race]\n",
    "    print(f\"{race} - {count} ({percentage}%)\\n\")"
   ]
  },
  {
   "cell_type": "markdown",
   "metadata": {},
   "source": [
    "randomly select 10,000\n",
    "randomly select patient\n",
    "randomly select date\n",
    "would they fit criteria to belong in specific group"
   ]
  }
 ],
 "metadata": {
  "kernelspec": {
   "display_name": "NAX",
   "language": "python",
   "name": "python3"
  },
  "language_info": {
   "codemirror_mode": {
    "name": "ipython",
    "version": 3
   },
   "file_extension": ".py",
   "mimetype": "text/x-python",
   "name": "python",
   "nbconvert_exporter": "python",
   "pygments_lexer": "ipython3",
   "version": "3.12.3"
  }
 },
 "nbformat": 4,
 "nbformat_minor": 2
}
