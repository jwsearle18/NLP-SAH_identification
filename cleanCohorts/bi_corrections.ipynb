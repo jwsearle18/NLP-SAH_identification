{
 "cells": [
  {
   "cell_type": "code",
   "execution_count": 1,
   "metadata": {},
   "outputs": [],
   "source": [
    "import pandas as pd"
   ]
  },
  {
   "cell_type": "code",
   "execution_count": 2,
   "metadata": {},
   "outputs": [
    {
     "name": "stdout",
     "output_type": "stream",
     "text": [
      "505\n",
      "509\n"
     ]
    }
   ],
   "source": [
    "bi_positives_in_neg_cohort = pd.read_csv('/home/jsearle/bigDrive/NAX/NLP-SAH_identification/check/bi_positives_in_neg_cohort.csv')\n",
    "old_bi_neg = pd.read_csv('BIDMC_neg_cohort_final.csv')\n",
    "old_bi_pos = pd.read_csv('BIDMC_pos_cohort_final.csv')\n",
    "print(len(old_bi_neg))\n",
    "print(len(old_bi_pos))"
   ]
  },
  {
   "cell_type": "code",
   "execution_count": 3,
   "metadata": {},
   "outputs": [],
   "source": [
    "matching_patient_ids = bi_positives_in_neg_cohort['BDSPPatientID']\n",
    "rows_to_move = old_bi_neg[old_bi_neg['BDSPPatientID'].isin(matching_patient_ids)]\n",
    "\n",
    "# Step 2: Remove those rows from old_bi_neg\n",
    "old_bi_neg_filtered = old_bi_neg[~old_bi_neg['BDSPPatientID'].isin(matching_patient_ids)]\n",
    "\n",
    "# Step 3: Add those rows to old_bi_pos\n",
    "old_bi_pos_updated = pd.concat([old_bi_pos, rows_to_move])"
   ]
  },
  {
   "cell_type": "code",
   "execution_count": 4,
   "metadata": {},
   "outputs": [
    {
     "name": "stdout",
     "output_type": "stream",
     "text": [
      "499\n",
      "515\n"
     ]
    }
   ],
   "source": [
    "print(len(old_bi_neg_filtered))\n",
    "print(len(old_bi_pos_updated))"
   ]
  },
  {
   "cell_type": "code",
   "execution_count": 5,
   "metadata": {},
   "outputs": [],
   "source": [
    "old_bi_pos_updated.to_csv('BIDMC_pos_cohort_final_updated.csv', index=False)\n",
    "old_bi_neg_filtered.to_csv('BIDMC_neg_cohort_final_updated.csv', index=False)"
   ]
  }
 ],
 "metadata": {
  "kernelspec": {
   "display_name": "NAX",
   "language": "python",
   "name": "python3"
  },
  "language_info": {
   "codemirror_mode": {
    "name": "ipython",
    "version": 3
   },
   "file_extension": ".py",
   "mimetype": "text/x-python",
   "name": "python",
   "nbconvert_exporter": "python",
   "pygments_lexer": "ipython3",
   "version": "3.12.3"
  }
 },
 "nbformat": 4,
 "nbformat_minor": 2
}
