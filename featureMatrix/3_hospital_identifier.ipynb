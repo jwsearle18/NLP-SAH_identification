{
 "cells": [
  {
   "cell_type": "code",
   "execution_count": 8,
   "metadata": {},
   "outputs": [],
   "source": [
    "import pandas as pd"
   ]
  },
  {
   "cell_type": "markdown",
   "metadata": {},
   "source": [
    "## Purpose\n",
    "I will add a column on the matrix to identify which hospital each note is from.\n",
    "The column will be named 'hospital' and it will contain either MGB or BIDMC"
   ]
  },
  {
   "cell_type": "code",
   "execution_count": 9,
   "metadata": {},
   "outputs": [],
   "source": [
    "matrix = pd.read_csv('2_keyword_matrix_w_neg.csv', index_col=0)\n",
    "\n",
    "BIDMC_cohort = pd.read_csv('/home/jsearle/bigDrive/NAX/NLP-SAH_identification/test&trainCohorts/BIDMC_cohort_train.csv')\n",
    "MGB_cohort = pd.read_csv('/home/jsearle/bigDrive/NAX/NLP-SAH_identification/test&trainCohorts/MGB_cohort_train.csv')"
   ]
  },
  {
   "cell_type": "code",
   "execution_count": 10,
   "metadata": {},
   "outputs": [],
   "source": [
    "bidmc_patientids = set(BIDMC_cohort['BDSPPatientID'])\n",
    "mgb_patientids = set(MGB_cohort['BDSPPatientID'])"
   ]
  },
  {
   "cell_type": "code",
   "execution_count": 11,
   "metadata": {},
   "outputs": [],
   "source": [
    "def get_hospital(patient_id):\n",
    "    if patient_id in bidmc_patientids:\n",
    "        return 'BIDMC'\n",
    "    elif patient_id in mgb_patientids:\n",
    "        return 'MGB'\n",
    "    else:\n",
    "        return 'Unknown'"
   ]
  },
  {
   "cell_type": "code",
   "execution_count": 12,
   "metadata": {},
   "outputs": [
    {
     "data": {
      "text/html": [
       "<div>\n",
       "<style scoped>\n",
       "    .dataframe tbody tr th:only-of-type {\n",
       "        vertical-align: middle;\n",
       "    }\n",
       "\n",
       "    .dataframe tbody tr th {\n",
       "        vertical-align: top;\n",
       "    }\n",
       "\n",
       "    .dataframe thead th {\n",
       "        text-align: right;\n",
       "    }\n",
       "</style>\n",
       "<table border=\"1\" class=\"dataframe\">\n",
       "  <thead>\n",
       "    <tr style=\"text-align: right;\">\n",
       "      <th></th>\n",
       "      <th>BDSPPatientID</th>\n",
       "      <th>NoteDate</th>\n",
       "      <th>NoteTitle</th>\n",
       "      <th>text</th>\n",
       "      <th>annot</th>\n",
       "      <th>ICD</th>\n",
       "      <th>acute onset headache</th>\n",
       "      <th>thunderclap headache</th>\n",
       "      <th>double vision</th>\n",
       "      <th>diplopia</th>\n",
       "      <th>...</th>\n",
       "      <th>neg vehicle</th>\n",
       "      <th>neg loc</th>\n",
       "      <th>neg fracture</th>\n",
       "      <th>neg skull</th>\n",
       "      <th>neg strike</th>\n",
       "      <th>neg fall</th>\n",
       "      <th>neg fell</th>\n",
       "      <th>neg trauma</th>\n",
       "      <th>neg altered mental status</th>\n",
       "      <th>hospital</th>\n",
       "    </tr>\n",
       "  </thead>\n",
       "  <tbody>\n",
       "    <tr>\n",
       "      <th>1543</th>\n",
       "      <td>150149137</td>\n",
       "      <td>2011-10-24</td>\n",
       "      <td>Notes_1130007831_163568231_20111024.txt</td>\n",
       "      <td>note date : * * * * * / * * * * * / * * * * * ...</td>\n",
       "      <td>0</td>\n",
       "      <td>0</td>\n",
       "      <td>0</td>\n",
       "      <td>0</td>\n",
       "      <td>0</td>\n",
       "      <td>0</td>\n",
       "      <td>...</td>\n",
       "      <td>0</td>\n",
       "      <td>0</td>\n",
       "      <td>0</td>\n",
       "      <td>0</td>\n",
       "      <td>0</td>\n",
       "      <td>0</td>\n",
       "      <td>0</td>\n",
       "      <td>0</td>\n",
       "      <td>0</td>\n",
       "      <td>BIDMC</td>\n",
       "    </tr>\n",
       "    <tr>\n",
       "      <th>1544</th>\n",
       "      <td>151202241</td>\n",
       "      <td>2021-10-31</td>\n",
       "      <td>Notes_1131061159_2956318258_20211031.txt</td>\n",
       "      <td>note date : * * * * * / * * * * * / * * * * * ...</td>\n",
       "      <td>0</td>\n",
       "      <td>0</td>\n",
       "      <td>0</td>\n",
       "      <td>0</td>\n",
       "      <td>0</td>\n",
       "      <td>0</td>\n",
       "      <td>...</td>\n",
       "      <td>0</td>\n",
       "      <td>0</td>\n",
       "      <td>0</td>\n",
       "      <td>0</td>\n",
       "      <td>0</td>\n",
       "      <td>0</td>\n",
       "      <td>0</td>\n",
       "      <td>0</td>\n",
       "      <td>0</td>\n",
       "      <td>BIDMC</td>\n",
       "    </tr>\n",
       "    <tr>\n",
       "      <th>1545</th>\n",
       "      <td>150007561</td>\n",
       "      <td>2011-08-15</td>\n",
       "      <td>Notes_1129866395_2183791581_20110815.txt</td>\n",
       "      <td>note date : * * * * * / * * * * * / * * * * * ...</td>\n",
       "      <td>1</td>\n",
       "      <td>0</td>\n",
       "      <td>0</td>\n",
       "      <td>0</td>\n",
       "      <td>0</td>\n",
       "      <td>0</td>\n",
       "      <td>...</td>\n",
       "      <td>0</td>\n",
       "      <td>0</td>\n",
       "      <td>0</td>\n",
       "      <td>0</td>\n",
       "      <td>0</td>\n",
       "      <td>0</td>\n",
       "      <td>0</td>\n",
       "      <td>0</td>\n",
       "      <td>0</td>\n",
       "      <td>BIDMC</td>\n",
       "    </tr>\n",
       "    <tr>\n",
       "      <th>1546</th>\n",
       "      <td>150077470</td>\n",
       "      <td>2017-12-11</td>\n",
       "      <td>Notes_1129935892_230074776_20171211.txt</td>\n",
       "      <td>note date : * * * * * / * * * * * / * * * * * ...</td>\n",
       "      <td>1</td>\n",
       "      <td>1</td>\n",
       "      <td>0</td>\n",
       "      <td>0</td>\n",
       "      <td>0</td>\n",
       "      <td>0</td>\n",
       "      <td>...</td>\n",
       "      <td>0</td>\n",
       "      <td>0</td>\n",
       "      <td>0</td>\n",
       "      <td>0</td>\n",
       "      <td>0</td>\n",
       "      <td>0</td>\n",
       "      <td>0</td>\n",
       "      <td>0</td>\n",
       "      <td>0</td>\n",
       "      <td>BIDMC</td>\n",
       "    </tr>\n",
       "    <tr>\n",
       "      <th>1547</th>\n",
       "      <td>151240493</td>\n",
       "      <td>2016-08-20</td>\n",
       "      <td>Notes_1131099289_447190498_20160820.txt</td>\n",
       "      <td>note date : * * * * * / * * * * * / * * * * * ...</td>\n",
       "      <td>1</td>\n",
       "      <td>0</td>\n",
       "      <td>0</td>\n",
       "      <td>0</td>\n",
       "      <td>0</td>\n",
       "      <td>1</td>\n",
       "      <td>...</td>\n",
       "      <td>0</td>\n",
       "      <td>0</td>\n",
       "      <td>0</td>\n",
       "      <td>0</td>\n",
       "      <td>0</td>\n",
       "      <td>0</td>\n",
       "      <td>0</td>\n",
       "      <td>0</td>\n",
       "      <td>0</td>\n",
       "      <td>BIDMC</td>\n",
       "    </tr>\n",
       "  </tbody>\n",
       "</table>\n",
       "<p>5 rows × 263 columns</p>\n",
       "</div>"
      ],
      "text/plain": [
       "      BDSPPatientID    NoteDate                                 NoteTitle  \\\n",
       "1543      150149137  2011-10-24   Notes_1130007831_163568231_20111024.txt   \n",
       "1544      151202241  2021-10-31  Notes_1131061159_2956318258_20211031.txt   \n",
       "1545      150007561  2011-08-15  Notes_1129866395_2183791581_20110815.txt   \n",
       "1546      150077470  2017-12-11   Notes_1129935892_230074776_20171211.txt   \n",
       "1547      151240493  2016-08-20   Notes_1131099289_447190498_20160820.txt   \n",
       "\n",
       "                                                   text  annot  ICD  \\\n",
       "1543  note date : * * * * * / * * * * * / * * * * * ...      0    0   \n",
       "1544  note date : * * * * * / * * * * * / * * * * * ...      0    0   \n",
       "1545  note date : * * * * * / * * * * * / * * * * * ...      1    0   \n",
       "1546  note date : * * * * * / * * * * * / * * * * * ...      1    1   \n",
       "1547  note date : * * * * * / * * * * * / * * * * * ...      1    0   \n",
       "\n",
       "      acute onset headache  thunderclap headache  double vision  diplopia  \\\n",
       "1543                     0                     0              0         0   \n",
       "1544                     0                     0              0         0   \n",
       "1545                     0                     0              0         0   \n",
       "1546                     0                     0              0         0   \n",
       "1547                     0                     0              0         1   \n",
       "\n",
       "      ...  neg vehicle  neg loc  neg fracture  neg skull  neg strike  \\\n",
       "1543  ...            0        0             0          0           0   \n",
       "1544  ...            0        0             0          0           0   \n",
       "1545  ...            0        0             0          0           0   \n",
       "1546  ...            0        0             0          0           0   \n",
       "1547  ...            0        0             0          0           0   \n",
       "\n",
       "      neg fall  neg fell  neg trauma  neg altered mental status  hospital  \n",
       "1543         0         0           0                          0     BIDMC  \n",
       "1544         0         0           0                          0     BIDMC  \n",
       "1545         0         0           0                          0     BIDMC  \n",
       "1546         0         0           0                          0     BIDMC  \n",
       "1547         0         0           0                          0     BIDMC  \n",
       "\n",
       "[5 rows x 263 columns]"
      ]
     },
     "execution_count": 12,
     "metadata": {},
     "output_type": "execute_result"
    }
   ],
   "source": [
    "matrix['hospital'] = matrix['BDSPPatientID'].apply(get_hospital)\n",
    "matrix.tail()"
   ]
  },
  {
   "cell_type": "code",
   "execution_count": 13,
   "metadata": {},
   "outputs": [
    {
     "name": "stdout",
     "output_type": "stream",
     "text": [
      "hospital\n",
      "MGB      1041\n",
      "BIDMC     507\n",
      "Name: count, dtype: int64\n"
     ]
    }
   ],
   "source": [
    "hospital_counts = matrix['hospital'].value_counts()\n",
    "\n",
    "# Display the counts\n",
    "print(hospital_counts)"
   ]
  },
  {
   "cell_type": "code",
   "execution_count": 7,
   "metadata": {},
   "outputs": [],
   "source": [
    "matrix.to_csv('3_matrix_comb_neg.csv')"
   ]
  },
  {
   "cell_type": "code",
   "execution_count": 15,
   "metadata": {},
   "outputs": [
    {
     "name": "stdout",
     "output_type": "stream",
     "text": [
      "263\n"
     ]
    }
   ],
   "source": [
    "matrix_w_neg = pd.read_csv('3_matrix_comb_neg.csv', index_col=0)\n",
    "print(matrix_w_neg.shape[1])"
   ]
  }
 ],
 "metadata": {
  "kernelspec": {
   "display_name": "NAX",
   "language": "python",
   "name": "python3"
  },
  "language_info": {
   "codemirror_mode": {
    "name": "ipython",
    "version": 3
   },
   "file_extension": ".py",
   "mimetype": "text/x-python",
   "name": "python",
   "nbconvert_exporter": "python",
   "pygments_lexer": "ipython3",
   "version": "3.12.3"
  }
 },
 "nbformat": 4,
 "nbformat_minor": 2
}
