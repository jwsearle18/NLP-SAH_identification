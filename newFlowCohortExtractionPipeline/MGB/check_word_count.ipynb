{
 "cells": [
  {
   "cell_type": "code",
   "execution_count": 11,
   "metadata": {},
   "outputs": [],
   "source": [
    "import pandas as pd"
   ]
  },
  {
   "cell_type": "markdown",
   "metadata": {},
   "source": [
    "# Word Count\n",
    " - For the icd neg cohort I accidentally checked for 500 characters not 500 words.\n",
    " - I'll run the icd neg cohort through here to make sure they have at least 500 words."
   ]
  },
  {
   "cell_type": "code",
   "execution_count": 22,
   "metadata": {},
   "outputs": [],
   "source": [
    "unfiltered_icd_cohort = pd.read_csv('/home/jsearle/bigDrive/NAX/NLP-SAH_identification/annotationTools/annotationToolNegBIDMC/BIDMC_icd_neg_cohort.csv')"
   ]
  },
  {
   "cell_type": "code",
   "execution_count": 23,
   "metadata": {},
   "outputs": [],
   "source": [
    "def check_word_count(text, threshold):\n",
    "    word_count = len(text.split())\n",
    "    return word_count > threshold"
   ]
  },
  {
   "cell_type": "code",
   "execution_count": 24,
   "metadata": {},
   "outputs": [
    {
     "data": {
      "text/html": [
       "<div>\n",
       "<style scoped>\n",
       "    .dataframe tbody tr th:only-of-type {\n",
       "        vertical-align: middle;\n",
       "    }\n",
       "\n",
       "    .dataframe tbody tr th {\n",
       "        vertical-align: top;\n",
       "    }\n",
       "\n",
       "    .dataframe thead th {\n",
       "        text-align: right;\n",
       "    }\n",
       "</style>\n",
       "<table border=\"1\" class=\"dataframe\">\n",
       "  <thead>\n",
       "    <tr style=\"text-align: right;\">\n",
       "      <th></th>\n",
       "      <th>BDSPPatientID</th>\n",
       "      <th>AdmissionDate</th>\n",
       "      <th>ICD</th>\n",
       "      <th>NoteDate</th>\n",
       "      <th>NoteTitle</th>\n",
       "      <th>text</th>\n",
       "      <th>valid</th>\n",
       "    </tr>\n",
       "  </thead>\n",
       "  <tbody>\n",
       "    <tr>\n",
       "      <th>0</th>\n",
       "      <td>151212513</td>\n",
       "      <td>2016-02-03</td>\n",
       "      <td>305.1</td>\n",
       "      <td>2016-02-04</td>\n",
       "      <td>Notes_1131071605_435587215_20160204.txt</td>\n",
       "      <td>\\n\\nNote Date: *****/*****/*****\\n\\nNote Type:...</td>\n",
       "      <td>True</td>\n",
       "    </tr>\n",
       "    <tr>\n",
       "      <th>1</th>\n",
       "      <td>150639400</td>\n",
       "      <td>2023-06-12</td>\n",
       "      <td>Z79.4</td>\n",
       "      <td>2023-06-12</td>\n",
       "      <td>Notes_1130498158_10141889500_20230612.txt</td>\n",
       "      <td>\\n\\nNote Date: *****/*****/*****  Time: 1100\\n...</td>\n",
       "      <td>True</td>\n",
       "    </tr>\n",
       "    <tr>\n",
       "      <th>2</th>\n",
       "      <td>150057053</td>\n",
       "      <td>2020-12-12</td>\n",
       "      <td>C77.5</td>\n",
       "      <td>2020-12-17</td>\n",
       "      <td>Notes_1129915463_4302367261_20201217.txt</td>\n",
       "      <td>\\n\\nNote Date: *****/*****/*****\\n\\nNote Type:...</td>\n",
       "      <td>True</td>\n",
       "    </tr>\n",
       "    <tr>\n",
       "      <th>3</th>\n",
       "      <td>151005496</td>\n",
       "      <td>2010-06-29</td>\n",
       "      <td>530.81</td>\n",
       "      <td>2010-06-29</td>\n",
       "      <td>Notes_1130863925_364816102_20100629.txt</td>\n",
       "      <td>\\n\\nNote Date: *****/*****/*****\\n\\nNote Type:...</td>\n",
       "      <td>True</td>\n",
       "    </tr>\n",
       "    <tr>\n",
       "      <th>4</th>\n",
       "      <td>150006448</td>\n",
       "      <td>2014-07-10</td>\n",
       "      <td>244.9</td>\n",
       "      <td>2014-07-14</td>\n",
       "      <td>Notes_1129865503_1991829458_20140714.txt</td>\n",
       "      <td>\\n\\nNote Date: *****/*****/*****\\n\\nNote Type:...</td>\n",
       "      <td>True</td>\n",
       "    </tr>\n",
       "  </tbody>\n",
       "</table>\n",
       "</div>"
      ],
      "text/plain": [
       "   BDSPPatientID AdmissionDate     ICD    NoteDate  \\\n",
       "0      151212513    2016-02-03  305.1   2016-02-04   \n",
       "1      150639400    2023-06-12   Z79.4  2023-06-12   \n",
       "2      150057053    2020-12-12   C77.5  2020-12-17   \n",
       "3      151005496    2010-06-29  530.81  2010-06-29   \n",
       "4      150006448    2014-07-10  244.9   2014-07-14   \n",
       "\n",
       "                                   NoteTitle  \\\n",
       "0    Notes_1131071605_435587215_20160204.txt   \n",
       "1  Notes_1130498158_10141889500_20230612.txt   \n",
       "2   Notes_1129915463_4302367261_20201217.txt   \n",
       "3    Notes_1130863925_364816102_20100629.txt   \n",
       "4   Notes_1129865503_1991829458_20140714.txt   \n",
       "\n",
       "                                                text  valid  \n",
       "0  \\n\\nNote Date: *****/*****/*****\\n\\nNote Type:...   True  \n",
       "1  \\n\\nNote Date: *****/*****/*****  Time: 1100\\n...   True  \n",
       "2  \\n\\nNote Date: *****/*****/*****\\n\\nNote Type:...   True  \n",
       "3  \\n\\nNote Date: *****/*****/*****\\n\\nNote Type:...   True  \n",
       "4  \\n\\nNote Date: *****/*****/*****\\n\\nNote Type:...   True  "
      ]
     },
     "execution_count": 24,
     "metadata": {},
     "output_type": "execute_result"
    }
   ],
   "source": [
    "threshold = 500\n",
    "unfiltered_icd_cohort['valid'] = unfiltered_icd_cohort['text'].apply(lambda x: check_word_count(x, threshold))\n",
    "unfiltered_icd_cohort.head()"
   ]
  },
  {
   "cell_type": "code",
   "execution_count": 25,
   "metadata": {},
   "outputs": [
    {
     "name": "stdout",
     "output_type": "stream",
     "text": [
      "505\n"
     ]
    }
   ],
   "source": [
    "numValid = sum(unfiltered_icd_cohort['valid'])\n",
    "print(numValid)"
   ]
  },
  {
   "cell_type": "code",
   "execution_count": 26,
   "metadata": {},
   "outputs": [
    {
     "name": "stdout",
     "output_type": "stream",
     "text": [
      "[]\n"
     ]
    }
   ],
   "source": [
    "false_indeces = unfiltered_icd_cohort.index[~unfiltered_icd_cohort['valid']].tolist()\n",
    "print(false_indeces)"
   ]
  },
  {
   "cell_type": "code",
   "execution_count": 9,
   "metadata": {},
   "outputs": [
    {
     "name": "stdout",
     "output_type": "stream",
     "text": [
      "1029\n"
     ]
    },
    {
     "data": {
      "text/html": [
       "<div>\n",
       "<style scoped>\n",
       "    .dataframe tbody tr th:only-of-type {\n",
       "        vertical-align: middle;\n",
       "    }\n",
       "\n",
       "    .dataframe tbody tr th {\n",
       "        vertical-align: top;\n",
       "    }\n",
       "\n",
       "    .dataframe thead th {\n",
       "        text-align: right;\n",
       "    }\n",
       "</style>\n",
       "<table border=\"1\" class=\"dataframe\">\n",
       "  <thead>\n",
       "    <tr style=\"text-align: right;\">\n",
       "      <th></th>\n",
       "      <th>BDSPPatientID</th>\n",
       "      <th>NoteDate</th>\n",
       "      <th>NoteTitle</th>\n",
       "      <th>text</th>\n",
       "    </tr>\n",
       "  </thead>\n",
       "  <tbody>\n",
       "    <tr>\n",
       "      <th>0</th>\n",
       "      <td>118374115</td>\n",
       "      <td>2018-11-20 00:00:00</td>\n",
       "      <td>Notes_13333491432_2130196704_20181120.txt</td>\n",
       "      <td>Physician ***** *****       Admit date: ****...</td>\n",
       "    </tr>\n",
       "    <tr>\n",
       "      <th>1</th>\n",
       "      <td>116931824</td>\n",
       "      <td>2022-12-29 00:00:00</td>\n",
       "      <td>Notes_13563868206_7830407523_20221229.txt</td>\n",
       "      <td>Physician ***** *****       Admit date: ****...</td>\n",
       "    </tr>\n",
       "    <tr>\n",
       "      <th>2</th>\n",
       "      <td>118587891</td>\n",
       "      <td>2021-05-30 00:00:00</td>\n",
       "      <td>Notes_13532685798_4823397982_20210530.txt</td>\n",
       "      <td>Physician ***** *****       Admit date: ****...</td>\n",
       "    </tr>\n",
       "    <tr>\n",
       "      <th>3</th>\n",
       "      <td>114557355</td>\n",
       "      <td>2022-07-22 00:00:00</td>\n",
       "      <td>Notes_13620259495_8489742841_20220722.txt</td>\n",
       "      <td>Physician ***** *****       Admit date: ****...</td>\n",
       "    </tr>\n",
       "    <tr>\n",
       "      <th>4</th>\n",
       "      <td>114329029</td>\n",
       "      <td>2018-05-15 00:00:00</td>\n",
       "      <td>Notes_13356996149_1753656538_20180515.txt</td>\n",
       "      <td>Physician ***** *****       Admit date: ****...</td>\n",
       "    </tr>\n",
       "  </tbody>\n",
       "</table>\n",
       "</div>"
      ],
      "text/plain": [
       "   BDSPPatientID             NoteDate  \\\n",
       "0      118374115  2018-11-20 00:00:00   \n",
       "1      116931824  2022-12-29 00:00:00   \n",
       "2      118587891  2021-05-30 00:00:00   \n",
       "3      114557355  2022-07-22 00:00:00   \n",
       "4      114329029  2018-05-15 00:00:00   \n",
       "\n",
       "                                   NoteTitle  \\\n",
       "0  Notes_13333491432_2130196704_20181120.txt   \n",
       "1  Notes_13563868206_7830407523_20221229.txt   \n",
       "2  Notes_13532685798_4823397982_20210530.txt   \n",
       "3  Notes_13620259495_8489742841_20220722.txt   \n",
       "4  Notes_13356996149_1753656538_20180515.txt   \n",
       "\n",
       "                                                text  \n",
       "0    Physician ***** *****       Admit date: ****...  \n",
       "1    Physician ***** *****       Admit date: ****...  \n",
       "2    Physician ***** *****       Admit date: ****...  \n",
       "3    Physician ***** *****       Admit date: ****...  \n",
       "4    Physician ***** *****       Admit date: ****...  "
      ]
     },
     "execution_count": 9,
     "metadata": {},
     "output_type": "execute_result"
    }
   ],
   "source": [
    "filtered_icd_cohort = unfiltered_icd_cohort.drop(index=false_indeces)\n",
    "filtered_icd_cohort = filtered_icd_cohort.drop(columns='valid')\n",
    "print(len(filtered_icd_cohort))\n",
    "filtered_icd_cohort.head()"
   ]
  },
  {
   "cell_type": "code",
   "execution_count": 10,
   "metadata": {},
   "outputs": [],
   "source": [
    "# write to csv\n",
    "filtered_icd_cohort.to_csv('MGB_icd_pos_cohort.csv', index=False)"
   ]
  }
 ],
 "metadata": {
  "kernelspec": {
   "display_name": "NAX",
   "language": "python",
   "name": "python3"
  },
  "language_info": {
   "codemirror_mode": {
    "name": "ipython",
    "version": 3
   },
   "file_extension": ".py",
   "mimetype": "text/x-python",
   "name": "python",
   "nbconvert_exporter": "python",
   "pygments_lexer": "ipython3",
   "version": "3.1.-1"
  }
 },
 "nbformat": 4,
 "nbformat_minor": 2
}
