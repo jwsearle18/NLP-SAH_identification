{
 "cells": [
  {
   "cell_type": "code",
   "execution_count": 1,
   "metadata": {},
   "outputs": [],
   "source": [
    "# imports\n",
    "import pandas as pd\n",
    "from thunderpack import ThunderReader\n",
    "from tqdm import tqdm\n",
    "import re"
   ]
  },
  {
   "cell_type": "markdown",
   "metadata": {},
   "source": [
    "# Goal of this notebook:\n",
    " - Filter my current dataframe (1_icd_plus_df.csv) to only include patients who have either had a head CT or a brain MRI\n",
    " - Plan to do so:\n",
    "   - Read in cpt df\n",
    "   - Filter for head CT and brain MRI codes\n",
    "   - Extract list of patient ID's\n",
    "   - Read in 1_icd_plus_df.csv\n",
    "   - Pull ID column, compare with cpt ID's, and keep overlap\n",
    "   - Filter 1_icd_plus_df based on the new list"
   ]
  },
  {
   "cell_type": "code",
   "execution_count": 2,
   "metadata": {},
   "outputs": [
    {
     "name": "stdout",
     "output_type": "stream",
     "text": [
      "735\n"
     ]
    }
   ],
   "source": [
    "reader = ThunderReader('/home/jsearle/bigDrive/Dropbox/zz_EHR_Thunderpacks/MGB/thunderpack_cpt_1m_MGB')\n",
    "key_length = len(list(reader.keys()))\n",
    "print(key_length)"
   ]
  },
  {
   "cell_type": "markdown",
   "metadata": {},
   "source": [
    "### CPT Codes to filter for:\n",
    "**70450**: \tCT Head or Brain without contrast\\\n",
    "**70460**:\tCT Head or Brain with contrast\\\n",
    "**70470**: \tCT Head or Brain without contrast, followed by contrast and further sections\\\n",
    "**70551**: \tMRI Brain (including brain stem) without contrast\\\n",
    "**70552**: \tMRI Brain (including brain stem) with contrast\\\n",
    "**70553**: \tMRI Brain (including brain stem) without contrast, followed by with contrast"
   ]
  },
  {
   "cell_type": "code",
   "execution_count": 4,
   "metadata": {},
   "outputs": [],
   "source": [
    "# get note metadata for each year\n",
    "# filter by cpt code\n",
    "code_regex = \"(?:70450|70460|70470|70551|70552|70553)\"\n",
    "dfs = []\n",
    "for i in range(1, key_length + 1):\n",
    "    df = reader[f'cpt_partition_{i}']\n",
    "    df = df[df['CPT'].astype(str).str.match(code_regex)]\n",
    "    dfs.append(df)"
   ]
  },
  {
   "cell_type": "code",
   "execution_count": 6,
   "metadata": {},
   "outputs": [
    {
     "name": "stdout",
     "output_type": "stream",
     "text": [
      "2723303\n"
     ]
    },
    {
     "data": {
      "text/html": [
       "<div>\n",
       "<style scoped>\n",
       "    .dataframe tbody tr th:only-of-type {\n",
       "        vertical-align: middle;\n",
       "    }\n",
       "\n",
       "    .dataframe tbody tr th {\n",
       "        vertical-align: top;\n",
       "    }\n",
       "\n",
       "    .dataframe thead th {\n",
       "        text-align: right;\n",
       "    }\n",
       "</style>\n",
       "<table border=\"1\" class=\"dataframe\">\n",
       "  <thead>\n",
       "    <tr style=\"text-align: right;\">\n",
       "      <th></th>\n",
       "      <th>BDSPPatientID</th>\n",
       "      <th>BDSPEncounterID</th>\n",
       "      <th>CPT</th>\n",
       "      <th>StartDTS</th>\n",
       "      <th>EndDTS</th>\n",
       "      <th>BDSPLastModifiedDTS</th>\n",
       "    </tr>\n",
       "  </thead>\n",
       "  <tbody>\n",
       "    <tr>\n",
       "      <th>0</th>\n",
       "      <td>116257406</td>\n",
       "      <td>13555739296</td>\n",
       "      <td>70553</td>\n",
       "      <td>2021-08-15 00:00:00.0000000</td>\n",
       "      <td>2021-08-17 00:00:00.0000000</td>\n",
       "      <td>2022-12-09 09:18:39.4433333</td>\n",
       "    </tr>\n",
       "    <tr>\n",
       "      <th>1</th>\n",
       "      <td>111316311</td>\n",
       "      <td>10342917280</td>\n",
       "      <td>70450</td>\n",
       "      <td>2019-01-01 00:00:00.0000000</td>\n",
       "      <td>2019-01-01 00:00:00.0000000</td>\n",
       "      <td>2023-01-09 10:56:39.1333333</td>\n",
       "    </tr>\n",
       "    <tr>\n",
       "      <th>2</th>\n",
       "      <td>120960333</td>\n",
       "      <td>10659988635</td>\n",
       "      <td>70553</td>\n",
       "      <td>2016-08-30 00:00:00.0000000</td>\n",
       "      <td>2016-08-30 00:00:00.0000000</td>\n",
       "      <td>2023-01-09 10:56:39.1333333</td>\n",
       "    </tr>\n",
       "    <tr>\n",
       "      <th>3</th>\n",
       "      <td>114483137</td>\n",
       "      <td>13426862981</td>\n",
       "      <td>70450</td>\n",
       "      <td>2019-08-18 00:00:00.0000000</td>\n",
       "      <td>2019-08-30 00:00:00.0000000</td>\n",
       "      <td>2022-12-09 08:29:42.8766667</td>\n",
       "    </tr>\n",
       "    <tr>\n",
       "      <th>4</th>\n",
       "      <td>112591416</td>\n",
       "      <td>10780820903</td>\n",
       "      <td>70450</td>\n",
       "      <td>2020-06-18 00:00:00.0000000</td>\n",
       "      <td>2020-06-18 00:00:00.0000000</td>\n",
       "      <td>2023-01-09 10:56:39.1333333</td>\n",
       "    </tr>\n",
       "  </tbody>\n",
       "</table>\n",
       "</div>"
      ],
      "text/plain": [
       "  BDSPPatientID BDSPEncounterID    CPT                     StartDTS  \\\n",
       "0     116257406     13555739296  70553  2021-08-15 00:00:00.0000000   \n",
       "1     111316311     10342917280  70450  2019-01-01 00:00:00.0000000   \n",
       "2     120960333     10659988635  70553  2016-08-30 00:00:00.0000000   \n",
       "3     114483137     13426862981  70450  2019-08-18 00:00:00.0000000   \n",
       "4     112591416     10780820903  70450  2020-06-18 00:00:00.0000000   \n",
       "\n",
       "                        EndDTS          BDSPLastModifiedDTS  \n",
       "0  2021-08-17 00:00:00.0000000  2022-12-09 09:18:39.4433333  \n",
       "1  2019-01-01 00:00:00.0000000  2023-01-09 10:56:39.1333333  \n",
       "2  2016-08-30 00:00:00.0000000  2023-01-09 10:56:39.1333333  \n",
       "3  2019-08-30 00:00:00.0000000  2022-12-09 08:29:42.8766667  \n",
       "4  2020-06-18 00:00:00.0000000  2023-01-09 10:56:39.1333333  "
      ]
     },
     "execution_count": 6,
     "metadata": {},
     "output_type": "execute_result"
    }
   ],
   "source": [
    "# show dataframe, number of discharge summaries\n",
    "df = pd.concat(dfs, axis=0, ignore_index=True)\n",
    "print(len(df))\n",
    "df.head()"
   ]
  },
  {
   "cell_type": "code",
   "execution_count": 17,
   "metadata": {},
   "outputs": [
    {
     "name": "stdout",
     "output_type": "stream",
     "text": [
      "430691\n"
     ]
    }
   ],
   "source": [
    "# only include get 1 per patient, filtering for those that have ever gotten CT Head or MRI\n",
    "cpt_pt_ids = set(df['BDSPPatientID'])\n",
    "print(len(cpt_pt_ids))"
   ]
  },
  {
   "cell_type": "code",
   "execution_count": 11,
   "metadata": {},
   "outputs": [
    {
     "data": {
      "text/html": [
       "<div>\n",
       "<style scoped>\n",
       "    .dataframe tbody tr th:only-of-type {\n",
       "        vertical-align: middle;\n",
       "    }\n",
       "\n",
       "    .dataframe tbody tr th {\n",
       "        vertical-align: top;\n",
       "    }\n",
       "\n",
       "    .dataframe thead th {\n",
       "        text-align: right;\n",
       "    }\n",
       "</style>\n",
       "<table border=\"1\" class=\"dataframe\">\n",
       "  <thead>\n",
       "    <tr style=\"text-align: right;\">\n",
       "      <th></th>\n",
       "      <th>BDSPPatientID</th>\n",
       "      <th>DateICD</th>\n",
       "      <th>ICD</th>\n",
       "      <th>DateNote</th>\n",
       "      <th>NoteTextFile</th>\n",
       "    </tr>\n",
       "  </thead>\n",
       "  <tbody>\n",
       "    <tr>\n",
       "      <th>0</th>\n",
       "      <td>116398048.0</td>\n",
       "      <td>2018-03-09</td>\n",
       "      <td>430</td>\n",
       "      <td>2018-03-20</td>\n",
       "      <td>Notes_13437596114_2097038735_20180320.txt</td>\n",
       "    </tr>\n",
       "    <tr>\n",
       "      <th>1</th>\n",
       "      <td>113080217.0</td>\n",
       "      <td>2022-10-10</td>\n",
       "      <td>430</td>\n",
       "      <td>2022-10-28</td>\n",
       "      <td>Notes_13604817952_9087332343_20221028.txt</td>\n",
       "    </tr>\n",
       "    <tr>\n",
       "      <th>2</th>\n",
       "      <td>113027749.0</td>\n",
       "      <td>2015-06-07</td>\n",
       "      <td>430</td>\n",
       "      <td>2015-06-20</td>\n",
       "      <td>Notes_13246458168_980626991_20150620.txt</td>\n",
       "    </tr>\n",
       "    <tr>\n",
       "      <th>3</th>\n",
       "      <td>118319033.0</td>\n",
       "      <td>2015-11-16</td>\n",
       "      <td>430</td>\n",
       "      <td>2015-11-06</td>\n",
       "      <td>Notes_13276057829_1044044733_20151106.txt</td>\n",
       "    </tr>\n",
       "    <tr>\n",
       "      <th>4</th>\n",
       "      <td>120036000.0</td>\n",
       "      <td>2020-02-28</td>\n",
       "      <td>430</td>\n",
       "      <td>2020-03-01</td>\n",
       "      <td>Notes_13476104223_4893859211_20200301.txt</td>\n",
       "    </tr>\n",
       "  </tbody>\n",
       "</table>\n",
       "</div>"
      ],
      "text/plain": [
       "   BDSPPatientID     DateICD  ICD    DateNote  \\\n",
       "0    116398048.0  2018-03-09  430  2018-03-20   \n",
       "1    113080217.0  2022-10-10  430  2022-10-28   \n",
       "2    113027749.0  2015-06-07  430  2015-06-20   \n",
       "3    118319033.0  2015-11-16  430  2015-11-06   \n",
       "4    120036000.0  2020-02-28  430  2020-03-01   \n",
       "\n",
       "                                NoteTextFile  \n",
       "0  Notes_13437596114_2097038735_20180320.txt  \n",
       "1  Notes_13604817952_9087332343_20221028.txt  \n",
       "2   Notes_13246458168_980626991_20150620.txt  \n",
       "3  Notes_13276057829_1044044733_20151106.txt  \n",
       "4  Notes_13476104223_4893859211_20200301.txt  "
      ]
     },
     "execution_count": 11,
     "metadata": {},
     "output_type": "execute_result"
    }
   ],
   "source": [
    "# read in discharge summaries df\n",
    "icd_discharge_df = pd.read_csv('2_discharge_summaries_df.csv')\n",
    "icd_discharge_df.head()\n"
   ]
  },
  {
   "cell_type": "code",
   "execution_count": 12,
   "metadata": {},
   "outputs": [
    {
     "name": "stdout",
     "output_type": "stream",
     "text": [
      "<class 'numpy.float64'>\n",
      "<class 'str'>\n"
     ]
    }
   ],
   "source": [
    "print(type(icd_discharge_df['BDSPPatientID'][0]))\n",
    "print(type(df['BDSPPatientID'][0]))"
   ]
  },
  {
   "cell_type": "code",
   "execution_count": 15,
   "metadata": {},
   "outputs": [],
   "source": [
    "# make patient IDs same type\n",
    "icd_discharge_df['BDSPPatientID'] = icd_discharge_df['BDSPPatientID'].astype(int).astype(str)\n",
    "\n",
    "icd_discharge_pt_ids = set(icd_discharge_df['BDSPPatientID'])"
   ]
  },
  {
   "cell_type": "code",
   "execution_count": 18,
   "metadata": {},
   "outputs": [
    {
     "name": "stdout",
     "output_type": "stream",
     "text": [
      "1113\n"
     ]
    }
   ],
   "source": [
    "# find the overlap between cpt matching patients and previously filtered patients\n",
    "overlap = cpt_pt_ids.intersection(icd_discharge_pt_ids)\n",
    "print(len(overlap))"
   ]
  },
  {
   "cell_type": "markdown",
   "metadata": {},
   "source": [
    "1,113 patients who overlap.  Let's filter the icd_discharge filtered file to only include those patients"
   ]
  },
  {
   "cell_type": "code",
   "execution_count": 20,
   "metadata": {},
   "outputs": [
    {
     "name": "stdout",
     "output_type": "stream",
     "text": [
      "9491\n"
     ]
    },
    {
     "data": {
      "text/html": [
       "<div>\n",
       "<style scoped>\n",
       "    .dataframe tbody tr th:only-of-type {\n",
       "        vertical-align: middle;\n",
       "    }\n",
       "\n",
       "    .dataframe tbody tr th {\n",
       "        vertical-align: top;\n",
       "    }\n",
       "\n",
       "    .dataframe thead th {\n",
       "        text-align: right;\n",
       "    }\n",
       "</style>\n",
       "<table border=\"1\" class=\"dataframe\">\n",
       "  <thead>\n",
       "    <tr style=\"text-align: right;\">\n",
       "      <th></th>\n",
       "      <th>BDSPPatientID</th>\n",
       "      <th>DateICD</th>\n",
       "      <th>ICD</th>\n",
       "      <th>DateNote</th>\n",
       "      <th>NoteTextFile</th>\n",
       "    </tr>\n",
       "  </thead>\n",
       "  <tbody>\n",
       "    <tr>\n",
       "      <th>0</th>\n",
       "      <td>116398048</td>\n",
       "      <td>2018-03-09</td>\n",
       "      <td>430</td>\n",
       "      <td>2018-03-20</td>\n",
       "      <td>Notes_13437596114_2097038735_20180320.txt</td>\n",
       "    </tr>\n",
       "    <tr>\n",
       "      <th>1</th>\n",
       "      <td>113080217</td>\n",
       "      <td>2022-10-10</td>\n",
       "      <td>430</td>\n",
       "      <td>2022-10-28</td>\n",
       "      <td>Notes_13604817952_9087332343_20221028.txt</td>\n",
       "    </tr>\n",
       "    <tr>\n",
       "      <th>2</th>\n",
       "      <td>113027749</td>\n",
       "      <td>2015-06-07</td>\n",
       "      <td>430</td>\n",
       "      <td>2015-06-20</td>\n",
       "      <td>Notes_13246458168_980626991_20150620.txt</td>\n",
       "    </tr>\n",
       "    <tr>\n",
       "      <th>3</th>\n",
       "      <td>118319033</td>\n",
       "      <td>2015-11-16</td>\n",
       "      <td>430</td>\n",
       "      <td>2015-11-06</td>\n",
       "      <td>Notes_13276057829_1044044733_20151106.txt</td>\n",
       "    </tr>\n",
       "    <tr>\n",
       "      <th>4</th>\n",
       "      <td>120036000</td>\n",
       "      <td>2020-02-28</td>\n",
       "      <td>430</td>\n",
       "      <td>2020-03-01</td>\n",
       "      <td>Notes_13476104223_4893859211_20200301.txt</td>\n",
       "    </tr>\n",
       "  </tbody>\n",
       "</table>\n",
       "</div>"
      ],
      "text/plain": [
       "  BDSPPatientID     DateICD  ICD    DateNote  \\\n",
       "0     116398048  2018-03-09  430  2018-03-20   \n",
       "1     113080217  2022-10-10  430  2022-10-28   \n",
       "2     113027749  2015-06-07  430  2015-06-20   \n",
       "3     118319033  2015-11-16  430  2015-11-06   \n",
       "4     120036000  2020-02-28  430  2020-03-01   \n",
       "\n",
       "                                NoteTextFile  \n",
       "0  Notes_13437596114_2097038735_20180320.txt  \n",
       "1  Notes_13604817952_9087332343_20221028.txt  \n",
       "2   Notes_13246458168_980626991_20150620.txt  \n",
       "3  Notes_13276057829_1044044733_20151106.txt  \n",
       "4  Notes_13476104223_4893859211_20200301.txt  "
      ]
     },
     "execution_count": 20,
     "metadata": {},
     "output_type": "execute_result"
    }
   ],
   "source": [
    "# show length (looks like it filtered out about 400 patients) and current df\n",
    "prepped_df = icd_discharge_df[icd_discharge_df['BDSPPatientID'].isin(overlap)]\n",
    "print(len(prepped_df))\n",
    "prepped_df.head()"
   ]
  },
  {
   "cell_type": "code",
   "execution_count": 22,
   "metadata": {},
   "outputs": [],
   "source": [
    "# save as csv\n",
    "prepped_df.to_csv('3_full_filtered.csv', index=False, header=True, sep=',', na_rep='NA')"
   ]
  }
 ],
 "metadata": {
  "kernelspec": {
   "display_name": "NAX",
   "language": "python",
   "name": "python3"
  },
  "language_info": {
   "codemirror_mode": {
    "name": "ipython",
    "version": 3
   },
   "file_extension": ".py",
   "mimetype": "text/x-python",
   "name": "python",
   "nbconvert_exporter": "python",
   "pygments_lexer": "ipython3",
   "version": "3.12.3"
  }
 },
 "nbformat": 4,
 "nbformat_minor": 2
}
