{
 "cells": [
  {
   "cell_type": "code",
   "execution_count": 2,
   "metadata": {},
   "outputs": [],
   "source": [
    "import pandas as pd\n",
    "from thunderpack import ThunderReader\n",
    "from tqdm import tqdm\n",
    "import tarfile\n",
    "import zipfile\n",
    "import random\n",
    "import os\n",
    "import shutil\n",
    "import re\n",
    "tqdm.pandas()"
   ]
  },
  {
   "cell_type": "markdown",
   "metadata": {},
   "source": [
    "# Goal of this notebook:\n",
    " - Add a column to the dataframe which includes the text of the note associated with the row\n",
    " - Plan:\n",
    "    - Figure out how to open tar archive from here\n",
    "    - Create a function that opens the tar archive, finds the file, and extracts the text\n",
    "    - Make a pandas series from these text blocks and append to the initial dataframe"
   ]
  },
  {
   "cell_type": "code",
   "execution_count": 3,
   "metadata": {},
   "outputs": [
    {
     "data": {
      "text/html": [
       "<div>\n",
       "<style scoped>\n",
       "    .dataframe tbody tr th:only-of-type {\n",
       "        vertical-align: middle;\n",
       "    }\n",
       "\n",
       "    .dataframe tbody tr th {\n",
       "        vertical-align: top;\n",
       "    }\n",
       "\n",
       "    .dataframe thead th {\n",
       "        text-align: right;\n",
       "    }\n",
       "</style>\n",
       "<table border=\"1\" class=\"dataframe\">\n",
       "  <thead>\n",
       "    <tr style=\"text-align: right;\">\n",
       "      <th></th>\n",
       "      <th>BDSPPatientID</th>\n",
       "      <th>DateICD</th>\n",
       "      <th>ICD</th>\n",
       "      <th>DateNote</th>\n",
       "      <th>NoteTextFile</th>\n",
       "    </tr>\n",
       "  </thead>\n",
       "  <tbody>\n",
       "    <tr>\n",
       "      <th>0</th>\n",
       "      <td>114316265</td>\n",
       "      <td>2023-01-24</td>\n",
       "      <td>430</td>\n",
       "      <td>2022-12-25</td>\n",
       "      <td>Notes_13605828901_9002141910_20221225.txt</td>\n",
       "    </tr>\n",
       "    <tr>\n",
       "      <th>1</th>\n",
       "      <td>120110560</td>\n",
       "      <td>2023-06-12</td>\n",
       "      <td>430</td>\n",
       "      <td>2023-06-25</td>\n",
       "      <td>Notes_13629086394_8327863776_20230625.txt</td>\n",
       "    </tr>\n",
       "    <tr>\n",
       "      <th>2</th>\n",
       "      <td>119573164</td>\n",
       "      <td>2021-02-13</td>\n",
       "      <td>I60.9</td>\n",
       "      <td>2021-02-23</td>\n",
       "      <td>Notes_13589736564_5567001557_20210223.txt</td>\n",
       "    </tr>\n",
       "    <tr>\n",
       "      <th>3</th>\n",
       "      <td>112030232</td>\n",
       "      <td>2021-05-07</td>\n",
       "      <td>430</td>\n",
       "      <td>2021-05-18</td>\n",
       "      <td>Notes_13566019013_5701887197_20210518.txt</td>\n",
       "    </tr>\n",
       "    <tr>\n",
       "      <th>4</th>\n",
       "      <td>111905857</td>\n",
       "      <td>2020-10-26</td>\n",
       "      <td>430</td>\n",
       "      <td>2020-10-02</td>\n",
       "      <td>Notes_13534548179_4160128051_20201002.txt</td>\n",
       "    </tr>\n",
       "  </tbody>\n",
       "</table>\n",
       "</div>"
      ],
      "text/plain": [
       "   BDSPPatientID     DateICD    ICD    DateNote  \\\n",
       "0      114316265  2023-01-24    430  2022-12-25   \n",
       "1      120110560  2023-06-12    430  2023-06-25   \n",
       "2      119573164  2021-02-13  I60.9  2021-02-23   \n",
       "3      112030232  2021-05-07    430  2021-05-18   \n",
       "4      111905857  2020-10-26    430  2020-10-02   \n",
       "\n",
       "                                NoteTextFile  \n",
       "0  Notes_13605828901_9002141910_20221225.txt  \n",
       "1  Notes_13629086394_8327863776_20230625.txt  \n",
       "2  Notes_13589736564_5567001557_20210223.txt  \n",
       "3  Notes_13566019013_5701887197_20210518.txt  \n",
       "4  Notes_13534548179_4160128051_20201002.txt  "
      ]
     },
     "execution_count": 3,
     "metadata": {},
     "output_type": "execute_result"
    }
   ],
   "source": [
    "rand_filtered_df = pd.read_csv('4_rand_filtered_df.csv')\n",
    "rand_filtered_df.head()"
   ]
  },
  {
   "cell_type": "code",
   "execution_count": 4,
   "metadata": {},
   "outputs": [],
   "source": [
    "def convert_tar_to_zip(tar_path, zip_path):\n",
    "    with tarfile.open(tar_path, 'r') as tar:\n",
    "        with zipfile.ZipFile(zip_path, 'w') as zipf:\n",
    "            for member in tqdm(tar.getmembers()):\n",
    "                file_obj = tar.extractfile(member)\n",
    "                if file_obj is not None:\n",
    "                    zipf.writestr(member.name, file_obj.read())\n",
    "\n",
    "# This will extract the year from the file name\n",
    "def extract_year(file_name):\n",
    "    match = re.search(r'_(\\d{8})\\.txt$', file_name)\n",
    "    if match:\n",
    "        return match.group(1)[:4]\n",
    "    return None\n",
    "def read_file_from_zip(base_path, file_name):\n",
    "    year = extract_year(file_name)\n",
    "    if year:\n",
    "        zip_path = f'{base_path}/mgb_notes_{year}.zip'\n",
    "        try:\n",
    "            with zipfile.ZipFile(zip_path, 'r') as zipf:\n",
    "                with zipf.open(f'{year}/{file_name}') as file:\n",
    "                    content = file.read()\n",
    "                    return content.decode('utf-8', errors = 'ignore')\n",
    "        except (KeyError, FileNotFoundError):\n",
    "            return None\n",
    "    return None"
   ]
  },
  {
   "cell_type": "code",
   "execution_count": 7,
   "metadata": {},
   "outputs": [
    {
     "name": "stderr",
     "output_type": "stream",
     "text": [
      "100%|██████████| 10/10 [00:00<00:00, 13815.23it/s]\n",
      "100%|██████████| 262376/262376 [00:19<00:00, 13284.03it/s]\n",
      "100%|██████████| 987181/987181 [01:11<00:00, 13777.94it/s]\n",
      "100%|██████████| 2139314/2139314 [02:46<00:00, 12834.39it/s]\n",
      "100%|██████████| 3060365/3060365 [04:09<00:00, 12254.40it/s]\n",
      "100%|██████████| 3349298/3349298 [04:39<00:00, 12003.57it/s]\n",
      "100%|██████████| 3364270/3364270 [04:36<00:00, 12182.74it/s]\n",
      "100%|██████████| 3593080/3593080 [05:02<00:00, 11859.20it/s]\n",
      "100%|██████████| 3610844/3610844 [05:13<00:00, 11532.53it/s]\n",
      "100%|██████████| 3487666/3487666 [05:14<00:00, 11073.25it/s]\n",
      "100%|██████████| 2434870/2434870 [03:28<00:00, 11662.12it/s]\n",
      "100%|██████████| 726732/726732 [00:47<00:00, 15150.90it/s]\n",
      "100%|██████████| 12/12 [1:01:27<00:00, 307.31s/it]\n"
     ]
    }
   ],
   "source": [
    "year = 2013\n",
    "for i in tqdm(range(0, 12)):\n",
    "    tar_file_path = f'/home/jsearle/bigDrive/Dropbox/zz_EHR_Thunderpacks/MGB/MGB_Deidentified_Notes_March12th2024/mgb_notes_{year + i}.tar'\n",
    "    zip_file_path = f'/home/jsearle/bigDrive/NAX/zipNotes/MGB/mgb_notes_{year + i}.zip'\n",
    "    convert_tar_to_zip(tar_file_path, zip_file_path)"
   ]
  },
  {
   "cell_type": "code",
   "execution_count": 8,
   "metadata": {},
   "outputs": [
    {
     "name": "stderr",
     "output_type": "stream",
     "text": [
      "100%|██████████| 1113/1113 [5:38:41<00:00, 18.26s/it] \n"
     ]
    }
   ],
   "source": [
    "base_path = '/home/jsearle/bigDrive/NAX/zipNotes/MGB'\n",
    "\n",
    "rand_filtered_df['text'] = rand_filtered_df['NoteTextFile'].progress_apply(lambda x: read_file_from_zip(base_path, x))\n",
    "\n",
    "rand_filtered_df.to_csv('cohort_plus_text.csv', index=False, header=True, sep=',', na_rep='NA')"
   ]
  },
  {
   "cell_type": "code",
   "execution_count": 10,
   "metadata": {},
   "outputs": [
    {
     "name": "stdout",
     "output_type": "stream",
     "text": [
      "1113\n"
     ]
    }
   ],
   "source": [
    "rand_filtered_df.head()\n",
    "print(len(rand_filtered_df))"
   ]
  },
  {
   "cell_type": "code",
   "execution_count": 11,
   "metadata": {},
   "outputs": [],
   "source": [
    "def check_word_count(text, threshold):\n",
    "    word_count = len(text.split())\n",
    "    return word_count > threshold"
   ]
  },
  {
   "cell_type": "code",
   "execution_count": 12,
   "metadata": {},
   "outputs": [
    {
     "data": {
      "text/html": [
       "<div>\n",
       "<style scoped>\n",
       "    .dataframe tbody tr th:only-of-type {\n",
       "        vertical-align: middle;\n",
       "    }\n",
       "\n",
       "    .dataframe tbody tr th {\n",
       "        vertical-align: top;\n",
       "    }\n",
       "\n",
       "    .dataframe thead th {\n",
       "        text-align: right;\n",
       "    }\n",
       "</style>\n",
       "<table border=\"1\" class=\"dataframe\">\n",
       "  <thead>\n",
       "    <tr style=\"text-align: right;\">\n",
       "      <th></th>\n",
       "      <th>BDSPPatientID</th>\n",
       "      <th>DateICD</th>\n",
       "      <th>ICD</th>\n",
       "      <th>DateNote</th>\n",
       "      <th>NoteTextFile</th>\n",
       "      <th>text</th>\n",
       "      <th>valid</th>\n",
       "    </tr>\n",
       "  </thead>\n",
       "  <tbody>\n",
       "    <tr>\n",
       "      <th>0</th>\n",
       "      <td>114316265</td>\n",
       "      <td>2023-01-24</td>\n",
       "      <td>430</td>\n",
       "      <td>2022-12-25</td>\n",
       "      <td>Notes_13605828901_9002141910_20221225.txt</td>\n",
       "      <td>Physician ***** *****       Admit date: ****...</td>\n",
       "      <td>True</td>\n",
       "    </tr>\n",
       "    <tr>\n",
       "      <th>1</th>\n",
       "      <td>120110560</td>\n",
       "      <td>2023-06-12</td>\n",
       "      <td>430</td>\n",
       "      <td>2023-06-25</td>\n",
       "      <td>Notes_13629086394_8327863776_20230625.txt</td>\n",
       "      <td>Physician ***** *****       Admit date: ****...</td>\n",
       "      <td>True</td>\n",
       "    </tr>\n",
       "    <tr>\n",
       "      <th>2</th>\n",
       "      <td>119573164</td>\n",
       "      <td>2021-02-13</td>\n",
       "      <td>I60.9</td>\n",
       "      <td>2021-02-23</td>\n",
       "      <td>Notes_13589736564_5567001557_20210223.txt</td>\n",
       "      <td>Physician ***** *****       Admit date: ****...</td>\n",
       "      <td>True</td>\n",
       "    </tr>\n",
       "    <tr>\n",
       "      <th>3</th>\n",
       "      <td>112030232</td>\n",
       "      <td>2021-05-07</td>\n",
       "      <td>430</td>\n",
       "      <td>2021-05-18</td>\n",
       "      <td>Notes_13566019013_5701887197_20210518.txt</td>\n",
       "      <td>Physician ***** *****       Admit date: ****...</td>\n",
       "      <td>True</td>\n",
       "    </tr>\n",
       "    <tr>\n",
       "      <th>4</th>\n",
       "      <td>111905857</td>\n",
       "      <td>2020-10-26</td>\n",
       "      <td>430</td>\n",
       "      <td>2020-10-02</td>\n",
       "      <td>Notes_13534548179_4160128051_20201002.txt</td>\n",
       "      <td>Physician ***** *****       Admit date: ****...</td>\n",
       "      <td>True</td>\n",
       "    </tr>\n",
       "  </tbody>\n",
       "</table>\n",
       "</div>"
      ],
      "text/plain": [
       "   BDSPPatientID     DateICD    ICD    DateNote  \\\n",
       "0      114316265  2023-01-24    430  2022-12-25   \n",
       "1      120110560  2023-06-12    430  2023-06-25   \n",
       "2      119573164  2021-02-13  I60.9  2021-02-23   \n",
       "3      112030232  2021-05-07    430  2021-05-18   \n",
       "4      111905857  2020-10-26    430  2020-10-02   \n",
       "\n",
       "                                NoteTextFile  \\\n",
       "0  Notes_13605828901_9002141910_20221225.txt   \n",
       "1  Notes_13629086394_8327863776_20230625.txt   \n",
       "2  Notes_13589736564_5567001557_20210223.txt   \n",
       "3  Notes_13566019013_5701887197_20210518.txt   \n",
       "4  Notes_13534548179_4160128051_20201002.txt   \n",
       "\n",
       "                                                text  valid  \n",
       "0    Physician ***** *****       Admit date: ****...   True  \n",
       "1    Physician ***** *****       Admit date: ****...   True  \n",
       "2    Physician ***** *****       Admit date: ****...   True  \n",
       "3    Physician ***** *****       Admit date: ****...   True  \n",
       "4    Physician ***** *****       Admit date: ****...   True  "
      ]
     },
     "execution_count": 12,
     "metadata": {},
     "output_type": "execute_result"
    }
   ],
   "source": [
    "threshold = 500\n",
    "rand_filtered_df['valid'] = rand_filtered_df['text'].apply(lambda x: check_word_count(x, threshold))\n",
    "rand_filtered_df.head()"
   ]
  },
  {
   "cell_type": "code",
   "execution_count": 13,
   "metadata": {},
   "outputs": [
    {
     "name": "stdout",
     "output_type": "stream",
     "text": [
      "1087\n"
     ]
    }
   ],
   "source": [
    "numValid = sum(rand_filtered_df['valid'])\n",
    "print(numValid)"
   ]
  },
  {
   "cell_type": "code",
   "execution_count": 14,
   "metadata": {},
   "outputs": [
    {
     "name": "stdout",
     "output_type": "stream",
     "text": [
      "[37, 64, 83, 201, 249, 270, 303, 336, 409, 415, 449, 451, 454, 468, 506, 524, 559, 582, 588, 592, 858, 884, 946, 996, 1074, 1105]\n"
     ]
    }
   ],
   "source": [
    "false_indeces = rand_filtered_df.index[~rand_filtered_df['valid']].tolist()\n",
    "print(false_indeces)"
   ]
  },
  {
   "cell_type": "code",
   "execution_count": 16,
   "metadata": {},
   "outputs": [
    {
     "name": "stdout",
     "output_type": "stream",
     "text": [
      "1087\n"
     ]
    },
    {
     "data": {
      "text/html": [
       "<div>\n",
       "<style scoped>\n",
       "    .dataframe tbody tr th:only-of-type {\n",
       "        vertical-align: middle;\n",
       "    }\n",
       "\n",
       "    .dataframe tbody tr th {\n",
       "        vertical-align: top;\n",
       "    }\n",
       "\n",
       "    .dataframe thead th {\n",
       "        text-align: right;\n",
       "    }\n",
       "</style>\n",
       "<table border=\"1\" class=\"dataframe\">\n",
       "  <thead>\n",
       "    <tr style=\"text-align: right;\">\n",
       "      <th></th>\n",
       "      <th>BDSPPatientID</th>\n",
       "      <th>DateICD</th>\n",
       "      <th>ICD</th>\n",
       "      <th>DateNote</th>\n",
       "      <th>NoteTextFile</th>\n",
       "      <th>text</th>\n",
       "      <th>valid</th>\n",
       "    </tr>\n",
       "  </thead>\n",
       "  <tbody>\n",
       "    <tr>\n",
       "      <th>0</th>\n",
       "      <td>114316265</td>\n",
       "      <td>2023-01-24</td>\n",
       "      <td>430</td>\n",
       "      <td>2022-12-25</td>\n",
       "      <td>Notes_13605828901_9002141910_20221225.txt</td>\n",
       "      <td>Physician ***** *****       Admit date: ****...</td>\n",
       "      <td>True</td>\n",
       "    </tr>\n",
       "    <tr>\n",
       "      <th>1</th>\n",
       "      <td>120110560</td>\n",
       "      <td>2023-06-12</td>\n",
       "      <td>430</td>\n",
       "      <td>2023-06-25</td>\n",
       "      <td>Notes_13629086394_8327863776_20230625.txt</td>\n",
       "      <td>Physician ***** *****       Admit date: ****...</td>\n",
       "      <td>True</td>\n",
       "    </tr>\n",
       "    <tr>\n",
       "      <th>2</th>\n",
       "      <td>119573164</td>\n",
       "      <td>2021-02-13</td>\n",
       "      <td>I60.9</td>\n",
       "      <td>2021-02-23</td>\n",
       "      <td>Notes_13589736564_5567001557_20210223.txt</td>\n",
       "      <td>Physician ***** *****       Admit date: ****...</td>\n",
       "      <td>True</td>\n",
       "    </tr>\n",
       "    <tr>\n",
       "      <th>3</th>\n",
       "      <td>112030232</td>\n",
       "      <td>2021-05-07</td>\n",
       "      <td>430</td>\n",
       "      <td>2021-05-18</td>\n",
       "      <td>Notes_13566019013_5701887197_20210518.txt</td>\n",
       "      <td>Physician ***** *****       Admit date: ****...</td>\n",
       "      <td>True</td>\n",
       "    </tr>\n",
       "    <tr>\n",
       "      <th>4</th>\n",
       "      <td>111905857</td>\n",
       "      <td>2020-10-26</td>\n",
       "      <td>430</td>\n",
       "      <td>2020-10-02</td>\n",
       "      <td>Notes_13534548179_4160128051_20201002.txt</td>\n",
       "      <td>Physician ***** *****       Admit date: ****...</td>\n",
       "      <td>True</td>\n",
       "    </tr>\n",
       "  </tbody>\n",
       "</table>\n",
       "</div>"
      ],
      "text/plain": [
       "   BDSPPatientID     DateICD    ICD    DateNote  \\\n",
       "0      114316265  2023-01-24    430  2022-12-25   \n",
       "1      120110560  2023-06-12    430  2023-06-25   \n",
       "2      119573164  2021-02-13  I60.9  2021-02-23   \n",
       "3      112030232  2021-05-07    430  2021-05-18   \n",
       "4      111905857  2020-10-26    430  2020-10-02   \n",
       "\n",
       "                                NoteTextFile  \\\n",
       "0  Notes_13605828901_9002141910_20221225.txt   \n",
       "1  Notes_13629086394_8327863776_20230625.txt   \n",
       "2  Notes_13589736564_5567001557_20210223.txt   \n",
       "3  Notes_13566019013_5701887197_20210518.txt   \n",
       "4  Notes_13534548179_4160128051_20201002.txt   \n",
       "\n",
       "                                                text  valid  \n",
       "0    Physician ***** *****       Admit date: ****...   True  \n",
       "1    Physician ***** *****       Admit date: ****...   True  \n",
       "2    Physician ***** *****       Admit date: ****...   True  \n",
       "3    Physician ***** *****       Admit date: ****...   True  \n",
       "4    Physician ***** *****       Admit date: ****...   True  "
      ]
     },
     "execution_count": 16,
     "metadata": {},
     "output_type": "execute_result"
    }
   ],
   "source": [
    "final_icd_plus_df = rand_filtered_df.drop(index=false_indeces)\n",
    "print(len(final_icd_plus_df))\n",
    "final_icd_plus_df.head()"
   ]
  },
  {
   "cell_type": "code",
   "execution_count": 17,
   "metadata": {},
   "outputs": [],
   "source": [
    "# write to csv\n",
    "final_icd_plus_df.to_csv('5_final_icd_plus_df.csv', index=False)"
   ]
  },
  {
   "cell_type": "code",
   "execution_count": null,
   "metadata": {},
   "outputs": [],
   "source": [
    "final_icd_plus_df = pd.read_csv('5_final_icd_plus_df.csv')"
   ]
  },
  {
   "cell_type": "code",
   "execution_count": null,
   "metadata": {},
   "outputs": [],
   "source": [
    "# df cleanup\n",
    "keepColumns = ['BDSPPatientID', 'DateNote',  'NoteTextFile', 'text']\n",
    "clean_final_icd_plus_df = final_icd_plus_df[keepColumns]\n",
    "\n",
    "clean_final_icd_plus_df.head()"
   ]
  }
 ],
 "metadata": {
  "kernelspec": {
   "display_name": "NAX",
   "language": "python",
   "name": "python3"
  },
  "language_info": {
   "codemirror_mode": {
    "name": "ipython",
    "version": 3
   },
   "file_extension": ".py",
   "mimetype": "text/x-python",
   "name": "python",
   "nbconvert_exporter": "python",
   "pygments_lexer": "ipython3",
   "version": "3.12.3"
  }
 },
 "nbformat": 4,
 "nbformat_minor": 2
}
