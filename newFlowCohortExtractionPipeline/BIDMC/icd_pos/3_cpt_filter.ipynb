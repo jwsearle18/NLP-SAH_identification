{
 "cells": [
  {
   "cell_type": "code",
   "execution_count": 1,
   "metadata": {},
   "outputs": [],
   "source": [
    "import pandas as pd\n",
    "from thunderpack import ThunderReader\n",
    "from tqdm import tqdm\n",
    "import tarfile\n",
    "import zipfile\n",
    "import random\n",
    "import os\n",
    "import shutil\n",
    "import re\n",
    "tqdm.pandas()"
   ]
  },
  {
   "cell_type": "markdown",
   "metadata": {},
   "source": [
    "## Goal\n",
    "Filter notes to only include those with Brain MRI or CT Head\n",
    "- Search through notes with regex for keywords \n",
    "    - If any are there, keep it, else, drop it"
   ]
  },
  {
   "cell_type": "code",
   "execution_count": 11,
   "metadata": {},
   "outputs": [
    {
     "data": {
      "text/html": [
       "<div>\n",
       "<style scoped>\n",
       "    .dataframe tbody tr th:only-of-type {\n",
       "        vertical-align: middle;\n",
       "    }\n",
       "\n",
       "    .dataframe tbody tr th {\n",
       "        vertical-align: top;\n",
       "    }\n",
       "\n",
       "    .dataframe thead th {\n",
       "        text-align: right;\n",
       "    }\n",
       "</style>\n",
       "<table border=\"1\" class=\"dataframe\">\n",
       "  <thead>\n",
       "    <tr style=\"text-align: right;\">\n",
       "      <th></th>\n",
       "      <th>BDSPPatientID</th>\n",
       "      <th>AdmissionDate</th>\n",
       "      <th>ICD</th>\n",
       "      <th>NoteDate</th>\n",
       "      <th>NoteTitle</th>\n",
       "    </tr>\n",
       "  </thead>\n",
       "  <tbody>\n",
       "    <tr>\n",
       "      <th>0</th>\n",
       "      <td>150000004</td>\n",
       "      <td>2012-11-05</td>\n",
       "      <td>430</td>\n",
       "      <td>2012-11-05</td>\n",
       "      <td>Notes_1129858847_225334705_20121105.txt</td>\n",
       "    </tr>\n",
       "    <tr>\n",
       "      <th>1</th>\n",
       "      <td>150000004</td>\n",
       "      <td>2012-11-05</td>\n",
       "      <td>430</td>\n",
       "      <td>2012-11-21</td>\n",
       "      <td>Notes_1129858847_903347020_20121121.txt</td>\n",
       "    </tr>\n",
       "    <tr>\n",
       "      <th>2</th>\n",
       "      <td>150000004</td>\n",
       "      <td>2012-11-05</td>\n",
       "      <td>430</td>\n",
       "      <td>2012-11-21</td>\n",
       "      <td>Notes_1129858847_903347022_20121121.txt</td>\n",
       "    </tr>\n",
       "    <tr>\n",
       "      <th>3</th>\n",
       "      <td>150000004</td>\n",
       "      <td>2012-11-05</td>\n",
       "      <td>430</td>\n",
       "      <td>2012-11-25</td>\n",
       "      <td>Notes_1129858847_903347025_20121125.txt</td>\n",
       "    </tr>\n",
       "    <tr>\n",
       "      <th>4</th>\n",
       "      <td>150000004</td>\n",
       "      <td>2012-11-05</td>\n",
       "      <td>430</td>\n",
       "      <td>2012-11-28</td>\n",
       "      <td>Notes_1129858847_903347027_20121128.txt</td>\n",
       "    </tr>\n",
       "  </tbody>\n",
       "</table>\n",
       "</div>"
      ],
      "text/plain": [
       "   BDSPPatientID AdmissionDate     ICD    NoteDate  \\\n",
       "0      150000004    2012-11-05  430     2012-11-05   \n",
       "1      150000004    2012-11-05  430     2012-11-21   \n",
       "2      150000004    2012-11-05  430     2012-11-21   \n",
       "3      150000004    2012-11-05  430     2012-11-25   \n",
       "4      150000004    2012-11-05  430     2012-11-28   \n",
       "\n",
       "                                 NoteTitle  \n",
       "0  Notes_1129858847_225334705_20121105.txt  \n",
       "1  Notes_1129858847_903347020_20121121.txt  \n",
       "2  Notes_1129858847_903347022_20121121.txt  \n",
       "3  Notes_1129858847_903347025_20121125.txt  \n",
       "4  Notes_1129858847_903347027_20121128.txt  "
      ]
     },
     "execution_count": 11,
     "metadata": {},
     "output_type": "execute_result"
    }
   ],
   "source": [
    "admission_notes_df = pd.read_csv('2_admission_notes_df.csv')\n",
    "admission_notes_df.head()"
   ]
  },
  {
   "cell_type": "code",
   "execution_count": 12,
   "metadata": {},
   "outputs": [
    {
     "data": {
      "text/html": [
       "<div>\n",
       "<style scoped>\n",
       "    .dataframe tbody tr th:only-of-type {\n",
       "        vertical-align: middle;\n",
       "    }\n",
       "\n",
       "    .dataframe tbody tr th {\n",
       "        vertical-align: top;\n",
       "    }\n",
       "\n",
       "    .dataframe thead th {\n",
       "        text-align: right;\n",
       "    }\n",
       "</style>\n",
       "<table border=\"1\" class=\"dataframe\">\n",
       "  <thead>\n",
       "    <tr style=\"text-align: right;\">\n",
       "      <th></th>\n",
       "      <th>BDSPPatientID</th>\n",
       "      <th>AdmissionDate</th>\n",
       "      <th>ICD</th>\n",
       "      <th>NoteDate</th>\n",
       "      <th>NoteTitle</th>\n",
       "    </tr>\n",
       "  </thead>\n",
       "  <tbody>\n",
       "    <tr>\n",
       "      <th>0</th>\n",
       "      <td>150022059</td>\n",
       "      <td>2021-02-28</td>\n",
       "      <td>I60.9</td>\n",
       "      <td>2021-03-01</td>\n",
       "      <td>Notes_1129881170_2470102250_20210301.txt</td>\n",
       "    </tr>\n",
       "    <tr>\n",
       "      <th>1</th>\n",
       "      <td>151153367</td>\n",
       "      <td>2013-06-08</td>\n",
       "      <td>430</td>\n",
       "      <td>2013-06-08</td>\n",
       "      <td>Notes_1131012445_413930272_20130608.txt</td>\n",
       "    </tr>\n",
       "    <tr>\n",
       "      <th>2</th>\n",
       "      <td>150828106</td>\n",
       "      <td>2017-03-23</td>\n",
       "      <td>I60.9</td>\n",
       "      <td>2017-04-17</td>\n",
       "      <td>Notes_1130686598_332462314_20170417.txt</td>\n",
       "    </tr>\n",
       "    <tr>\n",
       "      <th>3</th>\n",
       "      <td>150018559</td>\n",
       "      <td>2020-05-10</td>\n",
       "      <td>I60.8</td>\n",
       "      <td>2020-05-12</td>\n",
       "      <td>Notes_1129877493_3385243575_20200512.txt</td>\n",
       "    </tr>\n",
       "    <tr>\n",
       "      <th>4</th>\n",
       "      <td>151330933</td>\n",
       "      <td>2020-06-06</td>\n",
       "      <td>I60.32</td>\n",
       "      <td>2020-06-18</td>\n",
       "      <td>Notes_1131189610_3490844981_20200618.txt</td>\n",
       "    </tr>\n",
       "  </tbody>\n",
       "</table>\n",
       "</div>"
      ],
      "text/plain": [
       "   BDSPPatientID AdmissionDate     ICD    NoteDate  \\\n",
       "0      150022059    2021-02-28   I60.9  2021-03-01   \n",
       "1      151153367    2013-06-08  430     2013-06-08   \n",
       "2      150828106    2017-03-23   I60.9  2017-04-17   \n",
       "3      150018559    2020-05-10   I60.8  2020-05-12   \n",
       "4      151330933    2020-06-06  I60.32  2020-06-18   \n",
       "\n",
       "                                  NoteTitle  \n",
       "0  Notes_1129881170_2470102250_20210301.txt  \n",
       "1   Notes_1131012445_413930272_20130608.txt  \n",
       "2   Notes_1130686598_332462314_20170417.txt  \n",
       "3  Notes_1129877493_3385243575_20200512.txt  \n",
       "4  Notes_1131189610_3490844981_20200618.txt  "
      ]
     },
     "execution_count": 12,
     "metadata": {},
     "output_type": "execute_result"
    }
   ],
   "source": [
    "# RANDOMIZE order of df, 25 seed for reproducability\n",
    "admission_notes_df = admission_notes_df.sample(frac=1, random_state=25).reset_index(drop=True)\n",
    "admission_notes_df.head()"
   ]
  },
  {
   "cell_type": "code",
   "execution_count": 17,
   "metadata": {},
   "outputs": [],
   "source": [
    "def convert_tar_to_zip(tar_path, zip_path):\n",
    "    with tarfile.open(tar_path, 'r') as tar:\n",
    "        with zipfile.ZipFile(zip_path, 'w') as zipf:\n",
    "            for member in tqdm(tar.getmembers()):\n",
    "                file_obj = tar.extractfile(member)\n",
    "                if file_obj is not None:\n",
    "                    zipf.writestr(member.name, file_obj.read())\n",
    "\n",
    "# This will extract the year from the file name\n",
    "def extract_year(file_name):\n",
    "    match = re.search(r'_(\\d{8})\\.txt$', file_name)\n",
    "    if match:\n",
    "        return match.group(1)[:4]\n",
    "    return None\n",
    "\n",
    "def read_file_from_zip(base_path, file_name):\n",
    "    year = extract_year(file_name)\n",
    "    if year:\n",
    "        zip_path = f'{base_path}/bidmc_notes_{year}.zip'\n",
    "        try:\n",
    "            with zipfile.ZipFile(zip_path, 'r') as zipf:\n",
    "                with zipf.open(f'{year}/{file_name}') as file:\n",
    "                    content = file.read()\n",
    "                    return content.decode('utf-8', errors = 'ignore')\n",
    "        except (KeyError, FileNotFoundError):\n",
    "            return None\n",
    "    return None\n",
    "\n"
   ]
  },
  {
   "cell_type": "code",
   "execution_count": 6,
   "metadata": {},
   "outputs": [
    {
     "name": "stderr",
     "output_type": "stream",
     "text": [
      "100%|██████████| 317737/317737 [00:19<00:00, 16051.40it/s]\n",
      "100%|██████████| 990519/990519 [01:02<00:00, 15831.22it/s]\n",
      "100%|██████████| 1389600/1389600 [01:30<00:00, 15391.17it/s]\n",
      "100%|██████████| 1477627/1477627 [01:50<00:00, 13324.20it/s]\n",
      "100%|██████████| 1587770/1587770 [01:50<00:00, 14309.74it/s]\n",
      "100%|██████████| 1684960/1684960 [02:05<00:00, 13458.68it/s]\n",
      "100%|██████████| 1791824/1791824 [02:20<00:00, 12714.67it/s]\n",
      "100%|██████████| 1927996/1927996 [02:36<00:00, 12298.14it/s]\n",
      "100%|██████████| 2157142/2157142 [03:06<00:00, 11547.08it/s]\n",
      "100%|██████████| 2313867/2313867 [03:17<00:00, 11729.14it/s]\n",
      "100%|██████████| 2443733/2443733 [03:39<00:00, 11117.47it/s]\n",
      "100%|██████████| 2497818/2497818 [03:34<00:00, 11626.06it/s]\n",
      "100%|██████████| 2486341/2486341 [03:33<00:00, 11620.09it/s]\n",
      "100%|██████████| 1764965/1764965 [02:20<00:00, 12526.77it/s]\n",
      "100%|██████████| 549695/549695 [00:37<00:00, 14492.05it/s]\n",
      "100%|██████████| 15/15 [57:48<00:00, 231.21s/it]\n"
     ]
    }
   ],
   "source": [
    "year = 2010\n",
    "for i in tqdm(range(0, 15)):\n",
    "    tar_file_path = f'/home/jsearle/bigDrive/Dropbox/zz_EHR_Thunderpacks/BIDMC/BIDMC_Deidentified_Notes_March14th2024/bidmc_notes_{year + i}.tar'\n",
    "    zip_file_path = f'/home/jsearle/bigDrive/NAX/zipNotes/BIDMC/bidmc_notes_{year + i}.zip'\n",
    "    convert_tar_to_zip(tar_file_path, zip_file_path)"
   ]
  },
  {
   "cell_type": "code",
   "execution_count": 18,
   "metadata": {},
   "outputs": [
    {
     "name": "stderr",
     "output_type": "stream",
     "text": [
      "100%|██████████| 3000/3000 [9:41:13<00:00, 11.62s/it]  "
     ]
    },
    {
     "name": "stdout",
     "output_type": "stream",
     "text": [
      "1516\n"
     ]
    },
    {
     "name": "stderr",
     "output_type": "stream",
     "text": [
      "\n"
     ]
    }
   ],
   "source": [
    "base_path = '/home/jsearle/bigDrive/NAX/zipNotes/BIDMC'\n",
    "\n",
    "pattern1 = re.compile(r'(MRI|MRA|MR ANGIO|CT|CTA|CT ANGIO)\\s*(of)*\\s*(the)*\\s*(brw|brain|brn|neck|head|hed)', re.IGNORECASE)\n",
    "pattern2 = re.compile(r'(brw|brain|brn|neck|head|hed)\\s*(of)*\\s*(the)*\\s*(MRI|MRA|MR ANGIO|CT|CTA|CT ANGIO)', re.IGNORECASE)\n",
    "\n",
    "def read_and_filter(note_title, base_path):\n",
    "    note_text = read_file_from_zip(base_path, note_title)\n",
    "    if note_text and (pattern1.search(note_text) or pattern2.search(note_text)):\n",
    "        return note_text\n",
    "    else:\n",
    "        return None\n",
    "\n",
    "\n",
    "chunk_size = 3000\n",
    "start = 0\n",
    "end = min(start + chunk_size, len(admission_notes_df))\n",
    "chunk = admission_notes_df.iloc[start:end].copy()\n",
    "\n",
    "\n",
    "# Apply the filtering function\n",
    "chunk['text'] = chunk['NoteTitle'].progress_apply(lambda x: read_and_filter(x, base_path))\n",
    "\n",
    "# Drop rows where 'text' is None\n",
    "filtered_chunk = chunk.dropna(subset=['text'])\n",
    "\n",
    "filtered_chunk.head()\n",
    "print(len(filtered_chunk))"
   ]
  },
  {
   "cell_type": "code",
   "execution_count": 1,
   "metadata": {},
   "outputs": [
    {
     "ename": "NameError",
     "evalue": "name 'filtered_chunk' is not defined",
     "output_type": "error",
     "traceback": [
      "\u001b[0;31m---------------------------------------------------------------------------\u001b[0m",
      "\u001b[0;31mNameError\u001b[0m                                 Traceback (most recent call last)",
      "Cell \u001b[0;32mIn[1], line 1\u001b[0m\n\u001b[0;32m----> 1\u001b[0m \u001b[43mfiltered_chunk\u001b[49m\u001b[38;5;241m.\u001b[39mto_csv(\u001b[38;5;124m'\u001b[39m\u001b[38;5;124m3_cpt_filtered_chunk.csv\u001b[39m\u001b[38;5;124m'\u001b[39m, index\u001b[38;5;241m=\u001b[39m\u001b[38;5;28;01mFalse\u001b[39;00m, header\u001b[38;5;241m=\u001b[39m\u001b[38;5;28;01mTrue\u001b[39;00m, sep\u001b[38;5;241m=\u001b[39m\u001b[38;5;124m'\u001b[39m\u001b[38;5;124m,\u001b[39m\u001b[38;5;124m'\u001b[39m, na_rep\u001b[38;5;241m=\u001b[39m\u001b[38;5;124m'\u001b[39m\u001b[38;5;124mNA\u001b[39m\u001b[38;5;124m'\u001b[39m)\n",
      "\u001b[0;31mNameError\u001b[0m: name 'filtered_chunk' is not defined"
     ]
    }
   ],
   "source": [
    "filtered_chunk.to_csv('3_cpt_filtered_chunk.csv', index=False, header=True, sep=',', na_rep='NA')"
   ]
  }
 ],
 "metadata": {
  "kernelspec": {
   "display_name": "NAX",
   "language": "python",
   "name": "python3"
  },
  "language_info": {
   "codemirror_mode": {
    "name": "ipython",
    "version": 3
   },
   "file_extension": ".py",
   "mimetype": "text/x-python",
   "name": "python",
   "nbconvert_exporter": "python",
   "pygments_lexer": "ipython3",
   "version": "3.12.3"
  }
 },
 "nbformat": 4,
 "nbformat_minor": 2
}
