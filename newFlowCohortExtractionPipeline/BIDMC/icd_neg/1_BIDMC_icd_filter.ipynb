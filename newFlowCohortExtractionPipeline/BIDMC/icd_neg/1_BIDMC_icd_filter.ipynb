{
 "cells": [
  {
   "cell_type": "code",
   "execution_count": 1,
   "metadata": {},
   "outputs": [],
   "source": [
    "import pandas as pd\n",
    "from thunderpack import ThunderReader\n",
    "from tqdm import tqdm\n",
    "import re\n",
    "import random"
   ]
  },
  {
   "cell_type": "code",
   "execution_count": 2,
   "metadata": {},
   "outputs": [
    {
     "name": "stdout",
     "output_type": "stream",
     "text": [
      "36\n"
     ]
    }
   ],
   "source": [
    "reader = ThunderReader('/home/jsearle/bigDrive/Dropbox/zz_EHR_Thunderpacks/BIDMC/thunderpack_icd_9_10_nax_1m_BIDMC')\n",
    "key_length = len(list(reader.keys()))\n",
    "print(key_length)"
   ]
  },
  {
   "cell_type": "code",
   "execution_count": 3,
   "metadata": {},
   "outputs": [
    {
     "name": "stderr",
     "output_type": "stream",
     "text": [
      "100%|██████████| 36/36 [00:48<00:00,  1.33s/it]\n"
     ]
    }
   ],
   "source": [
    "# filter by below icd codes\n",
    "code_regex = \"^(?!I60|430).*\"\n",
    "dfs = []\n",
    "for i in tqdm(range(1, key_length + 1)):\n",
    "    df = reader[f'ICD_partition_{i}']\n",
    "    df = df[df['DiagnosisCodeWithDots'].astype(str).str.match(code_regex, flags = re.I)]\n",
    "    dfs.append(df)"
   ]
  },
  {
   "cell_type": "code",
   "execution_count": 4,
   "metadata": {},
   "outputs": [
    {
     "name": "stdout",
     "output_type": "stream",
     "text": [
      "35907203\n"
     ]
    },
    {
     "data": {
      "text/html": [
       "<div>\n",
       "<style scoped>\n",
       "    .dataframe tbody tr th:only-of-type {\n",
       "        vertical-align: middle;\n",
       "    }\n",
       "\n",
       "    .dataframe tbody tr th {\n",
       "        vertical-align: top;\n",
       "    }\n",
       "\n",
       "    .dataframe thead th {\n",
       "        text-align: right;\n",
       "    }\n",
       "</style>\n",
       "<table border=\"1\" class=\"dataframe\">\n",
       "  <thead>\n",
       "    <tr style=\"text-align: right;\">\n",
       "      <th></th>\n",
       "      <th>BDSPPatientID</th>\n",
       "      <th>BDSPEncounterID</th>\n",
       "      <th>DiagnosisSequenceNumber</th>\n",
       "      <th>DiagnosisCode</th>\n",
       "      <th>DiagnosisPoaInd</th>\n",
       "      <th>DiagnosisCodeWithDots</th>\n",
       "      <th>ShortDescription</th>\n",
       "      <th>LongDescription</th>\n",
       "      <th>DiagnosisType</th>\n",
       "      <th>AdmissionDate</th>\n",
       "      <th>DischargeDate</th>\n",
       "      <th>BDSPLastModifiedDTS</th>\n",
       "      <th>code_type</th>\n",
       "    </tr>\n",
       "  </thead>\n",
       "  <tbody>\n",
       "    <tr>\n",
       "      <th>0</th>\n",
       "      <td>150048203</td>\n",
       "      <td>132798031</td>\n",
       "      <td>1</td>\n",
       "      <td>1748</td>\n",
       "      <td>Y</td>\n",
       "      <td>174.8</td>\n",
       "      <td>MALIGN NEOPL BREAST NEC</td>\n",
       "      <td>MALIG NEOPLASM BREAST OTH                     ...</td>\n",
       "      <td>ICD9</td>\n",
       "      <td>2009-11-16</td>\n",
       "      <td>2009-11-18</td>\n",
       "      <td>2023-07-17 10:28:55.1290270</td>\n",
       "      <td>ICD9</td>\n",
       "    </tr>\n",
       "    <tr>\n",
       "      <th>1</th>\n",
       "      <td>150048203</td>\n",
       "      <td>132798031</td>\n",
       "      <td>2</td>\n",
       "      <td>V860</td>\n",
       "      <td>E</td>\n",
       "      <td>V86.0</td>\n",
       "      <td>ESTROGEN RECEPT POS STAT</td>\n",
       "      <td>ESTROGEN RECEPTOR POS STATUS [ER+]            ...</td>\n",
       "      <td>ICD9</td>\n",
       "      <td>2009-11-16</td>\n",
       "      <td>2009-11-18</td>\n",
       "      <td>2023-07-17 10:28:55.1290270</td>\n",
       "      <td>ICD9</td>\n",
       "    </tr>\n",
       "    <tr>\n",
       "      <th>2</th>\n",
       "      <td>150048203</td>\n",
       "      <td>132798031</td>\n",
       "      <td>3</td>\n",
       "      <td>2449</td>\n",
       "      <td>Y</td>\n",
       "      <td>244.9</td>\n",
       "      <td>HYPOTHYROIDISM NOS</td>\n",
       "      <td>HYPOTHYROIDISM UNSP                           ...</td>\n",
       "      <td>ICD9</td>\n",
       "      <td>2009-11-16</td>\n",
       "      <td>2009-11-18</td>\n",
       "      <td>2023-07-17 10:28:55.1290270</td>\n",
       "      <td>ICD9</td>\n",
       "    </tr>\n",
       "    <tr>\n",
       "      <th>3</th>\n",
       "      <td>150048203</td>\n",
       "      <td>132798031</td>\n",
       "      <td>4</td>\n",
       "      <td>2724</td>\n",
       "      <td>Y</td>\n",
       "      <td>272.4</td>\n",
       "      <td>HYPERLIPIDEMIA NEC/NOS</td>\n",
       "      <td>OTH &amp; UNSP HYPERLIPIDEMIA                     ...</td>\n",
       "      <td>ICD9</td>\n",
       "      <td>2009-11-16</td>\n",
       "      <td>2009-11-18</td>\n",
       "      <td>2023-07-17 10:28:55.1290270</td>\n",
       "      <td>ICD9</td>\n",
       "    </tr>\n",
       "    <tr>\n",
       "      <th>4</th>\n",
       "      <td>150048203</td>\n",
       "      <td>132798031</td>\n",
       "      <td>5</td>\n",
       "      <td>27800</td>\n",
       "      <td>Y</td>\n",
       "      <td>278.00</td>\n",
       "      <td>OBESITY, UNSPECIFIED</td>\n",
       "      <td>OBESITY UNSP                                  ...</td>\n",
       "      <td>ICD9</td>\n",
       "      <td>2009-11-16</td>\n",
       "      <td>2009-11-18</td>\n",
       "      <td>2023-07-17 10:28:55.1290270</td>\n",
       "      <td>ICD9</td>\n",
       "    </tr>\n",
       "  </tbody>\n",
       "</table>\n",
       "</div>"
      ],
      "text/plain": [
       "   BDSPPatientID  BDSPEncounterID  DiagnosisSequenceNumber DiagnosisCode  \\\n",
       "0      150048203        132798031                        1       1748      \n",
       "1      150048203        132798031                        2       V860      \n",
       "2      150048203        132798031                        3       2449      \n",
       "3      150048203        132798031                        4       2724      \n",
       "4      150048203        132798031                        5       27800     \n",
       "\n",
       "  DiagnosisPoaInd DiagnosisCodeWithDots           ShortDescription  \\\n",
       "0               Y                174.8   MALIGN NEOPL BREAST NEC     \n",
       "1               E                V86.0   ESTROGEN RECEPT POS STAT    \n",
       "2               Y                244.9   HYPOTHYROIDISM NOS          \n",
       "3               Y                272.4   HYPERLIPIDEMIA NEC/NOS      \n",
       "4               Y                278.00  OBESITY, UNSPECIFIED        \n",
       "\n",
       "                                     LongDescription DiagnosisType  \\\n",
       "0  MALIG NEOPLASM BREAST OTH                     ...          ICD9   \n",
       "1  ESTROGEN RECEPTOR POS STATUS [ER+]            ...          ICD9   \n",
       "2  HYPOTHYROIDISM UNSP                           ...          ICD9   \n",
       "3  OTH & UNSP HYPERLIPIDEMIA                     ...          ICD9   \n",
       "4  OBESITY UNSP                                  ...          ICD9   \n",
       "\n",
       "  AdmissionDate DischargeDate          BDSPLastModifiedDTS code_type  \n",
       "0    2009-11-16    2009-11-18  2023-07-17 10:28:55.1290270      ICD9  \n",
       "1    2009-11-16    2009-11-18  2023-07-17 10:28:55.1290270      ICD9  \n",
       "2    2009-11-16    2009-11-18  2023-07-17 10:28:55.1290270      ICD9  \n",
       "3    2009-11-16    2009-11-18  2023-07-17 10:28:55.1290270      ICD9  \n",
       "4    2009-11-16    2009-11-18  2023-07-17 10:28:55.1290270      ICD9  "
      ]
     },
     "execution_count": 4,
     "metadata": {},
     "output_type": "execute_result"
    }
   ],
   "source": [
    "# show num of total SAH icd codes given\n",
    "# show example of df\n",
    "filtered_icd_df = pd.concat(dfs, axis=0, ignore_index=True)\n",
    "print(len(filtered_icd_df))\n",
    "filtered_icd_df.head()"
   ]
  },
  {
   "cell_type": "code",
   "execution_count": 5,
   "metadata": {},
   "outputs": [
    {
     "data": {
      "text/html": [
       "<div>\n",
       "<style scoped>\n",
       "    .dataframe tbody tr th:only-of-type {\n",
       "        vertical-align: middle;\n",
       "    }\n",
       "\n",
       "    .dataframe tbody tr th {\n",
       "        vertical-align: top;\n",
       "    }\n",
       "\n",
       "    .dataframe thead th {\n",
       "        text-align: right;\n",
       "    }\n",
       "</style>\n",
       "<table border=\"1\" class=\"dataframe\">\n",
       "  <thead>\n",
       "    <tr style=\"text-align: right;\">\n",
       "      <th></th>\n",
       "      <th>BDSPPatientID</th>\n",
       "      <th>AdmissionDate</th>\n",
       "      <th>DiagnosisCodeWithDots</th>\n",
       "    </tr>\n",
       "  </thead>\n",
       "  <tbody>\n",
       "    <tr>\n",
       "      <th>0</th>\n",
       "      <td>150048203</td>\n",
       "      <td>2009-11-16</td>\n",
       "      <td>174.8</td>\n",
       "    </tr>\n",
       "    <tr>\n",
       "      <th>1</th>\n",
       "      <td>150048203</td>\n",
       "      <td>2009-11-16</td>\n",
       "      <td>V86.0</td>\n",
       "    </tr>\n",
       "    <tr>\n",
       "      <th>2</th>\n",
       "      <td>150048203</td>\n",
       "      <td>2009-11-16</td>\n",
       "      <td>244.9</td>\n",
       "    </tr>\n",
       "    <tr>\n",
       "      <th>3</th>\n",
       "      <td>150048203</td>\n",
       "      <td>2009-11-16</td>\n",
       "      <td>272.4</td>\n",
       "    </tr>\n",
       "    <tr>\n",
       "      <th>4</th>\n",
       "      <td>150048203</td>\n",
       "      <td>2009-11-16</td>\n",
       "      <td>278.00</td>\n",
       "    </tr>\n",
       "  </tbody>\n",
       "</table>\n",
       "</div>"
      ],
      "text/plain": [
       "   BDSPPatientID AdmissionDate DiagnosisCodeWithDots\n",
       "0      150048203    2009-11-16                174.8 \n",
       "1      150048203    2009-11-16                V86.0 \n",
       "2      150048203    2009-11-16                244.9 \n",
       "3      150048203    2009-11-16                272.4 \n",
       "4      150048203    2009-11-16                278.00"
      ]
     },
     "execution_count": 5,
     "metadata": {},
     "output_type": "execute_result"
    }
   ],
   "source": [
    "# clean up df, keep only relevant info\n",
    "keepColumns = ['BDSPPatientID', 'AdmissionDate', 'DiagnosisCodeWithDots']\n",
    "clean_icd_df = filtered_icd_df[keepColumns]\n",
    "clean_icd_df.head()"
   ]
  },
  {
   "cell_type": "code",
   "execution_count": 6,
   "metadata": {},
   "outputs": [
    {
     "data": {
      "text/html": [
       "<div>\n",
       "<style scoped>\n",
       "    .dataframe tbody tr th:only-of-type {\n",
       "        vertical-align: middle;\n",
       "    }\n",
       "\n",
       "    .dataframe tbody tr th {\n",
       "        vertical-align: top;\n",
       "    }\n",
       "\n",
       "    .dataframe thead th {\n",
       "        text-align: right;\n",
       "    }\n",
       "</style>\n",
       "<table border=\"1\" class=\"dataframe\">\n",
       "  <thead>\n",
       "    <tr style=\"text-align: right;\">\n",
       "      <th></th>\n",
       "      <th>BDSPPatientID</th>\n",
       "      <th>AdmissionDate</th>\n",
       "      <th>ICD</th>\n",
       "    </tr>\n",
       "  </thead>\n",
       "  <tbody>\n",
       "    <tr>\n",
       "      <th>0</th>\n",
       "      <td>150048203</td>\n",
       "      <td>2009-11-16</td>\n",
       "      <td>174.8</td>\n",
       "    </tr>\n",
       "    <tr>\n",
       "      <th>1</th>\n",
       "      <td>150048203</td>\n",
       "      <td>2009-11-16</td>\n",
       "      <td>V86.0</td>\n",
       "    </tr>\n",
       "    <tr>\n",
       "      <th>2</th>\n",
       "      <td>150048203</td>\n",
       "      <td>2009-11-16</td>\n",
       "      <td>244.9</td>\n",
       "    </tr>\n",
       "    <tr>\n",
       "      <th>3</th>\n",
       "      <td>150048203</td>\n",
       "      <td>2009-11-16</td>\n",
       "      <td>272.4</td>\n",
       "    </tr>\n",
       "    <tr>\n",
       "      <th>4</th>\n",
       "      <td>150048203</td>\n",
       "      <td>2009-11-16</td>\n",
       "      <td>278.00</td>\n",
       "    </tr>\n",
       "  </tbody>\n",
       "</table>\n",
       "</div>"
      ],
      "text/plain": [
       "   BDSPPatientID AdmissionDate     ICD\n",
       "0      150048203    2009-11-16  174.8 \n",
       "1      150048203    2009-11-16  V86.0 \n",
       "2      150048203    2009-11-16  244.9 \n",
       "3      150048203    2009-11-16  272.4 \n",
       "4      150048203    2009-11-16  278.00"
      ]
     },
     "execution_count": 6,
     "metadata": {},
     "output_type": "execute_result"
    }
   ],
   "source": [
    "# rename columns\n",
    "rename_dict = { \n",
    "    'DiagnosisCodeWithDots': 'ICD', \n",
    "}\n",
    "\n",
    "clean_icd_df = clean_icd_df.rename(columns=rename_dict)\n",
    "\n",
    "clean_icd_df.head()\n"
   ]
  },
  {
   "cell_type": "code",
   "execution_count": 7,
   "metadata": {},
   "outputs": [
    {
     "data": {
      "text/html": [
       "<div>\n",
       "<style scoped>\n",
       "    .dataframe tbody tr th:only-of-type {\n",
       "        vertical-align: middle;\n",
       "    }\n",
       "\n",
       "    .dataframe tbody tr th {\n",
       "        vertical-align: top;\n",
       "    }\n",
       "\n",
       "    .dataframe thead th {\n",
       "        text-align: right;\n",
       "    }\n",
       "</style>\n",
       "<table border=\"1\" class=\"dataframe\">\n",
       "  <thead>\n",
       "    <tr style=\"text-align: right;\">\n",
       "      <th></th>\n",
       "      <th>BDSPPatientID</th>\n",
       "      <th>AdmissionDate</th>\n",
       "      <th>ICD</th>\n",
       "    </tr>\n",
       "  </thead>\n",
       "  <tbody>\n",
       "    <tr>\n",
       "      <th>0</th>\n",
       "      <td>150963606</td>\n",
       "      <td>2017-11-02</td>\n",
       "      <td>M79.1</td>\n",
       "    </tr>\n",
       "    <tr>\n",
       "      <th>1</th>\n",
       "      <td>150255564</td>\n",
       "      <td>2022-10-18</td>\n",
       "      <td>K21.9</td>\n",
       "    </tr>\n",
       "    <tr>\n",
       "      <th>2</th>\n",
       "      <td>150594739</td>\n",
       "      <td>2015-06-12</td>\n",
       "      <td>174.9</td>\n",
       "    </tr>\n",
       "    <tr>\n",
       "      <th>3</th>\n",
       "      <td>150770050</td>\n",
       "      <td>2012-10-10</td>\n",
       "      <td>V49.86</td>\n",
       "    </tr>\n",
       "    <tr>\n",
       "      <th>4</th>\n",
       "      <td>150728234</td>\n",
       "      <td>2013-10-05</td>\n",
       "      <td>692.74</td>\n",
       "    </tr>\n",
       "  </tbody>\n",
       "</table>\n",
       "</div>"
      ],
      "text/plain": [
       "   BDSPPatientID AdmissionDate     ICD\n",
       "0      150963606    2017-11-02   M79.1\n",
       "1      150255564    2022-10-18   K21.9\n",
       "2      150594739    2015-06-12  174.9 \n",
       "3      150770050    2012-10-10  V49.86\n",
       "4      150728234    2013-10-05  692.74"
      ]
     },
     "execution_count": 7,
     "metadata": {},
     "output_type": "execute_result"
    }
   ],
   "source": [
    "# RANDOMIZE order of df, 25 seed for reproducability\n",
    "clean_icd_df = clean_icd_df.sample(frac=1, random_state=25).reset_index(drop=True)\n",
    "clean_icd_df.head()"
   ]
  },
  {
   "cell_type": "code",
   "execution_count": 8,
   "metadata": {},
   "outputs": [
    {
     "name": "stdout",
     "output_type": "stream",
     "text": [
      "476652\n"
     ]
    }
   ],
   "source": [
    "#filter to only include unique patients\n",
    "unique_patients_icd_df = clean_icd_df.drop_duplicates(subset='BDSPPatientID', keep='first')\n",
    "print(len(unique_patients_icd_df))"
   ]
  },
  {
   "cell_type": "code",
   "execution_count": 10,
   "metadata": {},
   "outputs": [
    {
     "name": "stdout",
     "output_type": "stream",
     "text": [
      "50000\n"
     ]
    }
   ],
   "source": [
    "# Grab the first 50000 (already randomized) to make the df easier to work with\n",
    "icd_neg_df = unique_patients_icd_df.head(50000)\n",
    "print(len(icd_neg_df))"
   ]
  },
  {
   "cell_type": "code",
   "execution_count": 11,
   "metadata": {},
   "outputs": [],
   "source": [
    "# save df as csv\n",
    "icd_neg_df.to_csv('1_icd_neg_df.csv', index=False)"
   ]
  }
 ],
 "metadata": {
  "kernelspec": {
   "display_name": "NAX",
   "language": "python",
   "name": "python3"
  },
  "language_info": {
   "codemirror_mode": {
    "name": "ipython",
    "version": 3
   },
   "file_extension": ".py",
   "mimetype": "text/x-python",
   "name": "python",
   "nbconvert_exporter": "python",
   "pygments_lexer": "ipython3",
   "version": "3.12.3"
  }
 },
 "nbformat": 4,
 "nbformat_minor": 2
}
