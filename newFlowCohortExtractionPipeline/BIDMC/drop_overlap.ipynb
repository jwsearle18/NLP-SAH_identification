{
 "cells": [
  {
   "cell_type": "code",
   "execution_count": 1,
   "metadata": {},
   "outputs": [],
   "source": [
    "import pandas as pd\n",
    "from tqdm import tqdm"
   ]
  },
  {
   "cell_type": "markdown",
   "metadata": {},
   "source": [
    "This is to drop the overlap of notes between the positive and negative cohorts"
   ]
  },
  {
   "cell_type": "code",
   "execution_count": 2,
   "metadata": {},
   "outputs": [
    {
     "name": "stdout",
     "output_type": "stream",
     "text": [
      "515\n"
     ]
    },
    {
     "data": {
      "text/html": [
       "<div>\n",
       "<style scoped>\n",
       "    .dataframe tbody tr th:only-of-type {\n",
       "        vertical-align: middle;\n",
       "    }\n",
       "\n",
       "    .dataframe tbody tr th {\n",
       "        vertical-align: top;\n",
       "    }\n",
       "\n",
       "    .dataframe thead th {\n",
       "        text-align: right;\n",
       "    }\n",
       "</style>\n",
       "<table border=\"1\" class=\"dataframe\">\n",
       "  <thead>\n",
       "    <tr style=\"text-align: right;\">\n",
       "      <th></th>\n",
       "      <th>BDSPPatientID</th>\n",
       "      <th>AdmissionDate</th>\n",
       "      <th>ICD</th>\n",
       "      <th>NoteDate</th>\n",
       "      <th>NoteTitle</th>\n",
       "      <th>text</th>\n",
       "    </tr>\n",
       "  </thead>\n",
       "  <tbody>\n",
       "    <tr>\n",
       "      <th>0</th>\n",
       "      <td>150022059</td>\n",
       "      <td>2021-02-28</td>\n",
       "      <td>I60.9</td>\n",
       "      <td>2021-03-01</td>\n",
       "      <td>Notes_1129881170_2470102250_20210301.txt</td>\n",
       "      <td>\\n\\nNote Date: *****/*****/*****  Time: 0154\\n...</td>\n",
       "    </tr>\n",
       "    <tr>\n",
       "      <th>1</th>\n",
       "      <td>151153367</td>\n",
       "      <td>2013-06-08</td>\n",
       "      <td>430</td>\n",
       "      <td>2013-06-08</td>\n",
       "      <td>Notes_1131012445_413930272_20130608.txt</td>\n",
       "      <td>\\n\\nNote Date: *****/*****/*****\\n\\nNote Type:...</td>\n",
       "    </tr>\n",
       "    <tr>\n",
       "      <th>2</th>\n",
       "      <td>150828106</td>\n",
       "      <td>2017-03-23</td>\n",
       "      <td>I60.9</td>\n",
       "      <td>2017-04-17</td>\n",
       "      <td>Notes_1130686598_332462314_20170417.txt</td>\n",
       "      <td>\\n\\nNote Date: *****/*****/*****\\n\\nNote Type:...</td>\n",
       "    </tr>\n",
       "    <tr>\n",
       "      <th>3</th>\n",
       "      <td>150018559</td>\n",
       "      <td>2020-05-10</td>\n",
       "      <td>I60.8</td>\n",
       "      <td>2020-05-12</td>\n",
       "      <td>Notes_1129877493_3385243575_20200512.txt</td>\n",
       "      <td>\\n\\nNote Date: *****/*****/*****  Time: 0829\\n...</td>\n",
       "    </tr>\n",
       "    <tr>\n",
       "      <th>4</th>\n",
       "      <td>151330933</td>\n",
       "      <td>2020-06-06</td>\n",
       "      <td>I60.32</td>\n",
       "      <td>2020-06-18</td>\n",
       "      <td>Notes_1131189610_3490844981_20200618.txt</td>\n",
       "      <td>\\n\\nNote Date: *****/*****/*****  Time: 1549\\n...</td>\n",
       "    </tr>\n",
       "  </tbody>\n",
       "</table>\n",
       "</div>"
      ],
      "text/plain": [
       "   BDSPPatientID AdmissionDate     ICD    NoteDate  \\\n",
       "0      150022059    2021-02-28   I60.9  2021-03-01   \n",
       "1      151153367    2013-06-08  430     2013-06-08   \n",
       "2      150828106    2017-03-23   I60.9  2017-04-17   \n",
       "3      150018559    2020-05-10   I60.8  2020-05-12   \n",
       "4      151330933    2020-06-06  I60.32  2020-06-18   \n",
       "\n",
       "                                  NoteTitle  \\\n",
       "0  Notes_1129881170_2470102250_20210301.txt   \n",
       "1   Notes_1131012445_413930272_20130608.txt   \n",
       "2   Notes_1130686598_332462314_20170417.txt   \n",
       "3  Notes_1129877493_3385243575_20200512.txt   \n",
       "4  Notes_1131189610_3490844981_20200618.txt   \n",
       "\n",
       "                                                text  \n",
       "0  \\n\\nNote Date: *****/*****/*****  Time: 0154\\n...  \n",
       "1  \\n\\nNote Date: *****/*****/*****\\n\\nNote Type:...  \n",
       "2  \\n\\nNote Date: *****/*****/*****\\n\\nNote Type:...  \n",
       "3  \\n\\nNote Date: *****/*****/*****  Time: 0829\\n...  \n",
       "4  \\n\\nNote Date: *****/*****/*****  Time: 1549\\n...  "
      ]
     },
     "execution_count": 2,
     "metadata": {},
     "output_type": "execute_result"
    }
   ],
   "source": [
    "pos_cohort = pd.read_csv('BIDMC_final_icd_pos.csv')\n",
    "print(len(pos_cohort))\n",
    "pos_cohort.head()"
   ]
  },
  {
   "cell_type": "code",
   "execution_count": 3,
   "metadata": {},
   "outputs": [
    {
     "name": "stdout",
     "output_type": "stream",
     "text": [
      "511\n"
     ]
    },
    {
     "data": {
      "text/html": [
       "<div>\n",
       "<style scoped>\n",
       "    .dataframe tbody tr th:only-of-type {\n",
       "        vertical-align: middle;\n",
       "    }\n",
       "\n",
       "    .dataframe tbody tr th {\n",
       "        vertical-align: top;\n",
       "    }\n",
       "\n",
       "    .dataframe thead th {\n",
       "        text-align: right;\n",
       "    }\n",
       "</style>\n",
       "<table border=\"1\" class=\"dataframe\">\n",
       "  <thead>\n",
       "    <tr style=\"text-align: right;\">\n",
       "      <th></th>\n",
       "      <th>BDSPPatientID</th>\n",
       "      <th>AdmissionDate</th>\n",
       "      <th>ICD</th>\n",
       "      <th>NoteDate</th>\n",
       "      <th>NoteTitle</th>\n",
       "      <th>text</th>\n",
       "    </tr>\n",
       "  </thead>\n",
       "  <tbody>\n",
       "    <tr>\n",
       "      <th>0</th>\n",
       "      <td>151212513</td>\n",
       "      <td>2016-02-03</td>\n",
       "      <td>305.1</td>\n",
       "      <td>2016-02-04</td>\n",
       "      <td>Notes_1131071605_435587215_20160204.txt</td>\n",
       "      <td>\\n\\nNote Date: *****/*****/*****\\n\\nNote Type:...</td>\n",
       "    </tr>\n",
       "    <tr>\n",
       "      <th>1</th>\n",
       "      <td>150639400</td>\n",
       "      <td>2023-06-12</td>\n",
       "      <td>Z79.4</td>\n",
       "      <td>2023-06-12</td>\n",
       "      <td>Notes_1130498158_10141889500_20230612.txt</td>\n",
       "      <td>\\n\\nNote Date: *****/*****/*****  Time: 1100\\n...</td>\n",
       "    </tr>\n",
       "    <tr>\n",
       "      <th>2</th>\n",
       "      <td>150057053</td>\n",
       "      <td>2020-12-12</td>\n",
       "      <td>C77.5</td>\n",
       "      <td>2020-12-17</td>\n",
       "      <td>Notes_1129915463_4302367261_20201217.txt</td>\n",
       "      <td>\\n\\nNote Date: *****/*****/*****\\n\\nNote Type:...</td>\n",
       "    </tr>\n",
       "    <tr>\n",
       "      <th>3</th>\n",
       "      <td>151005496</td>\n",
       "      <td>2010-06-29</td>\n",
       "      <td>530.81</td>\n",
       "      <td>2010-06-29</td>\n",
       "      <td>Notes_1130863925_364816102_20100629.txt</td>\n",
       "      <td>\\n\\nNote Date: *****/*****/*****\\n\\nNote Type:...</td>\n",
       "    </tr>\n",
       "    <tr>\n",
       "      <th>4</th>\n",
       "      <td>150006448</td>\n",
       "      <td>2014-07-10</td>\n",
       "      <td>244.9</td>\n",
       "      <td>2014-07-14</td>\n",
       "      <td>Notes_1129865503_1991829458_20140714.txt</td>\n",
       "      <td>\\n\\nNote Date: *****/*****/*****\\n\\nNote Type:...</td>\n",
       "    </tr>\n",
       "  </tbody>\n",
       "</table>\n",
       "</div>"
      ],
      "text/plain": [
       "   BDSPPatientID AdmissionDate     ICD    NoteDate  \\\n",
       "0      151212513    2016-02-03  305.1   2016-02-04   \n",
       "1      150639400    2023-06-12   Z79.4  2023-06-12   \n",
       "2      150057053    2020-12-12   C77.5  2020-12-17   \n",
       "3      151005496    2010-06-29  530.81  2010-06-29   \n",
       "4      150006448    2014-07-10  244.9   2014-07-14   \n",
       "\n",
       "                                   NoteTitle  \\\n",
       "0    Notes_1131071605_435587215_20160204.txt   \n",
       "1  Notes_1130498158_10141889500_20230612.txt   \n",
       "2   Notes_1129915463_4302367261_20201217.txt   \n",
       "3    Notes_1130863925_364816102_20100629.txt   \n",
       "4   Notes_1129865503_1991829458_20140714.txt   \n",
       "\n",
       "                                                text  \n",
       "0  \\n\\nNote Date: *****/*****/*****\\n\\nNote Type:...  \n",
       "1  \\n\\nNote Date: *****/*****/*****  Time: 1100\\n...  \n",
       "2  \\n\\nNote Date: *****/*****/*****\\n\\nNote Type:...  \n",
       "3  \\n\\nNote Date: *****/*****/*****\\n\\nNote Type:...  \n",
       "4  \\n\\nNote Date: *****/*****/*****\\n\\nNote Type:...  "
      ]
     },
     "execution_count": 3,
     "metadata": {},
     "output_type": "execute_result"
    }
   ],
   "source": [
    "neg_cohort = pd.read_csv('BIDMC_final_icd_neg.csv')\n",
    "print(len(neg_cohort))\n",
    "neg_cohort.head()"
   ]
  },
  {
   "cell_type": "code",
   "execution_count": 4,
   "metadata": {},
   "outputs": [
    {
     "name": "stdout",
     "output_type": "stream",
     "text": [
      "6\n"
     ]
    }
   ],
   "source": [
    "#find overlap between dfs\n",
    "overlap = pos_cohort[pos_cohort['BDSPPatientID'].isin(neg_cohort['BDSPPatientID'])]\n",
    "print(len(overlap))"
   ]
  },
  {
   "cell_type": "code",
   "execution_count": 5,
   "metadata": {},
   "outputs": [
    {
     "name": "stdout",
     "output_type": "stream",
     "text": [
      "509\n",
      "505\n"
     ]
    }
   ],
   "source": [
    "#Drop overlapping rows in each df\n",
    "pos_no_overlap = pos_cohort[~pos_cohort['BDSPPatientID'].isin(overlap['BDSPPatientID'])]\n",
    "neg_no_overlap = neg_cohort[~neg_cohort['BDSPPatientID'].isin(overlap['BDSPPatientID'])]\n",
    "\n",
    "print(len(pos_no_overlap))\n",
    "print(len(neg_no_overlap))"
   ]
  },
  {
   "cell_type": "code",
   "execution_count": 8,
   "metadata": {},
   "outputs": [],
   "source": [
    "pos_no_overlap.to_csv('BIDMC_icd_pos_cohort.csv', index=False, header=True, sep=',', na_rep='NA')\n",
    "neg_no_overlap.to_csv('BIDMC_icd_neg_cohort.csv', index=False, header=True, sep=',', na_rep='NA')"
   ]
  }
 ],
 "metadata": {
  "kernelspec": {
   "display_name": "NAX",
   "language": "python",
   "name": "python3"
  },
  "language_info": {
   "codemirror_mode": {
    "name": "ipython",
    "version": 3
   },
   "file_extension": ".py",
   "mimetype": "text/x-python",
   "name": "python",
   "nbconvert_exporter": "python",
   "pygments_lexer": "ipython3",
   "version": "3.12.3"
  }
 },
 "nbformat": 4,
 "nbformat_minor": 2
}
