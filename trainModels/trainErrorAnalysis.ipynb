{
 "cells": [
  {
   "cell_type": "code",
   "execution_count": 12,
   "metadata": {},
   "outputs": [],
   "source": [
    "import pandas as pd"
   ]
  },
  {
   "cell_type": "code",
   "execution_count": 13,
   "metadata": {},
   "outputs": [],
   "source": [
    "false_positives_ids_df = pd.read_csv('/home/jsearle/bigDrive/NAX/NLP-SAH_identification/trainModels/results/newLogRegAO/false_positives.csv')\n",
    "false_negatives_ids_df = pd.read_csv('/home/jsearle/bigDrive/NAX/NLP-SAH_identification/trainModels/results/newLogRegAO/false_negatives.csv')\n",
    "\n",
    "full_cohort_df = pd.read_csv('/home/jsearle/bigDrive/NAX/NLP-SAH_identification/cleanCohorts/full_cohort_final.csv')"
   ]
  },
  {
   "cell_type": "code",
   "execution_count": 14,
   "metadata": {},
   "outputs": [],
   "source": [
    "# Merge to get text for false positives\n",
    "false_positives_text_df = pd.merge(false_positives_ids_df, full_cohort_df[['BDSPPatientID', 'text']], on='BDSPPatientID', how='left')\n",
    "\n",
    "# Merge to get text for false negatives\n",
    "false_negatives_text_df = pd.merge(false_negatives_ids_df, full_cohort_df[['BDSPPatientID', 'text']], on='BDSPPatientID', how='left')"
   ]
  },
  {
   "cell_type": "code",
   "execution_count": 15,
   "metadata": {},
   "outputs": [
    {
     "data": {
      "text/html": [
       "<div>\n",
       "<style scoped>\n",
       "    .dataframe tbody tr th:only-of-type {\n",
       "        vertical-align: middle;\n",
       "    }\n",
       "\n",
       "    .dataframe tbody tr th {\n",
       "        vertical-align: top;\n",
       "    }\n",
       "\n",
       "    .dataframe thead th {\n",
       "        text-align: right;\n",
       "    }\n",
       "</style>\n",
       "<table border=\"1\" class=\"dataframe\">\n",
       "  <thead>\n",
       "    <tr style=\"text-align: right;\">\n",
       "      <th></th>\n",
       "      <th>BDSPPatientID</th>\n",
       "      <th>text</th>\n",
       "    </tr>\n",
       "  </thead>\n",
       "  <tbody>\n",
       "    <tr>\n",
       "      <th>0</th>\n",
       "      <td>111893668</td>\n",
       "      <td>Physician ***** ***** *****     Admit date: **...</td>\n",
       "    </tr>\n",
       "    <tr>\n",
       "      <th>1</th>\n",
       "      <td>119488118</td>\n",
       "      <td>Physician ***** *****       Admit date: ****...</td>\n",
       "    </tr>\n",
       "    <tr>\n",
       "      <th>2</th>\n",
       "      <td>112704756</td>\n",
       "      <td>Physician ***** *****       Admit date: ****...</td>\n",
       "    </tr>\n",
       "    <tr>\n",
       "      <th>3</th>\n",
       "      <td>118342574</td>\n",
       "      <td>Physician ***** *****       Admit date: ****...</td>\n",
       "    </tr>\n",
       "    <tr>\n",
       "      <th>4</th>\n",
       "      <td>151071184</td>\n",
       "      <td>\\n\\nNote Date: *****/*****/*****\\n\\nNote Type:...</td>\n",
       "    </tr>\n",
       "  </tbody>\n",
       "</table>\n",
       "</div>"
      ],
      "text/plain": [
       "   BDSPPatientID                                               text\n",
       "0      111893668  Physician ***** ***** *****     Admit date: **...\n",
       "1      119488118    Physician ***** *****       Admit date: ****...\n",
       "2      112704756    Physician ***** *****       Admit date: ****...\n",
       "3      118342574    Physician ***** *****       Admit date: ****...\n",
       "4      151071184  \\n\\nNote Date: *****/*****/*****\\n\\nNote Type:..."
      ]
     },
     "execution_count": 15,
     "metadata": {},
     "output_type": "execute_result"
    }
   ],
   "source": [
    "false_negatives_text_df.head()"
   ]
  },
  {
   "cell_type": "code",
   "execution_count": 16,
   "metadata": {},
   "outputs": [],
   "source": [
    "false_negatives_text_df.to_csv('false_negatives.csv')\n",
    "false_positives_text_df.to_csv('false_positives.csv')"
   ]
  }
 ],
 "metadata": {
  "kernelspec": {
   "display_name": "NAX",
   "language": "python",
   "name": "python3"
  },
  "language_info": {
   "codemirror_mode": {
    "name": "ipython",
    "version": 3
   },
   "file_extension": ".py",
   "mimetype": "text/x-python",
   "name": "python",
   "nbconvert_exporter": "python",
   "pygments_lexer": "ipython3",
   "version": "3.12.3"
  }
 },
 "nbformat": 4,
 "nbformat_minor": 2
}
