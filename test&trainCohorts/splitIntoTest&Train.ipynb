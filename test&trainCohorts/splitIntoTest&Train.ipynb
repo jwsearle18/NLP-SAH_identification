{
 "cells": [
  {
   "cell_type": "code",
   "execution_count": 2,
   "metadata": {},
   "outputs": [],
   "source": [
    "import pandas as pd\n",
    "from sklearn.model_selection import train_test_split"
   ]
  },
  {
   "cell_type": "markdown",
   "metadata": {},
   "source": [
    "## Create Testing and Training Cohorts\n",
    "- I have the clean cohorts separated by Hospital and Combined\n",
    "- Randomize the data\n",
    "- Split testing and training 50%/50%\n",
    "- I will end up with 6 csvs\n",
    "    - train MGB\n",
    "    - test MGB\n",
    "    - train BIDMC\n",
    "    - test BIDMC\n",
    "    - train Combined\n",
    "    - test Combined"
   ]
  },
  {
   "cell_type": "code",
   "execution_count": 4,
   "metadata": {},
   "outputs": [],
   "source": [
    "\n",
    "MGB_cohort = pd.read_csv('/home/jsearle/bigDrive/NAX/NLP-SAH_identification/code/cleanCohorts/MGB_cohort_final.csv')\n",
    "BIDMC_cohort = pd.read_csv('/home/jsearle/bigDrive/NAX/NLP-SAH_identification/code/cleanCohorts/BIDMC_cohort_final.csv')"
   ]
  },
  {
   "cell_type": "markdown",
   "metadata": {},
   "source": [
    "#### Start by hospital\n",
    "- randomize \n",
    "- split 50/50"
   ]
  },
  {
   "cell_type": "code",
   "execution_count": 5,
   "metadata": {},
   "outputs": [
    {
     "data": {
      "text/html": [
       "<div>\n",
       "<style scoped>\n",
       "    .dataframe tbody tr th:only-of-type {\n",
       "        vertical-align: middle;\n",
       "    }\n",
       "\n",
       "    .dataframe tbody tr th {\n",
       "        vertical-align: top;\n",
       "    }\n",
       "\n",
       "    .dataframe thead th {\n",
       "        text-align: right;\n",
       "    }\n",
       "</style>\n",
       "<table border=\"1\" class=\"dataframe\">\n",
       "  <thead>\n",
       "    <tr style=\"text-align: right;\">\n",
       "      <th></th>\n",
       "      <th>BDSPPatientID</th>\n",
       "      <th>NoteDate</th>\n",
       "      <th>NoteTitle</th>\n",
       "      <th>text</th>\n",
       "    </tr>\n",
       "  </thead>\n",
       "  <tbody>\n",
       "    <tr>\n",
       "      <th>0</th>\n",
       "      <td>118374115</td>\n",
       "      <td>2018-11-20 00:00:00</td>\n",
       "      <td>Notes_13333491432_2130196704_20181120.txt</td>\n",
       "      <td>Physician ***** *****       Admit date: ****...</td>\n",
       "    </tr>\n",
       "    <tr>\n",
       "      <th>1</th>\n",
       "      <td>116931824</td>\n",
       "      <td>2022-12-29 00:00:00</td>\n",
       "      <td>Notes_13563868206_7830407523_20221229.txt</td>\n",
       "      <td>Physician ***** *****       Admit date: ****...</td>\n",
       "    </tr>\n",
       "    <tr>\n",
       "      <th>2</th>\n",
       "      <td>118587891</td>\n",
       "      <td>2021-05-30 00:00:00</td>\n",
       "      <td>Notes_13532685798_4823397982_20210530.txt</td>\n",
       "      <td>Physician ***** *****       Admit date: ****...</td>\n",
       "    </tr>\n",
       "    <tr>\n",
       "      <th>3</th>\n",
       "      <td>114557355</td>\n",
       "      <td>2022-07-22 00:00:00</td>\n",
       "      <td>Notes_13620259495_8489742841_20220722.txt</td>\n",
       "      <td>Physician ***** *****       Admit date: ****...</td>\n",
       "    </tr>\n",
       "    <tr>\n",
       "      <th>4</th>\n",
       "      <td>114329029</td>\n",
       "      <td>2018-05-15 00:00:00</td>\n",
       "      <td>Notes_13356996149_1753656538_20180515.txt</td>\n",
       "      <td>Physician ***** *****       Admit date: ****...</td>\n",
       "    </tr>\n",
       "  </tbody>\n",
       "</table>\n",
       "</div>"
      ],
      "text/plain": [
       "   BDSPPatientID             NoteDate  \\\n",
       "0      118374115  2018-11-20 00:00:00   \n",
       "1      116931824  2022-12-29 00:00:00   \n",
       "2      118587891  2021-05-30 00:00:00   \n",
       "3      114557355  2022-07-22 00:00:00   \n",
       "4      114329029  2018-05-15 00:00:00   \n",
       "\n",
       "                                   NoteTitle  \\\n",
       "0  Notes_13333491432_2130196704_20181120.txt   \n",
       "1  Notes_13563868206_7830407523_20221229.txt   \n",
       "2  Notes_13532685798_4823397982_20210530.txt   \n",
       "3  Notes_13620259495_8489742841_20220722.txt   \n",
       "4  Notes_13356996149_1753656538_20180515.txt   \n",
       "\n",
       "                                                text  \n",
       "0    Physician ***** *****       Admit date: ****...  \n",
       "1    Physician ***** *****       Admit date: ****...  \n",
       "2    Physician ***** *****       Admit date: ****...  \n",
       "3    Physician ***** *****       Admit date: ****...  \n",
       "4    Physician ***** *****       Admit date: ****...  "
      ]
     },
     "execution_count": 5,
     "metadata": {},
     "output_type": "execute_result"
    }
   ],
   "source": [
    "MGB_cohort.head()"
   ]
  },
  {
   "cell_type": "code",
   "execution_count": 6,
   "metadata": {},
   "outputs": [
    {
     "name": "stdout",
     "output_type": "stream",
     "text": [
      "2082\n",
      "1041\n",
      "1041\n"
     ]
    },
    {
     "data": {
      "text/html": [
       "<div>\n",
       "<style scoped>\n",
       "    .dataframe tbody tr th:only-of-type {\n",
       "        vertical-align: middle;\n",
       "    }\n",
       "\n",
       "    .dataframe tbody tr th {\n",
       "        vertical-align: top;\n",
       "    }\n",
       "\n",
       "    .dataframe thead th {\n",
       "        text-align: right;\n",
       "    }\n",
       "</style>\n",
       "<table border=\"1\" class=\"dataframe\">\n",
       "  <thead>\n",
       "    <tr style=\"text-align: right;\">\n",
       "      <th></th>\n",
       "      <th>BDSPPatientID</th>\n",
       "      <th>NoteDate</th>\n",
       "      <th>NoteTitle</th>\n",
       "      <th>text</th>\n",
       "    </tr>\n",
       "  </thead>\n",
       "  <tbody>\n",
       "    <tr>\n",
       "      <th>0</th>\n",
       "      <td>117936213</td>\n",
       "      <td>2023-03-14 00:00:00</td>\n",
       "      <td>Notes_13644994731_8345048481_20230314.txt</td>\n",
       "      <td>Physician ***** ***** *****     Admit date: **...</td>\n",
       "    </tr>\n",
       "    <tr>\n",
       "      <th>1</th>\n",
       "      <td>121374669</td>\n",
       "      <td>2017-10-06</td>\n",
       "      <td>Notes_13438349128_2136576931_20171006.txt</td>\n",
       "      <td>Physician ***** *****       Admit date: ****...</td>\n",
       "    </tr>\n",
       "    <tr>\n",
       "      <th>2</th>\n",
       "      <td>116697411</td>\n",
       "      <td>2017-07-23 00:00:00</td>\n",
       "      <td>Notes_13304456538_1387333854_20170723.txt</td>\n",
       "      <td>Physician ***** *****       Admit date: ****...</td>\n",
       "    </tr>\n",
       "    <tr>\n",
       "      <th>3</th>\n",
       "      <td>121059752</td>\n",
       "      <td>2018-05-13</td>\n",
       "      <td>Notes_13320631950_1986258740_20180513.txt</td>\n",
       "      <td>Physician ***** *****       Admit date: ****...</td>\n",
       "    </tr>\n",
       "    <tr>\n",
       "      <th>4</th>\n",
       "      <td>118801317</td>\n",
       "      <td>2020-06-14 00:00:00</td>\n",
       "      <td>Notes_13489006429_5688703044_20200614.txt</td>\n",
       "      <td>Physician ***** *****       Admit date: **...</td>\n",
       "    </tr>\n",
       "  </tbody>\n",
       "</table>\n",
       "</div>"
      ],
      "text/plain": [
       "   BDSPPatientID             NoteDate  \\\n",
       "0      117936213  2023-03-14 00:00:00   \n",
       "1      121374669           2017-10-06   \n",
       "2      116697411  2017-07-23 00:00:00   \n",
       "3      121059752           2018-05-13   \n",
       "4      118801317  2020-06-14 00:00:00   \n",
       "\n",
       "                                   NoteTitle  \\\n",
       "0  Notes_13644994731_8345048481_20230314.txt   \n",
       "1  Notes_13438349128_2136576931_20171006.txt   \n",
       "2  Notes_13304456538_1387333854_20170723.txt   \n",
       "3  Notes_13320631950_1986258740_20180513.txt   \n",
       "4  Notes_13489006429_5688703044_20200614.txt   \n",
       "\n",
       "                                                text  \n",
       "0  Physician ***** ***** *****     Admit date: **...  \n",
       "1    Physician ***** *****       Admit date: ****...  \n",
       "2    Physician ***** *****       Admit date: ****...  \n",
       "3    Physician ***** *****       Admit date: ****...  \n",
       "4      Physician ***** *****       Admit date: **...  "
      ]
     },
     "execution_count": 6,
     "metadata": {},
     "output_type": "execute_result"
    }
   ],
   "source": [
    "MGB_cohort = MGB_cohort.sample(frac=1, random_state=18).reset_index(drop=True)\n",
    "MGB_cohort_train, MGB_cohort_test = train_test_split(MGB_cohort, test_size=0.5, random_state=18)\n",
    "\n",
    "MGB_cohort_train = MGB_cohort_train.reset_index(drop=True)\n",
    "MGB_cohort_test = MGB_cohort_test.reset_index(drop=True)\n",
    "\n",
    "print(len(MGB_cohort))\n",
    "print(len(MGB_cohort_train))\n",
    "print(len(MGB_cohort_test))\n",
    "MGB_cohort.head()"
   ]
  },
  {
   "cell_type": "code",
   "execution_count": 7,
   "metadata": {},
   "outputs": [
    {
     "name": "stdout",
     "output_type": "stream",
     "text": [
      "1014\n",
      "507\n",
      "507\n"
     ]
    },
    {
     "data": {
      "text/html": [
       "<div>\n",
       "<style scoped>\n",
       "    .dataframe tbody tr th:only-of-type {\n",
       "        vertical-align: middle;\n",
       "    }\n",
       "\n",
       "    .dataframe tbody tr th {\n",
       "        vertical-align: top;\n",
       "    }\n",
       "\n",
       "    .dataframe thead th {\n",
       "        text-align: right;\n",
       "    }\n",
       "</style>\n",
       "<table border=\"1\" class=\"dataframe\">\n",
       "  <thead>\n",
       "    <tr style=\"text-align: right;\">\n",
       "      <th></th>\n",
       "      <th>BDSPPatientID</th>\n",
       "      <th>NoteDate</th>\n",
       "      <th>NoteTitle</th>\n",
       "      <th>text</th>\n",
       "    </tr>\n",
       "  </thead>\n",
       "  <tbody>\n",
       "    <tr>\n",
       "      <th>0</th>\n",
       "      <td>151008545</td>\n",
       "      <td>2023-04-05</td>\n",
       "      <td>Notes_1130867252_365700047_20230405.txt</td>\n",
       "      <td>\\n\\nNote Date: *****/*****/*****  Time: 1600\\n...</td>\n",
       "    </tr>\n",
       "    <tr>\n",
       "      <th>1</th>\n",
       "      <td>150015413</td>\n",
       "      <td>2019-11-27</td>\n",
       "      <td>Notes_1129873876_29532935620_20191127.txt</td>\n",
       "      <td>\\n\\nNote Date: *****/*****/*****  Time: 1617\\n...</td>\n",
       "    </tr>\n",
       "    <tr>\n",
       "      <th>2</th>\n",
       "      <td>150014103</td>\n",
       "      <td>2016-05-21</td>\n",
       "      <td>Notes_1129872893_2970987120_20160521.txt</td>\n",
       "      <td>\\n\\nNote Date: *****/*****/*****\\n\\nNote Type:...</td>\n",
       "    </tr>\n",
       "    <tr>\n",
       "      <th>3</th>\n",
       "      <td>150899108</td>\n",
       "      <td>2011-10-05</td>\n",
       "      <td>Notes_1130757663_14403889229_20111005.txt</td>\n",
       "      <td>\\n\\nNote Date: *****/*****/*****\\n\\nNote Type:...</td>\n",
       "    </tr>\n",
       "    <tr>\n",
       "      <th>4</th>\n",
       "      <td>150019202</td>\n",
       "      <td>2019-12-30</td>\n",
       "      <td>Notes_1129877655_486977503_20191230.txt</td>\n",
       "      <td>\\n\\nNote Date: *****/*****/*****  Time: 1928\\n...</td>\n",
       "    </tr>\n",
       "  </tbody>\n",
       "</table>\n",
       "</div>"
      ],
      "text/plain": [
       "   BDSPPatientID    NoteDate                                  NoteTitle  \\\n",
       "0      151008545  2023-04-05    Notes_1130867252_365700047_20230405.txt   \n",
       "1      150015413  2019-11-27  Notes_1129873876_29532935620_20191127.txt   \n",
       "2      150014103  2016-05-21   Notes_1129872893_2970987120_20160521.txt   \n",
       "3      150899108  2011-10-05  Notes_1130757663_14403889229_20111005.txt   \n",
       "4      150019202  2019-12-30    Notes_1129877655_486977503_20191230.txt   \n",
       "\n",
       "                                                text  \n",
       "0  \\n\\nNote Date: *****/*****/*****  Time: 1600\\n...  \n",
       "1  \\n\\nNote Date: *****/*****/*****  Time: 1617\\n...  \n",
       "2  \\n\\nNote Date: *****/*****/*****\\n\\nNote Type:...  \n",
       "3  \\n\\nNote Date: *****/*****/*****\\n\\nNote Type:...  \n",
       "4  \\n\\nNote Date: *****/*****/*****  Time: 1928\\n...  "
      ]
     },
     "execution_count": 7,
     "metadata": {},
     "output_type": "execute_result"
    }
   ],
   "source": [
    "BIDMC_cohort = BIDMC_cohort.sample(frac=1, random_state=18).reset_index(drop=True)\n",
    "BIDMC_cohort_train, BIDMC_cohort_test = train_test_split(BIDMC_cohort, test_size=0.5, random_state=18)\n",
    "\n",
    "BIDMC_cohort_train = BIDMC_cohort_train.reset_index(drop=True)\n",
    "BIDMC_cohort_test = BIDMC_cohort_test.reset_index(drop=True)\n",
    "\n",
    "print(len(BIDMC_cohort))\n",
    "print(len(BIDMC_cohort_train))\n",
    "print(len(BIDMC_cohort_test))\n",
    "BIDMC_cohort.head()"
   ]
  },
  {
   "cell_type": "code",
   "execution_count": 13,
   "metadata": {},
   "outputs": [],
   "source": [
    "MGB_cohort_train.to_csv('MGB_cohort_train.csv', index=False)\n",
    "MGB_cohort_test.to_csv('MGB_cohort_test.csv', index=False)\n",
    "BIDMC_cohort_train.to_csv('BIDMC_cohort_train.csv', index=False)\n",
    "BIDMC_cohort_test.to_csv('BIDMC_cohort_test.csv', index=False)"
   ]
  },
  {
   "cell_type": "markdown",
   "metadata": {},
   "source": [
    "#### Combine the training and testing cohorts"
   ]
  },
  {
   "cell_type": "code",
   "execution_count": 8,
   "metadata": {},
   "outputs": [
    {
     "name": "stdout",
     "output_type": "stream",
     "text": [
      "1548\n"
     ]
    },
    {
     "data": {
      "text/html": [
       "<div>\n",
       "<style scoped>\n",
       "    .dataframe tbody tr th:only-of-type {\n",
       "        vertical-align: middle;\n",
       "    }\n",
       "\n",
       "    .dataframe tbody tr th {\n",
       "        vertical-align: top;\n",
       "    }\n",
       "\n",
       "    .dataframe thead th {\n",
       "        text-align: right;\n",
       "    }\n",
       "</style>\n",
       "<table border=\"1\" class=\"dataframe\">\n",
       "  <thead>\n",
       "    <tr style=\"text-align: right;\">\n",
       "      <th></th>\n",
       "      <th>BDSPPatientID</th>\n",
       "      <th>NoteDate</th>\n",
       "      <th>NoteTitle</th>\n",
       "      <th>text</th>\n",
       "    </tr>\n",
       "  </thead>\n",
       "  <tbody>\n",
       "    <tr>\n",
       "      <th>0</th>\n",
       "      <td>117032881</td>\n",
       "      <td>2021-09-29 00:00:00</td>\n",
       "      <td>Notes_13689094716_7824448998_20210929.txt</td>\n",
       "      <td>Physician ***** *****       Admit date: ****...</td>\n",
       "    </tr>\n",
       "    <tr>\n",
       "      <th>1</th>\n",
       "      <td>120402560</td>\n",
       "      <td>2021-09-01</td>\n",
       "      <td>Notes_13598482458_7493034182_20210901.txt</td>\n",
       "      <td>Physician ***** *****       Admit date: ****...</td>\n",
       "    </tr>\n",
       "    <tr>\n",
       "      <th>2</th>\n",
       "      <td>111454037</td>\n",
       "      <td>2023-11-15</td>\n",
       "      <td>Notes_13666481048_10665439216_20231115.txt</td>\n",
       "      <td>Discharge Summary   Name: ***** *****...</td>\n",
       "    </tr>\n",
       "    <tr>\n",
       "      <th>3</th>\n",
       "      <td>121582882</td>\n",
       "      <td>2018-10-10 00:00:00</td>\n",
       "      <td>Notes_13329742924_1945106714_20181010.txt</td>\n",
       "      <td>Physician ***** *****       Admit date: ****...</td>\n",
       "    </tr>\n",
       "    <tr>\n",
       "      <th>4</th>\n",
       "      <td>111678728</td>\n",
       "      <td>2016-12-29 00:00:00</td>\n",
       "      <td>Notes_13278714866_1420969733_20161229.txt</td>\n",
       "      <td>Physician ***** *****       Admit date: ****...</td>\n",
       "    </tr>\n",
       "  </tbody>\n",
       "</table>\n",
       "</div>"
      ],
      "text/plain": [
       "   BDSPPatientID             NoteDate  \\\n",
       "0      117032881  2021-09-29 00:00:00   \n",
       "1      120402560           2021-09-01   \n",
       "2      111454037           2023-11-15   \n",
       "3      121582882  2018-10-10 00:00:00   \n",
       "4      111678728  2016-12-29 00:00:00   \n",
       "\n",
       "                                    NoteTitle  \\\n",
       "0   Notes_13689094716_7824448998_20210929.txt   \n",
       "1   Notes_13598482458_7493034182_20210901.txt   \n",
       "2  Notes_13666481048_10665439216_20231115.txt   \n",
       "3   Notes_13329742924_1945106714_20181010.txt   \n",
       "4   Notes_13278714866_1420969733_20161229.txt   \n",
       "\n",
       "                                                text  \n",
       "0    Physician ***** *****       Admit date: ****...  \n",
       "1    Physician ***** *****       Admit date: ****...  \n",
       "2           Discharge Summary   Name: ***** *****...  \n",
       "3    Physician ***** *****       Admit date: ****...  \n",
       "4    Physician ***** *****       Admit date: ****...  "
      ]
     },
     "execution_count": 8,
     "metadata": {},
     "output_type": "execute_result"
    }
   ],
   "source": [
    "combined_cohort_train = pd.concat([MGB_cohort_train, BIDMC_cohort_train], ignore_index=True)\n",
    "combined_cohort_test = pd.concat([MGB_cohort_test, BIDMC_cohort_test], ignore_index=True)\n",
    "\n",
    "print(len(combined_cohort_train))\n",
    "combined_cohort_train.head()"
   ]
  },
  {
   "cell_type": "code",
   "execution_count": 9,
   "metadata": {},
   "outputs": [],
   "source": [
    "combined_cohort_train.to_csv('combined_cohort_train.csv', index=False)\n",
    "combined_cohort_test.to_csv('combined_cohort_test.csv', index=False)"
   ]
  },
  {
   "cell_type": "markdown",
   "metadata": {},
   "source": [
    "Combined data is strictly separated to only include testing from each in testing and training from each in training.  This way the combined model will not be trained on any testing from hospital based models."
   ]
  }
 ],
 "metadata": {
  "kernelspec": {
   "display_name": "NAX",
   "language": "python",
   "name": "python3"
  },
  "language_info": {
   "codemirror_mode": {
    "name": "ipython",
    "version": 3
   },
   "file_extension": ".py",
   "mimetype": "text/x-python",
   "name": "python",
   "nbconvert_exporter": "python",
   "pygments_lexer": "ipython3",
   "version": "3.12.3"
  }
 },
 "nbformat": 4,
 "nbformat_minor": 2
}
