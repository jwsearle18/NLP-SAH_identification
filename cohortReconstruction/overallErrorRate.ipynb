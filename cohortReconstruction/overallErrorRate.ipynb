{
 "cells": [
  {
   "cell_type": "code",
   "execution_count": 39,
   "metadata": {},
   "outputs": [],
   "source": [
    "import pandas as pd"
   ]
  },
  {
   "cell_type": "code",
   "execution_count": 40,
   "metadata": {},
   "outputs": [
    {
     "name": "stdout",
     "output_type": "stream",
     "text": [
      "23\n",
      "100\n"
     ]
    }
   ],
   "source": [
    "# switch the source depending on the hospital your looking for\n",
    "bi_neg_cohort = pd.read_csv('/home/jsearle/bigDrive/NAX/NLP-SAH_identification/cleanCohorts/BIDMC_neg_cohort_final_updated.csv')\n",
    "bi_pos_cohort = pd.read_csv('/home/jsearle/bigDrive/NAX/NLP-SAH_identification/cleanCohorts/BIDMC_pos_cohort_final_updated.csv')\n",
    "\n",
    "mgb_neg_cohort = pd.read_csv('/home/jsearle/bigDrive/NAX/NLP-SAH_identification/cleanCohorts/MGB_neg_cohort_final.csv')\n",
    "mgb_pos_cohort = pd.read_csv('/home/jsearle/bigDrive/NAX/NLP-SAH_identification/cleanCohorts/MGB_pos_cohort_final.csv')\n",
    "\n",
    "# Select the BDSPPatientID column from each cohort\n",
    "bi_neg_ids = bi_neg_cohort[['BDSPPatientID']]\n",
    "bi_pos_ids = bi_pos_cohort[['BDSPPatientID']]\n",
    "\n",
    "mgb_neg_ids = mgb_neg_cohort[['BDSPPatientID']]\n",
    "mgb_pos_ids = mgb_pos_cohort[['BDSPPatientID']]\n",
    "\n",
    "# Combine the neg cohorts\n",
    "combined_neg_cohort = pd.concat([bi_neg_ids, mgb_neg_ids], ignore_index=True)\n",
    "\n",
    "# Combine the pos cohorts\n",
    "combined_pos_cohort = pd.concat([bi_pos_ids, mgb_pos_ids], ignore_index=True)\n",
    "\n",
    "fn = pd.read_csv('/home/jsearle/bigDrive/NAX/NLP-SAH_identification/finalModel/results/LogReg/false_negatives.csv')\n",
    "fp = pd.read_csv('/home/jsearle/bigDrive/NAX/NLP-SAH_identification/finalModel/results/LogReg/false_positives.csv')\n",
    "print(len(fn))\n",
    "print(len(fp))"
   ]
  },
  {
   "cell_type": "code",
   "execution_count": 41,
   "metadata": {},
   "outputs": [
    {
     "name": "stdout",
     "output_type": "stream",
     "text": [
      "123\n"
     ]
    },
    {
     "data": {
      "text/html": [
       "<div>\n",
       "<style scoped>\n",
       "    .dataframe tbody tr th:only-of-type {\n",
       "        vertical-align: middle;\n",
       "    }\n",
       "\n",
       "    .dataframe tbody tr th {\n",
       "        vertical-align: top;\n",
       "    }\n",
       "\n",
       "    .dataframe thead th {\n",
       "        text-align: right;\n",
       "    }\n",
       "</style>\n",
       "<table border=\"1\" class=\"dataframe\">\n",
       "  <thead>\n",
       "    <tr style=\"text-align: right;\">\n",
       "      <th></th>\n",
       "      <th>BDSPPatientID</th>\n",
       "    </tr>\n",
       "  </thead>\n",
       "  <tbody>\n",
       "    <tr>\n",
       "      <th>0</th>\n",
       "      <td>115345969</td>\n",
       "    </tr>\n",
       "    <tr>\n",
       "      <th>1</th>\n",
       "      <td>150016455</td>\n",
       "    </tr>\n",
       "    <tr>\n",
       "      <th>2</th>\n",
       "      <td>120391421</td>\n",
       "    </tr>\n",
       "    <tr>\n",
       "      <th>3</th>\n",
       "      <td>118263835</td>\n",
       "    </tr>\n",
       "    <tr>\n",
       "      <th>4</th>\n",
       "      <td>117223743</td>\n",
       "    </tr>\n",
       "  </tbody>\n",
       "</table>\n",
       "</div>"
      ],
      "text/plain": [
       "   BDSPPatientID\n",
       "0      115345969\n",
       "1      150016455\n",
       "2      120391421\n",
       "3      118263835\n",
       "4      117223743"
      ]
     },
     "execution_count": 41,
     "metadata": {},
     "output_type": "execute_result"
    }
   ],
   "source": [
    "all_errors = pd.concat([fn, fp], ignore_index=True)\n",
    "print(len(all_errors))\n",
    "all_errors.head()"
   ]
  },
  {
   "cell_type": "code",
   "execution_count": 42,
   "metadata": {},
   "outputs": [],
   "source": [
    "# Function to calculate error rates\n",
    "def calculate_error_rates(neg_cohort, pos_cohort, all_errors):\n",
    "    # Calculate the total number of patients in each cohort\n",
    "    total_neg_patients = len(neg_cohort)\n",
    "    total_pos_patients = len(pos_cohort)\n",
    "\n",
    "    # Calculate the number of errors in each cohort\n",
    "    neg_errors = len(neg_cohort[neg_cohort['BDSPPatientID'].isin(all_errors['BDSPPatientID'])])\n",
    "    pos_errors = len(pos_cohort[pos_cohort['BDSPPatientID'].isin(all_errors['BDSPPatientID'])])\n",
    "\n",
    "    # Calculate the error rates\n",
    "    neg_error_rate = neg_errors / total_neg_patients if total_neg_patients > 0 else 0\n",
    "    pos_error_rate = pos_errors / total_pos_patients if total_pos_patients > 0 else 0\n",
    "\n",
    "    # Display the results\n",
    "    print(f'Negative Cohort Error Rate: {neg_errors}/{total_neg_patients} = {neg_error_rate}')\n",
    "    print(f'Positive Cohort Error Rate: {pos_errors}/{total_pos_patients} = {pos_error_rate}')\n",
    "\n",
    "    return neg_errors, total_neg_patients, pos_errors, total_pos_patients"
   ]
  },
  {
   "cell_type": "code",
   "execution_count": 43,
   "metadata": {},
   "outputs": [
    {
     "name": "stdout",
     "output_type": "stream",
     "text": [
      "BIDMC\n",
      "Negative Cohort Error Rate: 0/499 = 0.0\n",
      "Positive Cohort Error Rate: 30/515 = 0.05825242718446602\n",
      "\n",
      "MGB\n",
      "Negative Cohort Error Rate: 1/1029 = 0.0009718172983479105\n",
      "Positive Cohort Error Rate: 92/1053 = 0.08736942070275404\n",
      "\n",
      "Combined\n",
      "Negative Cohort Error Rate: 1/1528 = 0.0006544502617801048\n",
      "Positive Cohort Error Rate: 122/1568 = 0.0778061224489796\n"
     ]
    }
   ],
   "source": [
    "# Calculate error rates for each hospital\n",
    "print('BIDMC')\n",
    "bi_neg_errors, bi_total_neg, bi_pos_errors, bi_total_pos = calculate_error_rates(bi_neg_cohort, bi_pos_cohort, all_errors)\n",
    "\n",
    "print('\\nMGB')\n",
    "mgb_neg_errors, mgb_total_neg, mgb_pos_errors, mgb_total_pos = calculate_error_rates(mgb_neg_cohort, mgb_pos_cohort, all_errors)\n",
    "\n",
    "print('\\nCombined')\n",
    "combined_neg_errors, combined_total_neg, combined_pos_errors, combined_total_pos = calculate_error_rates(combined_neg_cohort, combined_pos_cohort, all_errors)\n",
    "\n"
   ]
  },
  {
   "cell_type": "code",
   "execution_count": 47,
   "metadata": {},
   "outputs": [
    {
     "name": "stdout",
     "output_type": "stream",
     "text": [
      "MGB Error Rate: 0.17%\n"
     ]
    }
   ],
   "source": [
    "#Calculate Overall Error Rate\n",
    "# P[E] = (Pe+ * p+) + (Pe- * p-)\n",
    "\n",
    "# Calculate the overall error rate for MGB\n",
    "mgb_pos_prevalence = 85 / 10000\n",
    "mgb_neg_prevalence = 1 - mgb_pos_prevalence\n",
    "mgb_error_rate = (mgb_pos_errors / mgb_total_pos * mgb_pos_prevalence) + (mgb_neg_errors / mgb_total_neg * mgb_neg_prevalence)\n",
    "print(f'MGB Error Rate: {mgb_error_rate * 100:.2f}%')\n"
   ]
  },
  {
   "cell_type": "code",
   "execution_count": 45,
   "metadata": {},
   "outputs": [
    {
     "name": "stdout",
     "output_type": "stream",
     "text": [
      "BIDMC Error Rate: 0.01%\n"
     ]
    }
   ],
   "source": [
    "# Calculate the overall error rate for BIDMC\n",
    "bi_pos_prevalence = 21 / 10000\n",
    "bi_neg_prevalence = 1 - bi_pos_prevalence\n",
    "bi_error_rate = (bi_pos_errors / bi_total_pos * bi_pos_prevalence) + (bi_neg_errors / bi_total_neg * bi_neg_prevalence)\n",
    "print(f'BIDMC Error Rate: {bi_error_rate * 100:.2f}%')"
   ]
  },
  {
   "cell_type": "code",
   "execution_count": 46,
   "metadata": {},
   "outputs": [
    {
     "name": "stdout",
     "output_type": "stream",
     "text": [
      "Combined Error Rate: 0.11%\n"
     ]
    }
   ],
   "source": [
    "# Calculate the overall error rate for the combined cohorts\n",
    "combined_pos_prevalence = (85 + 21) / (10000 + 10000)\n",
    "combined_neg_prevalence = 1 - combined_pos_prevalence\n",
    "combined_error_rate = (combined_pos_errors / combined_total_pos * combined_pos_prevalence) + (combined_neg_errors / combined_total_neg * combined_neg_prevalence)\n",
    "print(f'Combined Error Rate: {combined_error_rate * 100:.2f}%')"
   ]
  }
 ],
 "metadata": {
  "kernelspec": {
   "display_name": "NAX",
   "language": "python",
   "name": "python3"
  },
  "language_info": {
   "codemirror_mode": {
    "name": "ipython",
    "version": 3
   },
   "file_extension": ".py",
   "mimetype": "text/x-python",
   "name": "python",
   "nbconvert_exporter": "python",
   "pygments_lexer": "ipython3",
   "version": "3.12.3"
  }
 },
 "nbformat": 4,
 "nbformat_minor": 2
}
