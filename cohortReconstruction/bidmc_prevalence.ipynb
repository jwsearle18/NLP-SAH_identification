{
 "cells": [
  {
   "cell_type": "code",
   "execution_count": 1,
   "metadata": {},
   "outputs": [],
   "source": [
    "import pandas as pd\n",
    "from thunderpack import ThunderReader\n",
    "from tqdm import tqdm\n",
    "import os\n",
    "import re\n",
    "from datetime import timedelta"
   ]
  },
  {
   "cell_type": "code",
   "execution_count": 2,
   "metadata": {},
   "outputs": [
    {
     "name": "stderr",
     "output_type": "stream",
     "text": [
      "100%|██████████| 12/12 [00:34<00:00,  2.88s/it]\n"
     ]
    },
    {
     "name": "stdout",
     "output_type": "stream",
     "text": [
      "10000\n"
     ]
    },
    {
     "data": {
      "text/html": [
       "<div>\n",
       "<style scoped>\n",
       "    .dataframe tbody tr th:only-of-type {\n",
       "        vertical-align: middle;\n",
       "    }\n",
       "\n",
       "    .dataframe tbody tr th {\n",
       "        vertical-align: top;\n",
       "    }\n",
       "\n",
       "    .dataframe thead th {\n",
       "        text-align: right;\n",
       "    }\n",
       "</style>\n",
       "<table border=\"1\" class=\"dataframe\">\n",
       "  <thead>\n",
       "    <tr style=\"text-align: right;\">\n",
       "      <th></th>\n",
       "      <th>BDSPPatientID</th>\n",
       "      <th>NoteTypeFull</th>\n",
       "      <th>Service</th>\n",
       "      <th>CreateDate</th>\n",
       "      <th>DeidentifiedName</th>\n",
       "    </tr>\n",
       "  </thead>\n",
       "  <tbody>\n",
       "    <tr>\n",
       "      <th>17731536</th>\n",
       "      <td>150049399</td>\n",
       "      <td>Progress note</td>\n",
       "      <td>Nursing</td>\n",
       "      <td>20201002</td>\n",
       "      <td>Notes_1129907921_198649726_20201002.txt</td>\n",
       "    </tr>\n",
       "    <tr>\n",
       "      <th>8782162</th>\n",
       "      <td>151229866</td>\n",
       "      <td>Letter</td>\n",
       "      <td>Dermatology</td>\n",
       "      <td>20161218</td>\n",
       "      <td>Notes_1131088794_442709467_20161218.txt</td>\n",
       "    </tr>\n",
       "    <tr>\n",
       "      <th>8328323</th>\n",
       "      <td>150012216</td>\n",
       "      <td>Progress note</td>\n",
       "      <td>Case Management</td>\n",
       "      <td>20160716</td>\n",
       "      <td>Notes_1129870751_2819162312_20160716.txt</td>\n",
       "    </tr>\n",
       "    <tr>\n",
       "      <th>4344950</th>\n",
       "      <td>150720117</td>\n",
       "      <td>Progress note</td>\n",
       "      <td>Case Management</td>\n",
       "      <td>20140224</td>\n",
       "      <td>Notes_1130578531_1381358127_20140224.txt</td>\n",
       "    </tr>\n",
       "    <tr>\n",
       "      <th>1895263</th>\n",
       "      <td>150334304</td>\n",
       "      <td>Letter</td>\n",
       "      <td>Gastroenterology</td>\n",
       "      <td>20120929</td>\n",
       "      <td>Notes_1130193228_2601394523_20120929.txt</td>\n",
       "    </tr>\n",
       "  </tbody>\n",
       "</table>\n",
       "</div>"
      ],
      "text/plain": [
       "          BDSPPatientID   NoteTypeFull           Service  CreateDate  \\\n",
       "17731536      150049399  Progress note           Nursing    20201002   \n",
       "8782162       151229866         Letter       Dermatology    20161218   \n",
       "8328323       150012216  Progress note   Case Management    20160716   \n",
       "4344950       150720117  Progress note   Case Management    20140224   \n",
       "1895263       150334304         Letter  Gastroenterology    20120929   \n",
       "\n",
       "                                  DeidentifiedName  \n",
       "17731536   Notes_1129907921_198649726_20201002.txt  \n",
       "8782162    Notes_1131088794_442709467_20161218.txt  \n",
       "8328323   Notes_1129870751_2819162312_20160716.txt  \n",
       "4344950   Notes_1130578531_1381358127_20140224.txt  \n",
       "1895263   Notes_1130193228_2601394523_20120929.txt  "
      ]
     },
     "execution_count": 2,
     "metadata": {},
     "output_type": "execute_result"
    }
   ],
   "source": [
    "year = 2010\n",
    "output_dir = '/home/jsearle/bigDrive/NAX/NLP-SAH_identification/cohortReconstruction/BIDMC/CSVs'\n",
    "\n",
    "# Create the output directory if it doesn't exist\n",
    "os.makedirs(output_dir, exist_ok=True)\n",
    "\n",
    "# Read and concatenate all CSV files\n",
    "all_data = []\n",
    "for i in tqdm(range(0, 12)):\n",
    "    df = pd.read_csv(f'/home/jsearle/bigDrive/Dropbox/zz_EHR_Thunderpacks/BIDMC/BIDMC_Deidentified_Notes_March14th2024/bidmc_notes_{year + i}_metadata.csv')\n",
    "    all_data.append(df)\n",
    "\n",
    "# Concatenate all data into a single DataFrame\n",
    "all_notes = pd.concat(all_data, axis=0, ignore_index=True)\n",
    "\n",
    "# Sample 10,000 random notes\n",
    "sampled_notes = all_notes.sample(frac=1, random_state=2024)\n",
    "sampled_notes = sampled_notes.drop_duplicates(subset='BDSPPatientID')\n",
    "sampled_notes = sampled_notes.sample(n=10000, random_state=2024)\n",
    "\n",
    "# Save the sampled notes to a CSV file\n",
    "sampled_notes.to_csv(os.path.join(output_dir, 'random_sampled_notes.csv'), index=False)\n",
    "\n",
    "# Show number of total sampled notes\n",
    "print(len(sampled_notes))\n",
    "\n",
    "# Show example\n",
    "sampled_notes.head()"
   ]
  },
  {
   "cell_type": "code",
   "execution_count": 11,
   "metadata": {},
   "outputs": [
    {
     "data": {
      "text/html": [
       "<div>\n",
       "<style scoped>\n",
       "    .dataframe tbody tr th:only-of-type {\n",
       "        vertical-align: middle;\n",
       "    }\n",
       "\n",
       "    .dataframe tbody tr th {\n",
       "        vertical-align: top;\n",
       "    }\n",
       "\n",
       "    .dataframe thead th {\n",
       "        text-align: right;\n",
       "    }\n",
       "</style>\n",
       "<table border=\"1\" class=\"dataframe\">\n",
       "  <thead>\n",
       "    <tr style=\"text-align: right;\">\n",
       "      <th></th>\n",
       "      <th>BDSPPatientID</th>\n",
       "      <th>CreateDate</th>\n",
       "      <th>DeidentifiedName</th>\n",
       "    </tr>\n",
       "  </thead>\n",
       "  <tbody>\n",
       "    <tr>\n",
       "      <th>17731536</th>\n",
       "      <td>150049399</td>\n",
       "      <td>20201002</td>\n",
       "      <td>Notes_1129907921_198649726_20201002.txt</td>\n",
       "    </tr>\n",
       "    <tr>\n",
       "      <th>8782162</th>\n",
       "      <td>151229866</td>\n",
       "      <td>20161218</td>\n",
       "      <td>Notes_1131088794_442709467_20161218.txt</td>\n",
       "    </tr>\n",
       "    <tr>\n",
       "      <th>8328323</th>\n",
       "      <td>150012216</td>\n",
       "      <td>20160716</td>\n",
       "      <td>Notes_1129870751_2819162312_20160716.txt</td>\n",
       "    </tr>\n",
       "    <tr>\n",
       "      <th>4344950</th>\n",
       "      <td>150720117</td>\n",
       "      <td>20140224</td>\n",
       "      <td>Notes_1130578531_1381358127_20140224.txt</td>\n",
       "    </tr>\n",
       "    <tr>\n",
       "      <th>1895263</th>\n",
       "      <td>150334304</td>\n",
       "      <td>20120929</td>\n",
       "      <td>Notes_1130193228_2601394523_20120929.txt</td>\n",
       "    </tr>\n",
       "  </tbody>\n",
       "</table>\n",
       "</div>"
      ],
      "text/plain": [
       "          BDSPPatientID  CreateDate                          DeidentifiedName\n",
       "17731536      150049399    20201002   Notes_1129907921_198649726_20201002.txt\n",
       "8782162       151229866    20161218   Notes_1131088794_442709467_20161218.txt\n",
       "8328323       150012216    20160716  Notes_1129870751_2819162312_20160716.txt\n",
       "4344950       150720117    20140224  Notes_1130578531_1381358127_20140224.txt\n",
       "1895263       150334304    20120929  Notes_1130193228_2601394523_20120929.txt"
      ]
     },
     "execution_count": 11,
     "metadata": {},
     "output_type": "execute_result"
    }
   ],
   "source": [
    "# clean up df, keep only relevant info\n",
    "keepColumns = ['BDSPPatientID', 'CreateDate',  'DeidentifiedName']\n",
    "sampled_notes = sampled_notes[keepColumns]\n",
    "sampled_notes.head()"
   ]
  },
  {
   "cell_type": "code",
   "execution_count": 12,
   "metadata": {},
   "outputs": [
    {
     "name": "stderr",
     "output_type": "stream",
     "text": [
      "/tmp/ipykernel_12177/759062089.py:10: FutureWarning: Setting an item of incompatible dtype is deprecated and will raise in a future error of pandas. Value '<DatetimeArray>\n",
      "['2020-10-02 00:00:00', '2016-12-18 00:00:00', '2016-07-16 00:00:00',\n",
      " '2014-02-24 00:00:00', '2012-09-29 00:00:00', '2014-05-06 00:00:00',\n",
      " '2021-09-16 00:00:00', '2014-04-22 00:00:00', '2014-09-09 00:00:00',\n",
      " '2020-12-23 00:00:00',\n",
      " ...\n",
      " '2015-08-15 00:00:00', '2020-04-09 00:00:00', '2018-07-29 00:00:00',\n",
      " '2015-06-25 00:00:00', '2017-06-27 00:00:00', '2017-06-25 00:00:00',\n",
      " '2020-05-04 00:00:00', '2018-04-10 00:00:00', '2017-05-05 00:00:00',\n",
      " '2017-01-07 00:00:00']\n",
      "Length: 10000, dtype: datetime64[ns]' has dtype incompatible with int64, please explicitly cast to a compatible dtype first.\n",
      "  sampled_notes.loc[:, 'NoteDate'] = pd.to_datetime(sampled_notes['NoteDate'], format='%Y%m%d')\n"
     ]
    },
    {
     "data": {
      "text/html": [
       "<div>\n",
       "<style scoped>\n",
       "    .dataframe tbody tr th:only-of-type {\n",
       "        vertical-align: middle;\n",
       "    }\n",
       "\n",
       "    .dataframe tbody tr th {\n",
       "        vertical-align: top;\n",
       "    }\n",
       "\n",
       "    .dataframe thead th {\n",
       "        text-align: right;\n",
       "    }\n",
       "</style>\n",
       "<table border=\"1\" class=\"dataframe\">\n",
       "  <thead>\n",
       "    <tr style=\"text-align: right;\">\n",
       "      <th></th>\n",
       "      <th>BDSPPatientID</th>\n",
       "      <th>NoteDate</th>\n",
       "      <th>NoteTitle</th>\n",
       "    </tr>\n",
       "  </thead>\n",
       "  <tbody>\n",
       "    <tr>\n",
       "      <th>17731536</th>\n",
       "      <td>150049399</td>\n",
       "      <td>2020-10-02</td>\n",
       "      <td>Notes_1129907921_198649726_20201002.txt</td>\n",
       "    </tr>\n",
       "    <tr>\n",
       "      <th>8782162</th>\n",
       "      <td>151229866</td>\n",
       "      <td>2016-12-18</td>\n",
       "      <td>Notes_1131088794_442709467_20161218.txt</td>\n",
       "    </tr>\n",
       "    <tr>\n",
       "      <th>8328323</th>\n",
       "      <td>150012216</td>\n",
       "      <td>2016-07-16</td>\n",
       "      <td>Notes_1129870751_2819162312_20160716.txt</td>\n",
       "    </tr>\n",
       "    <tr>\n",
       "      <th>4344950</th>\n",
       "      <td>150720117</td>\n",
       "      <td>2014-02-24</td>\n",
       "      <td>Notes_1130578531_1381358127_20140224.txt</td>\n",
       "    </tr>\n",
       "    <tr>\n",
       "      <th>1895263</th>\n",
       "      <td>150334304</td>\n",
       "      <td>2012-09-29</td>\n",
       "      <td>Notes_1130193228_2601394523_20120929.txt</td>\n",
       "    </tr>\n",
       "  </tbody>\n",
       "</table>\n",
       "</div>"
      ],
      "text/plain": [
       "          BDSPPatientID   NoteDate                                 NoteTitle\n",
       "17731536      150049399 2020-10-02   Notes_1129907921_198649726_20201002.txt\n",
       "8782162       151229866 2016-12-18   Notes_1131088794_442709467_20161218.txt\n",
       "8328323       150012216 2016-07-16  Notes_1129870751_2819162312_20160716.txt\n",
       "4344950       150720117 2014-02-24  Notes_1130578531_1381358127_20140224.txt\n",
       "1895263       150334304 2012-09-29  Notes_1130193228_2601394523_20120929.txt"
      ]
     },
     "execution_count": 12,
     "metadata": {},
     "output_type": "execute_result"
    }
   ],
   "source": [
    "# rename columns\n",
    "rename_dict = { \n",
    "    'CreateDate': 'NoteDate', \n",
    "    'DeidentifiedName': 'NoteTitle', \n",
    "}\n",
    "\n",
    "sampled_notes = sampled_notes.rename(columns=rename_dict)\n",
    "\n",
    "# change date column from str to datetime\n",
    "sampled_notes.loc[:, 'NoteDate'] = pd.to_datetime(sampled_notes['NoteDate'], format='%Y%m%d')\n",
    "sampled_notes.head()"
   ]
  },
  {
   "cell_type": "code",
   "execution_count": 13,
   "metadata": {},
   "outputs": [
    {
     "name": "stdout",
     "output_type": "stream",
     "text": [
      "10000\n"
     ]
    }
   ],
   "source": [
    "# Get unique patient IDs from the sampled notes\n",
    "unique_patient_ids = set(sampled_notes['BDSPPatientID'])\n",
    "print(len(unique_patient_ids))"
   ]
  },
  {
   "cell_type": "code",
   "execution_count": 6,
   "metadata": {},
   "outputs": [
    {
     "name": "stdout",
     "output_type": "stream",
     "text": [
      "36\n"
     ]
    }
   ],
   "source": [
    "reader = ThunderReader('/home/jsearle/bigDrive/Dropbox/zz_EHR_Thunderpacks/BIDMC/thunderpack_icd_9_10_nax_1m_BIDMC')\n",
    "key_length = len(list(reader.keys()))\n",
    "print(key_length)"
   ]
  },
  {
   "cell_type": "code",
   "execution_count": 7,
   "metadata": {},
   "outputs": [
    {
     "name": "stderr",
     "output_type": "stream",
     "text": [
      "100%|██████████| 36/36 [00:43<00:00,  1.21s/it]\n"
     ]
    }
   ],
   "source": [
    "output_dir = '/home/jsearle/bigDrive/NAX/NLP-SAH_identification/cohortReconstruction/BIDMC/CSVs'\n",
    "os.makedirs(output_dir, exist_ok=True)\n",
    "\n",
    "for i in tqdm(range(1, key_length + 1)):\n",
    "    df = reader[f'ICD_partition_{i}']\n",
    "    df = df[df['BDSPPatientID'].isin(unique_patient_ids)]\n",
    "    df.to_csv(os.path.join(output_dir, f'filtered_ICD_partition_{i}.csv'), index=False)"
   ]
  },
  {
   "cell_type": "code",
   "execution_count": 8,
   "metadata": {},
   "outputs": [
    {
     "name": "stdout",
     "output_type": "stream",
     "text": [
      "794783\n"
     ]
    },
    {
     "data": {
      "text/html": [
       "<div>\n",
       "<style scoped>\n",
       "    .dataframe tbody tr th:only-of-type {\n",
       "        vertical-align: middle;\n",
       "    }\n",
       "\n",
       "    .dataframe tbody tr th {\n",
       "        vertical-align: top;\n",
       "    }\n",
       "\n",
       "    .dataframe thead th {\n",
       "        text-align: right;\n",
       "    }\n",
       "</style>\n",
       "<table border=\"1\" class=\"dataframe\">\n",
       "  <thead>\n",
       "    <tr style=\"text-align: right;\">\n",
       "      <th></th>\n",
       "      <th>BDSPPatientID</th>\n",
       "      <th>BDSPEncounterID</th>\n",
       "      <th>DiagnosisSequenceNumber</th>\n",
       "      <th>DiagnosisCode</th>\n",
       "      <th>DiagnosisPoaInd</th>\n",
       "      <th>DiagnosisCodeWithDots</th>\n",
       "      <th>ShortDescription</th>\n",
       "      <th>LongDescription</th>\n",
       "      <th>DiagnosisType</th>\n",
       "      <th>AdmissionDate</th>\n",
       "      <th>DischargeDate</th>\n",
       "      <th>BDSPLastModifiedDTS</th>\n",
       "      <th>code_type</th>\n",
       "    </tr>\n",
       "  </thead>\n",
       "  <tbody>\n",
       "    <tr>\n",
       "      <th>0</th>\n",
       "      <td>151037991</td>\n",
       "      <td>1051842220</td>\n",
       "      <td>1</td>\n",
       "      <td>F4322</td>\n",
       "      <td>NaN</td>\n",
       "      <td>F43.22</td>\n",
       "      <td>ADJUSTMENT DISORDER  WIT</td>\n",
       "      <td>ADJUSTMENT DISORDER WITH ANXIETY              ...</td>\n",
       "      <td>ICD10</td>\n",
       "      <td>2017-05-18</td>\n",
       "      <td>2017-05-18</td>\n",
       "      <td>2023-07-19 19:09:12.4626110</td>\n",
       "      <td>ICD10</td>\n",
       "    </tr>\n",
       "    <tr>\n",
       "      <th>1</th>\n",
       "      <td>151037991</td>\n",
       "      <td>1051842220</td>\n",
       "      <td>2</td>\n",
       "      <td>K140</td>\n",
       "      <td>NaN</td>\n",
       "      <td>K14.0</td>\n",
       "      <td>GLOSSITIS</td>\n",
       "      <td>GLOSSITIS                                     ...</td>\n",
       "      <td>ICD10</td>\n",
       "      <td>2017-05-18</td>\n",
       "      <td>2017-05-18</td>\n",
       "      <td>2023-07-19 19:09:12.4626110</td>\n",
       "      <td>ICD10</td>\n",
       "    </tr>\n",
       "    <tr>\n",
       "      <th>2</th>\n",
       "      <td>150056604</td>\n",
       "      <td>1050860700</td>\n",
       "      <td>1</td>\n",
       "      <td>R51</td>\n",
       "      <td>NaN</td>\n",
       "      <td>R51</td>\n",
       "      <td>HEADACHE</td>\n",
       "      <td>HEADACHE                                      ...</td>\n",
       "      <td>ICD10</td>\n",
       "      <td>2016-12-23</td>\n",
       "      <td>2016-12-23</td>\n",
       "      <td>2023-07-18 11:44:35.2589490</td>\n",
       "      <td>ICD10</td>\n",
       "    </tr>\n",
       "    <tr>\n",
       "      <th>3</th>\n",
       "      <td>150056604</td>\n",
       "      <td>1050860700</td>\n",
       "      <td>2</td>\n",
       "      <td>M5481</td>\n",
       "      <td>NaN</td>\n",
       "      <td>M54.81</td>\n",
       "      <td>OCCIPITAL NEURALGIA</td>\n",
       "      <td>OCCIPITAL NEURALGIA                           ...</td>\n",
       "      <td>ICD10</td>\n",
       "      <td>2016-12-23</td>\n",
       "      <td>2016-12-23</td>\n",
       "      <td>2023-07-18 11:44:35.2589490</td>\n",
       "      <td>ICD10</td>\n",
       "    </tr>\n",
       "    <tr>\n",
       "      <th>4</th>\n",
       "      <td>151035244</td>\n",
       "      <td>1054296240</td>\n",
       "      <td>1</td>\n",
       "      <td>I82A11</td>\n",
       "      <td>NaN</td>\n",
       "      <td>I82.A11</td>\n",
       "      <td>ACUTE EMBO THROMB RT AXI</td>\n",
       "      <td>ACUTE EMBOLISM AND THROMBOSIS OF RIGHT AXILLAR...</td>\n",
       "      <td>ICD10</td>\n",
       "      <td>2022-08-25</td>\n",
       "      <td>2022-08-25</td>\n",
       "      <td>2023-07-19 19:09:12.4626110</td>\n",
       "      <td>ICD10</td>\n",
       "    </tr>\n",
       "  </tbody>\n",
       "</table>\n",
       "</div>"
      ],
      "text/plain": [
       "   BDSPPatientID  BDSPEncounterID  DiagnosisSequenceNumber DiagnosisCode  \\\n",
       "0      151037991       1051842220                        1       F4322     \n",
       "1      151037991       1051842220                        2       K140      \n",
       "2      150056604       1050860700                        1       R51       \n",
       "3      150056604       1050860700                        2       M5481     \n",
       "4      151035244       1054296240                        1       I82A11    \n",
       "\n",
       "  DiagnosisPoaInd DiagnosisCodeWithDots                     ShortDescription  \\\n",
       "0             NaN                F43.22  ADJUSTMENT DISORDER  WIT              \n",
       "1             NaN                 K14.0  GLOSSITIS                             \n",
       "2             NaN                   R51  HEADACHE                              \n",
       "3             NaN                M54.81  OCCIPITAL NEURALGIA                   \n",
       "4             NaN               I82.A11  ACUTE EMBO THROMB RT AXI              \n",
       "\n",
       "                                     LongDescription DiagnosisType  \\\n",
       "0  ADJUSTMENT DISORDER WITH ANXIETY              ...         ICD10   \n",
       "1  GLOSSITIS                                     ...         ICD10   \n",
       "2  HEADACHE                                      ...         ICD10   \n",
       "3  OCCIPITAL NEURALGIA                           ...         ICD10   \n",
       "4  ACUTE EMBOLISM AND THROMBOSIS OF RIGHT AXILLAR...         ICD10   \n",
       "\n",
       "  AdmissionDate DischargeDate          BDSPLastModifiedDTS code_type  \n",
       "0    2017-05-18    2017-05-18  2023-07-19 19:09:12.4626110     ICD10  \n",
       "1    2017-05-18    2017-05-18  2023-07-19 19:09:12.4626110     ICD10  \n",
       "2    2016-12-23    2016-12-23  2023-07-18 11:44:35.2589490     ICD10  \n",
       "3    2016-12-23    2016-12-23  2023-07-18 11:44:35.2589490     ICD10  \n",
       "4    2022-08-25    2022-08-25  2023-07-19 19:09:12.4626110     ICD10  "
      ]
     },
     "execution_count": 8,
     "metadata": {},
     "output_type": "execute_result"
    }
   ],
   "source": [
    "all_files = [os.path.join(output_dir, f) for f in os.listdir(output_dir) if f.startswith('filtered_ICD_partition_')]\n",
    "ICD_df = pd.concat((pd.read_csv(f) for f in all_files), axis=0, ignore_index=True)\n",
    "print(len(ICD_df))\n",
    "ICD_df.head()"
   ]
  },
  {
   "cell_type": "code",
   "execution_count": 9,
   "metadata": {},
   "outputs": [
    {
     "name": "stdout",
     "output_type": "stream",
     "text": [
      "2016-12-23 00:00:00\n",
      "<class 'pandas._libs.tslibs.timestamps.Timestamp'>\n"
     ]
    }
   ],
   "source": [
    "ICD_df['AdmissionDate'] = pd.to_datetime(ICD_df['AdmissionDate'])\n",
    "print(ICD_df['AdmissionDate'][2])\n",
    "print(type(ICD_df['AdmissionDate'][2]))"
   ]
  },
  {
   "cell_type": "code",
   "execution_count": 14,
   "metadata": {},
   "outputs": [],
   "source": [
    "# Regex pattern, simplified by removing redundant `(?I)`\n",
    "code_regex = \"^(I60|430).*\"\n",
    "\n",
    "def check_icd_in_period(id_, date):\n",
    "    time_window = timedelta(days=30)\n",
    "\n",
    "    # Filter the rows for the specific BDSPPatientID and within the 30-day window\n",
    "    filtered_df = ICD_df[\n",
    "        (ICD_df['BDSPPatientID'] == id_) &\n",
    "        (abs(ICD_df['AdmissionDate'] - date) <= time_window)\n",
    "    ]\n",
    "    \n",
    "    # Check if any of the filtered rows match the ICD code pattern\n",
    "    if filtered_df['DiagnosisCodeWithDots'].str.match(code_regex, flags=re.I).any():\n",
    "        return 1\n",
    "    return 0\n",
    "\n",
    "# Apply the check_icd_in_period function to each row in sampled_notes\n",
    "sampled_notes['ICD'] = sampled_notes.apply(lambda row: check_icd_in_period(row['BDSPPatientID'], row['NoteDate']), axis=1)"
   ]
  },
  {
   "cell_type": "code",
   "execution_count": 15,
   "metadata": {},
   "outputs": [
    {
     "name": "stdout",
     "output_type": "stream",
     "text": [
      "10000\n"
     ]
    },
    {
     "data": {
      "text/html": [
       "<div>\n",
       "<style scoped>\n",
       "    .dataframe tbody tr th:only-of-type {\n",
       "        vertical-align: middle;\n",
       "    }\n",
       "\n",
       "    .dataframe tbody tr th {\n",
       "        vertical-align: top;\n",
       "    }\n",
       "\n",
       "    .dataframe thead th {\n",
       "        text-align: right;\n",
       "    }\n",
       "</style>\n",
       "<table border=\"1\" class=\"dataframe\">\n",
       "  <thead>\n",
       "    <tr style=\"text-align: right;\">\n",
       "      <th></th>\n",
       "      <th>BDSPPatientID</th>\n",
       "      <th>NoteDate</th>\n",
       "      <th>NoteTitle</th>\n",
       "      <th>ICD</th>\n",
       "    </tr>\n",
       "  </thead>\n",
       "  <tbody>\n",
       "    <tr>\n",
       "      <th>17731536</th>\n",
       "      <td>150049399</td>\n",
       "      <td>2020-10-02</td>\n",
       "      <td>Notes_1129907921_198649726_20201002.txt</td>\n",
       "      <td>0</td>\n",
       "    </tr>\n",
       "    <tr>\n",
       "      <th>8782162</th>\n",
       "      <td>151229866</td>\n",
       "      <td>2016-12-18</td>\n",
       "      <td>Notes_1131088794_442709467_20161218.txt</td>\n",
       "      <td>0</td>\n",
       "    </tr>\n",
       "    <tr>\n",
       "      <th>8328323</th>\n",
       "      <td>150012216</td>\n",
       "      <td>2016-07-16</td>\n",
       "      <td>Notes_1129870751_2819162312_20160716.txt</td>\n",
       "      <td>0</td>\n",
       "    </tr>\n",
       "    <tr>\n",
       "      <th>4344950</th>\n",
       "      <td>150720117</td>\n",
       "      <td>2014-02-24</td>\n",
       "      <td>Notes_1130578531_1381358127_20140224.txt</td>\n",
       "      <td>0</td>\n",
       "    </tr>\n",
       "    <tr>\n",
       "      <th>1895263</th>\n",
       "      <td>150334304</td>\n",
       "      <td>2012-09-29</td>\n",
       "      <td>Notes_1130193228_2601394523_20120929.txt</td>\n",
       "      <td>0</td>\n",
       "    </tr>\n",
       "  </tbody>\n",
       "</table>\n",
       "</div>"
      ],
      "text/plain": [
       "          BDSPPatientID   NoteDate                                 NoteTitle  \\\n",
       "17731536      150049399 2020-10-02   Notes_1129907921_198649726_20201002.txt   \n",
       "8782162       151229866 2016-12-18   Notes_1131088794_442709467_20161218.txt   \n",
       "8328323       150012216 2016-07-16  Notes_1129870751_2819162312_20160716.txt   \n",
       "4344950       150720117 2014-02-24  Notes_1130578531_1381358127_20140224.txt   \n",
       "1895263       150334304 2012-09-29  Notes_1130193228_2601394523_20120929.txt   \n",
       "\n",
       "          ICD  \n",
       "17731536    0  \n",
       "8782162     0  \n",
       "8328323     0  \n",
       "4344950     0  \n",
       "1895263     0  "
      ]
     },
     "execution_count": 15,
     "metadata": {},
     "output_type": "execute_result"
    }
   ],
   "source": [
    "print(len(sampled_notes))\n",
    "sampled_notes.head()"
   ]
  },
  {
   "cell_type": "code",
   "execution_count": 17,
   "metadata": {},
   "outputs": [
    {
     "name": "stdout",
     "output_type": "stream",
     "text": [
      "BI\n",
      "ICD Positive Cases:  21\n",
      "ICD Negative Cases:  9979\n",
      "Prevalence:  0.0021\n"
     ]
    }
   ],
   "source": [
    "# Count the number of 1s and 0s in the ICDpos column\n",
    "icd_counts = sampled_notes['ICD'].value_counts()\n",
    "\n",
    "numPos = icd_counts.get(1, 0)\n",
    "numNeg = icd_counts.get(0, 0)\n",
    "\n",
    "prevalence = numPos/len(sampled_notes)\n",
    "\n",
    "\n",
    "print('BI')\n",
    "print('ICD Positive Cases: ', numPos)\n",
    "print('ICD Negative Cases: ', numNeg)\n",
    "print('Prevalence: ', prevalence)"
   ]
  }
 ],
 "metadata": {
  "kernelspec": {
   "display_name": "NAX",
   "language": "python",
   "name": "python3"
  },
  "language_info": {
   "codemirror_mode": {
    "name": "ipython",
    "version": 3
   },
   "file_extension": ".py",
   "mimetype": "text/x-python",
   "name": "python",
   "nbconvert_exporter": "python",
   "pygments_lexer": "ipython3",
   "version": "3.12.3"
  }
 },
 "nbformat": 4,
 "nbformat_minor": 2
}
