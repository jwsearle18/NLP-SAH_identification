{
 "cells": [
  {
   "cell_type": "code",
   "execution_count": 44,
   "metadata": {},
   "outputs": [],
   "source": [
    "import pandas as pd\n",
    "from thunderpack import ThunderReader\n",
    "from tqdm import tqdm\n",
    "import os\n",
    "import re\n",
    "from datetime import timedelta\n"
   ]
  },
  {
   "cell_type": "markdown",
   "metadata": {},
   "source": [
    "MGB"
   ]
  },
  {
   "cell_type": "code",
   "execution_count": 45,
   "metadata": {},
   "outputs": [
    {
     "name": "stderr",
     "output_type": "stream",
     "text": [
      "100%|██████████| 12/12 [00:33<00:00,  2.76s/it]\n"
     ]
    },
    {
     "name": "stdout",
     "output_type": "stream",
     "text": [
      "10000\n"
     ]
    },
    {
     "data": {
      "text/html": [
       "<div>\n",
       "<style scoped>\n",
       "    .dataframe tbody tr th:only-of-type {\n",
       "        vertical-align: middle;\n",
       "    }\n",
       "\n",
       "    .dataframe tbody tr th {\n",
       "        vertical-align: top;\n",
       "    }\n",
       "\n",
       "    .dataframe thead th {\n",
       "        text-align: right;\n",
       "    }\n",
       "</style>\n",
       "<table border=\"1\" class=\"dataframe\">\n",
       "  <thead>\n",
       "    <tr style=\"text-align: right;\">\n",
       "      <th></th>\n",
       "      <th>BDSPPatientID</th>\n",
       "      <th>ContactDate</th>\n",
       "      <th>InpatientNoteTypeDSC</th>\n",
       "      <th>DeidentifiedName</th>\n",
       "    </tr>\n",
       "  </thead>\n",
       "  <tbody>\n",
       "    <tr>\n",
       "      <th>9564516</th>\n",
       "      <td>112932836</td>\n",
       "      <td>20181103</td>\n",
       "      <td>Consults</td>\n",
       "      <td>Notes_13377519543_2592692819_20181103.txt</td>\n",
       "    </tr>\n",
       "    <tr>\n",
       "      <th>662403</th>\n",
       "      <td>119764569</td>\n",
       "      <td>20150420</td>\n",
       "      <td>Discharge Summary</td>\n",
       "      <td>Notes_13194883924_442003354_20150420.txt</td>\n",
       "    </tr>\n",
       "    <tr>\n",
       "      <th>25548921</th>\n",
       "      <td>113659421</td>\n",
       "      <td>20230725</td>\n",
       "      <td>Patient Instructions</td>\n",
       "      <td>Notes_13687733606_9228224427_20230725.txt</td>\n",
       "    </tr>\n",
       "    <tr>\n",
       "      <th>18776324</th>\n",
       "      <td>118767582</td>\n",
       "      <td>20210801</td>\n",
       "      <td>Assessment &amp; Plan Note</td>\n",
       "      <td>Notes_13543524172_6416789708_20210801.txt</td>\n",
       "    </tr>\n",
       "    <tr>\n",
       "      <th>1459988</th>\n",
       "      <td>111655576</td>\n",
       "      <td>20160128</td>\n",
       "      <td>Telephone Encounter</td>\n",
       "      <td>Notes_13245063691_1170263719_20160128.txt</td>\n",
       "    </tr>\n",
       "  </tbody>\n",
       "</table>\n",
       "</div>"
      ],
      "text/plain": [
       "          BDSPPatientID  ContactDate    InpatientNoteTypeDSC  \\\n",
       "9564516       112932836     20181103                Consults   \n",
       "662403        119764569     20150420       Discharge Summary   \n",
       "25548921      113659421     20230725    Patient Instructions   \n",
       "18776324      118767582     20210801  Assessment & Plan Note   \n",
       "1459988       111655576     20160128     Telephone Encounter   \n",
       "\n",
       "                                   DeidentifiedName  \n",
       "9564516   Notes_13377519543_2592692819_20181103.txt  \n",
       "662403     Notes_13194883924_442003354_20150420.txt  \n",
       "25548921  Notes_13687733606_9228224427_20230725.txt  \n",
       "18776324  Notes_13543524172_6416789708_20210801.txt  \n",
       "1459988   Notes_13245063691_1170263719_20160128.txt  "
      ]
     },
     "execution_count": 45,
     "metadata": {},
     "output_type": "execute_result"
    }
   ],
   "source": [
    "year = 2013\n",
    "output_dir = '/home/jsearle/bigDrive/NAX/NLP-SAH_identification/cohortReconstruction/CSVs'\n",
    "\n",
    "# Create the output directory if it doesn't exist\n",
    "os.makedirs(output_dir, exist_ok=True)\n",
    "\n",
    "# Read and concatenate all CSV files\n",
    "all_data = []\n",
    "for i in tqdm(range(0, 12)):\n",
    "    df = pd.read_csv(f'/home/jsearle/bigDrive/Dropbox/zz_EHR_Thunderpacks/MGB/MGB_Deidentified_Notes_March12th2024/mgb_notes_{year + i}_metadata.csv')\n",
    "    all_data.append(df)\n",
    "\n",
    "# Concatenate all data into a single DataFrame\n",
    "all_notes = pd.concat(all_data, axis=0, ignore_index=True)\n",
    "\n",
    "# Sample 10,000 random notes\n",
    "sampled_notes = all_notes.sample(frac=1, random_state=2024)\n",
    "sampled_notes = sampled_notes.drop_duplicates(subset='BDSPPatientID')\n",
    "sampled_notes = sampled_notes.sample(n=10000, random_state=2024)\n",
    "\n",
    "# Save the sampled notes to a CSV file\n",
    "sampled_notes.to_csv(os.path.join(output_dir, 'random_sampled_notes.csv'), index=False)\n",
    "\n",
    "# Show number of total sampled notes\n",
    "print(len(sampled_notes))\n",
    "\n",
    "# Show example\n",
    "sampled_notes.head()"
   ]
  },
  {
   "cell_type": "code",
   "execution_count": 46,
   "metadata": {},
   "outputs": [
    {
     "name": "stderr",
     "output_type": "stream",
     "text": [
      "/tmp/ipykernel_24492/2279824005.py:2: FutureWarning: Setting an item of incompatible dtype is deprecated and will raise in a future error of pandas. Value '<DatetimeArray>\n",
      "['2018-11-03 00:00:00', '2015-04-20 00:00:00', '2023-07-25 00:00:00',\n",
      " '2021-08-01 00:00:00', '2016-01-28 00:00:00', '2014-04-28 00:00:00',\n",
      " '2023-04-12 00:00:00', '2021-09-16 00:00:00', '2021-09-12 00:00:00',\n",
      " '2018-03-23 00:00:00',\n",
      " ...\n",
      " '2017-04-01 00:00:00', '2022-06-20 00:00:00', '2015-12-24 00:00:00',\n",
      " '2020-09-11 00:00:00', '2014-04-22 00:00:00', '2018-07-09 00:00:00',\n",
      " '2018-04-05 00:00:00', '2021-11-28 00:00:00', '2014-08-11 00:00:00',\n",
      " '2017-08-29 00:00:00']\n",
      "Length: 10000, dtype: datetime64[ns]' has dtype incompatible with int64, please explicitly cast to a compatible dtype first.\n",
      "  sampled_notes.loc[:, 'ContactDate'] = pd.to_datetime(sampled_notes['ContactDate'], format='%Y%m%d')\n"
     ]
    },
    {
     "data": {
      "text/html": [
       "<div>\n",
       "<style scoped>\n",
       "    .dataframe tbody tr th:only-of-type {\n",
       "        vertical-align: middle;\n",
       "    }\n",
       "\n",
       "    .dataframe tbody tr th {\n",
       "        vertical-align: top;\n",
       "    }\n",
       "\n",
       "    .dataframe thead th {\n",
       "        text-align: right;\n",
       "    }\n",
       "</style>\n",
       "<table border=\"1\" class=\"dataframe\">\n",
       "  <thead>\n",
       "    <tr style=\"text-align: right;\">\n",
       "      <th></th>\n",
       "      <th>BDSPPatientID</th>\n",
       "      <th>ContactDate</th>\n",
       "      <th>InpatientNoteTypeDSC</th>\n",
       "      <th>DeidentifiedName</th>\n",
       "    </tr>\n",
       "  </thead>\n",
       "  <tbody>\n",
       "    <tr>\n",
       "      <th>9564516</th>\n",
       "      <td>112932836</td>\n",
       "      <td>2018-11-03</td>\n",
       "      <td>Consults</td>\n",
       "      <td>Notes_13377519543_2592692819_20181103.txt</td>\n",
       "    </tr>\n",
       "    <tr>\n",
       "      <th>662403</th>\n",
       "      <td>119764569</td>\n",
       "      <td>2015-04-20</td>\n",
       "      <td>Discharge Summary</td>\n",
       "      <td>Notes_13194883924_442003354_20150420.txt</td>\n",
       "    </tr>\n",
       "    <tr>\n",
       "      <th>25548921</th>\n",
       "      <td>113659421</td>\n",
       "      <td>2023-07-25</td>\n",
       "      <td>Patient Instructions</td>\n",
       "      <td>Notes_13687733606_9228224427_20230725.txt</td>\n",
       "    </tr>\n",
       "    <tr>\n",
       "      <th>18776324</th>\n",
       "      <td>118767582</td>\n",
       "      <td>2021-08-01</td>\n",
       "      <td>Assessment &amp; Plan Note</td>\n",
       "      <td>Notes_13543524172_6416789708_20210801.txt</td>\n",
       "    </tr>\n",
       "    <tr>\n",
       "      <th>1459988</th>\n",
       "      <td>111655576</td>\n",
       "      <td>2016-01-28</td>\n",
       "      <td>Telephone Encounter</td>\n",
       "      <td>Notes_13245063691_1170263719_20160128.txt</td>\n",
       "    </tr>\n",
       "  </tbody>\n",
       "</table>\n",
       "</div>"
      ],
      "text/plain": [
       "          BDSPPatientID ContactDate    InpatientNoteTypeDSC  \\\n",
       "9564516       112932836  2018-11-03                Consults   \n",
       "662403        119764569  2015-04-20       Discharge Summary   \n",
       "25548921      113659421  2023-07-25    Patient Instructions   \n",
       "18776324      118767582  2021-08-01  Assessment & Plan Note   \n",
       "1459988       111655576  2016-01-28     Telephone Encounter   \n",
       "\n",
       "                                   DeidentifiedName  \n",
       "9564516   Notes_13377519543_2592692819_20181103.txt  \n",
       "662403     Notes_13194883924_442003354_20150420.txt  \n",
       "25548921  Notes_13687733606_9228224427_20230725.txt  \n",
       "18776324  Notes_13543524172_6416789708_20210801.txt  \n",
       "1459988   Notes_13245063691_1170263719_20160128.txt  "
      ]
     },
     "execution_count": 46,
     "metadata": {},
     "output_type": "execute_result"
    }
   ],
   "source": [
    "# change date column from str to datetime\n",
    "sampled_notes.loc[:, 'ContactDate'] = pd.to_datetime(sampled_notes['ContactDate'], format='%Y%m%d')\n",
    "sampled_notes.head()"
   ]
  },
  {
   "cell_type": "code",
   "execution_count": 47,
   "metadata": {},
   "outputs": [
    {
     "name": "stdout",
     "output_type": "stream",
     "text": [
      "10000\n"
     ]
    }
   ],
   "source": [
    "# Get unique patient IDs from the sampled notes\n",
    "unique_patient_ids = set(sampled_notes['BDSPPatientID'])\n",
    "print(len(unique_patient_ids))"
   ]
  },
  {
   "cell_type": "code",
   "execution_count": 48,
   "metadata": {},
   "outputs": [
    {
     "name": "stdout",
     "output_type": "stream",
     "text": [
      "511\n"
     ]
    }
   ],
   "source": [
    "reader = ThunderReader('/home/jsearle/bigDrive/Dropbox/zz_EHR_Thunderpacks/MGB/thunderpack_icd_9_10_1m_MGB')\n",
    "key_length = len(list(reader.keys()))\n",
    "print(key_length)"
   ]
  },
  {
   "cell_type": "code",
   "execution_count": 49,
   "metadata": {},
   "outputs": [
    {
     "name": "stderr",
     "output_type": "stream",
     "text": [
      "100%|██████████| 511/511 [24:23<00:00,  2.86s/it]\n"
     ]
    }
   ],
   "source": [
    "# Only run once, then CSVs should be saved\n",
    "# Skip this cell if CSVs is already full\n",
    "output_dir = '/home/jsearle/bigDrive/NAX/NLP-SAH_identification/cohortReconstruction/CSVs'\n",
    "os.makedirs(output_dir, exist_ok=True)\n",
    "\n",
    "for i in tqdm(range(1, key_length + 1)):\n",
    "    df = reader[f'ICD_partition_{i}']\n",
    "    df = df[df['BDSPPatientID'].isin(unique_patient_ids)]\n",
    "    df.to_csv(os.path.join(output_dir, f'filtered_ICD_partition_{i}.csv'), index=False)"
   ]
  },
  {
   "cell_type": "code",
   "execution_count": 50,
   "metadata": {},
   "outputs": [
    {
     "name": "stdout",
     "output_type": "stream",
     "text": [
      "3544714\n"
     ]
    }
   ],
   "source": [
    "\n",
    "all_files = [os.path.join(output_dir, f) for f in os.listdir(output_dir) if f.startswith('filtered_ICD_partition_')]\n",
    "ICD_df = pd.concat((pd.read_csv(f) for f in all_files), axis=0, ignore_index=True)\n",
    "print(len(ICD_df))"
   ]
  },
  {
   "cell_type": "code",
   "execution_count": 51,
   "metadata": {},
   "outputs": [
    {
     "data": {
      "text/html": [
       "<div>\n",
       "<style scoped>\n",
       "    .dataframe tbody tr th:only-of-type {\n",
       "        vertical-align: middle;\n",
       "    }\n",
       "\n",
       "    .dataframe tbody tr th {\n",
       "        vertical-align: top;\n",
       "    }\n",
       "\n",
       "    .dataframe thead th {\n",
       "        text-align: right;\n",
       "    }\n",
       "</style>\n",
       "<table border=\"1\" class=\"dataframe\">\n",
       "  <thead>\n",
       "    <tr style=\"text-align: right;\">\n",
       "      <th></th>\n",
       "      <th>BDSPEncounterID</th>\n",
       "      <th>EncounterLineNBR</th>\n",
       "      <th>BDSPPatientID</th>\n",
       "      <th>ShiftedContactDTS</th>\n",
       "      <th>ICDLineNBR</th>\n",
       "      <th>ICDCD</th>\n",
       "      <th>ICDDSC</th>\n",
       "      <th>DiagnosisNM</th>\n",
       "      <th>DiagnosisDSC</th>\n",
       "      <th>PrimaryDiagnosisFLG</th>\n",
       "      <th>DiagnosisChronicFLG</th>\n",
       "      <th>ShiftedUpdateDTS</th>\n",
       "      <th>DiagnosisLinkedProblemID</th>\n",
       "      <th>BDSPLastModifiedDTS</th>\n",
       "      <th>code_type</th>\n",
       "    </tr>\n",
       "  </thead>\n",
       "  <tbody>\n",
       "    <tr>\n",
       "      <th>0</th>\n",
       "      <td>1.338459e+10</td>\n",
       "      <td>1</td>\n",
       "      <td>116948270.0</td>\n",
       "      <td>2018-07-06 00:00:00.0000000</td>\n",
       "      <td>1.0</td>\n",
       "      <td>787.7</td>\n",
       "      <td>Abnormal feces</td>\n",
       "      <td>Abnormal stools</td>\n",
       "      <td>NaN</td>\n",
       "      <td>Y</td>\n",
       "      <td>N</td>\n",
       "      <td>2022-11-11 19:55:00.0000000</td>\n",
       "      <td>54544730.0</td>\n",
       "      <td>2023-08-16 01:10:11.7310000</td>\n",
       "      <td>ICD</td>\n",
       "    </tr>\n",
       "    <tr>\n",
       "      <th>1</th>\n",
       "      <td>1.326753e+10</td>\n",
       "      <td>1</td>\n",
       "      <td>115152158.0</td>\n",
       "      <td>2016-09-02 00:00:00.0000000</td>\n",
       "      <td>1.0</td>\n",
       "      <td>IMO0001</td>\n",
       "      <td>NaN</td>\n",
       "      <td>Uncontrolled type 2 diabetes mellitus without ...</td>\n",
       "      <td>NaN</td>\n",
       "      <td>Y</td>\n",
       "      <td>N</td>\n",
       "      <td>2022-06-19 17:36:00.0000000</td>\n",
       "      <td>NaN</td>\n",
       "      <td>2023-08-15 18:16:15.9490000</td>\n",
       "      <td>ICD</td>\n",
       "    </tr>\n",
       "    <tr>\n",
       "      <th>2</th>\n",
       "      <td>1.376776e+10</td>\n",
       "      <td>1</td>\n",
       "      <td>117357448.0</td>\n",
       "      <td>2022-10-21 00:00:00.0000000</td>\n",
       "      <td>1.0</td>\n",
       "      <td>780.39</td>\n",
       "      <td>Other convulsions</td>\n",
       "      <td>Seizure</td>\n",
       "      <td>NaN</td>\n",
       "      <td>Y</td>\n",
       "      <td>N</td>\n",
       "      <td>2022-10-21 11:19:00.0000000</td>\n",
       "      <td>143078966.0</td>\n",
       "      <td>2023-08-16 06:22:54.5000000</td>\n",
       "      <td>ICD</td>\n",
       "    </tr>\n",
       "    <tr>\n",
       "      <th>3</th>\n",
       "      <td>1.353473e+10</td>\n",
       "      <td>1</td>\n",
       "      <td>118512146.0</td>\n",
       "      <td>2021-02-02 00:00:00.0000000</td>\n",
       "      <td>1.0</td>\n",
       "      <td>202.80</td>\n",
       "      <td>Other malignant lymphomas, unspecified site, e...</td>\n",
       "      <td>Diffuse large B-cell lymphoma, unspecified bod...</td>\n",
       "      <td>NaN</td>\n",
       "      <td>Y</td>\n",
       "      <td>N</td>\n",
       "      <td>2021-02-02 15:15:00.0000000</td>\n",
       "      <td>95796118.0</td>\n",
       "      <td>2022-04-27 15:51:06.4400000</td>\n",
       "      <td>ICD</td>\n",
       "    </tr>\n",
       "    <tr>\n",
       "      <th>4</th>\n",
       "      <td>1.364966e+10</td>\n",
       "      <td>1</td>\n",
       "      <td>122087242.0</td>\n",
       "      <td>2022-04-29 00:00:00.0000000</td>\n",
       "      <td>1.0</td>\n",
       "      <td>E888.9</td>\n",
       "      <td>Unspecified fall</td>\n",
       "      <td>Fall in home, initial encounter</td>\n",
       "      <td>NaN</td>\n",
       "      <td>N</td>\n",
       "      <td>N</td>\n",
       "      <td>2022-04-29 10:48:00.0000000</td>\n",
       "      <td>NaN</td>\n",
       "      <td>2023-08-16 03:16:42.5390000</td>\n",
       "      <td>ICD</td>\n",
       "    </tr>\n",
       "  </tbody>\n",
       "</table>\n",
       "</div>"
      ],
      "text/plain": [
       "   BDSPEncounterID  EncounterLineNBR  BDSPPatientID  \\\n",
       "0     1.338459e+10                 1    116948270.0   \n",
       "1     1.326753e+10                 1    115152158.0   \n",
       "2     1.376776e+10                 1    117357448.0   \n",
       "3     1.353473e+10                 1    118512146.0   \n",
       "4     1.364966e+10                 1    122087242.0   \n",
       "\n",
       "             ShiftedContactDTS  ICDLineNBR    ICDCD  \\\n",
       "0  2018-07-06 00:00:00.0000000         1.0    787.7   \n",
       "1  2016-09-02 00:00:00.0000000         1.0  IMO0001   \n",
       "2  2022-10-21 00:00:00.0000000         1.0   780.39   \n",
       "3  2021-02-02 00:00:00.0000000         1.0   202.80   \n",
       "4  2022-04-29 00:00:00.0000000         1.0   E888.9   \n",
       "\n",
       "                                              ICDDSC  \\\n",
       "0                                     Abnormal feces   \n",
       "1                                                NaN   \n",
       "2                                  Other convulsions   \n",
       "3  Other malignant lymphomas, unspecified site, e...   \n",
       "4                                   Unspecified fall   \n",
       "\n",
       "                                         DiagnosisNM DiagnosisDSC  \\\n",
       "0                                    Abnormal stools          NaN   \n",
       "1  Uncontrolled type 2 diabetes mellitus without ...          NaN   \n",
       "2                                            Seizure          NaN   \n",
       "3  Diffuse large B-cell lymphoma, unspecified bod...          NaN   \n",
       "4                    Fall in home, initial encounter          NaN   \n",
       "\n",
       "  PrimaryDiagnosisFLG DiagnosisChronicFLG             ShiftedUpdateDTS  \\\n",
       "0                   Y                   N  2022-11-11 19:55:00.0000000   \n",
       "1                   Y                   N  2022-06-19 17:36:00.0000000   \n",
       "2                   Y                   N  2022-10-21 11:19:00.0000000   \n",
       "3                   Y                   N  2021-02-02 15:15:00.0000000   \n",
       "4                   N                   N  2022-04-29 10:48:00.0000000   \n",
       "\n",
       "   DiagnosisLinkedProblemID          BDSPLastModifiedDTS code_type  \n",
       "0                54544730.0  2023-08-16 01:10:11.7310000       ICD  \n",
       "1                       NaN  2023-08-15 18:16:15.9490000       ICD  \n",
       "2               143078966.0  2023-08-16 06:22:54.5000000       ICD  \n",
       "3                95796118.0  2022-04-27 15:51:06.4400000       ICD  \n",
       "4                       NaN  2023-08-16 03:16:42.5390000       ICD  "
      ]
     },
     "execution_count": 51,
     "metadata": {},
     "output_type": "execute_result"
    }
   ],
   "source": [
    "ICD_df.head()"
   ]
  },
  {
   "cell_type": "code",
   "execution_count": 52,
   "metadata": {},
   "outputs": [
    {
     "name": "stdout",
     "output_type": "stream",
     "text": [
      "2022-10-21 00:00:00\n",
      "<class 'pandas._libs.tslibs.timestamps.Timestamp'>\n"
     ]
    }
   ],
   "source": [
    "ICD_df['ShiftedContactDTS'] = pd.to_datetime(ICD_df['ShiftedContactDTS'])\n",
    "print(ICD_df['ShiftedContactDTS'][2])\n",
    "print(type(ICD_df['ShiftedContactDTS'][2]))"
   ]
  },
  {
   "cell_type": "code",
   "execution_count": 55,
   "metadata": {},
   "outputs": [],
   "source": [
    "# Regex pattern, simplified by removing redundant `(?I)`\n",
    "code_regex = \"^(I60|430).*\"\n",
    "\n",
    "def check_icd_in_period(id_, date):\n",
    "    time_window = timedelta(days=30)\n",
    "\n",
    "    # Filter the rows for the specific BDSPPatientID and within the 30-day window\n",
    "    filtered_df = ICD_df[\n",
    "        (ICD_df['BDSPPatientID'] == id_) &\n",
    "        (abs(ICD_df['ShiftedContactDTS'] - date) <= time_window)\n",
    "    ]\n",
    "    \n",
    "    # Check if any of the filtered rows match the ICD code pattern\n",
    "    if filtered_df['ICDCD'].str.match(code_regex, flags=re.I).any():\n",
    "        return 1\n",
    "    return 0\n",
    "\n",
    "# Apply the check_icd_in_period function to each row in sampled_notes\n",
    "sampled_notes['ICD'] = sampled_notes.apply(lambda row: check_icd_in_period(row['BDSPPatientID'], row['ContactDate']), axis=1)"
   ]
  },
  {
   "cell_type": "code",
   "execution_count": 56,
   "metadata": {},
   "outputs": [
    {
     "name": "stdout",
     "output_type": "stream",
     "text": [
      "10000\n"
     ]
    },
    {
     "data": {
      "text/html": [
       "<div>\n",
       "<style scoped>\n",
       "    .dataframe tbody tr th:only-of-type {\n",
       "        vertical-align: middle;\n",
       "    }\n",
       "\n",
       "    .dataframe tbody tr th {\n",
       "        vertical-align: top;\n",
       "    }\n",
       "\n",
       "    .dataframe thead th {\n",
       "        text-align: right;\n",
       "    }\n",
       "</style>\n",
       "<table border=\"1\" class=\"dataframe\">\n",
       "  <thead>\n",
       "    <tr style=\"text-align: right;\">\n",
       "      <th></th>\n",
       "      <th>BDSPPatientID</th>\n",
       "      <th>ContactDate</th>\n",
       "      <th>InpatientNoteTypeDSC</th>\n",
       "      <th>DeidentifiedName</th>\n",
       "      <th>ICD</th>\n",
       "    </tr>\n",
       "  </thead>\n",
       "  <tbody>\n",
       "    <tr>\n",
       "      <th>9564516</th>\n",
       "      <td>112932836</td>\n",
       "      <td>2018-11-03</td>\n",
       "      <td>Consults</td>\n",
       "      <td>Notes_13377519543_2592692819_20181103.txt</td>\n",
       "      <td>0</td>\n",
       "    </tr>\n",
       "    <tr>\n",
       "      <th>662403</th>\n",
       "      <td>119764569</td>\n",
       "      <td>2015-04-20</td>\n",
       "      <td>Discharge Summary</td>\n",
       "      <td>Notes_13194883924_442003354_20150420.txt</td>\n",
       "      <td>0</td>\n",
       "    </tr>\n",
       "    <tr>\n",
       "      <th>25548921</th>\n",
       "      <td>113659421</td>\n",
       "      <td>2023-07-25</td>\n",
       "      <td>Patient Instructions</td>\n",
       "      <td>Notes_13687733606_9228224427_20230725.txt</td>\n",
       "      <td>0</td>\n",
       "    </tr>\n",
       "    <tr>\n",
       "      <th>18776324</th>\n",
       "      <td>118767582</td>\n",
       "      <td>2021-08-01</td>\n",
       "      <td>Assessment &amp; Plan Note</td>\n",
       "      <td>Notes_13543524172_6416789708_20210801.txt</td>\n",
       "      <td>0</td>\n",
       "    </tr>\n",
       "    <tr>\n",
       "      <th>1459988</th>\n",
       "      <td>111655576</td>\n",
       "      <td>2016-01-28</td>\n",
       "      <td>Telephone Encounter</td>\n",
       "      <td>Notes_13245063691_1170263719_20160128.txt</td>\n",
       "      <td>0</td>\n",
       "    </tr>\n",
       "  </tbody>\n",
       "</table>\n",
       "</div>"
      ],
      "text/plain": [
       "          BDSPPatientID ContactDate    InpatientNoteTypeDSC  \\\n",
       "9564516       112932836  2018-11-03                Consults   \n",
       "662403        119764569  2015-04-20       Discharge Summary   \n",
       "25548921      113659421  2023-07-25    Patient Instructions   \n",
       "18776324      118767582  2021-08-01  Assessment & Plan Note   \n",
       "1459988       111655576  2016-01-28     Telephone Encounter   \n",
       "\n",
       "                                   DeidentifiedName  ICD  \n",
       "9564516   Notes_13377519543_2592692819_20181103.txt    0  \n",
       "662403     Notes_13194883924_442003354_20150420.txt    0  \n",
       "25548921  Notes_13687733606_9228224427_20230725.txt    0  \n",
       "18776324  Notes_13543524172_6416789708_20210801.txt    0  \n",
       "1459988   Notes_13245063691_1170263719_20160128.txt    0  "
      ]
     },
     "execution_count": 56,
     "metadata": {},
     "output_type": "execute_result"
    }
   ],
   "source": [
    "print(len(sampled_notes))\n",
    "sampled_notes.head()"
   ]
  },
  {
   "cell_type": "code",
   "execution_count": 59,
   "metadata": {},
   "outputs": [
    {
     "name": "stdout",
     "output_type": "stream",
     "text": [
      "MGB\n",
      "ICD Positive Cases:  85\n",
      "ICD Negative Cases:  9915\n",
      "ICD Positive Prevalence:  0.0085\n",
      "ICD Negative Prevalence:  0.9915\n"
     ]
    }
   ],
   "source": [
    "# Count the number of 1s and 0s in the ICDpos column\n",
    "icd_counts = sampled_notes['ICD'].value_counts()\n",
    "\n",
    "numPos = icd_counts.get(1, 0)\n",
    "numNeg = icd_counts.get(0, 0)\n",
    "\n",
    "posPrevalence = numPos/len(sampled_notes)\n",
    "negPrevalence = numNeg/len(sampled_notes)\n",
    "\n",
    "print('MGB')\n",
    "print('ICD Positive Cases: ', numPos)\n",
    "print('ICD Negative Cases: ', numNeg)\n",
    "print('ICD Positive Prevalence: ', posPrevalence)\n",
    "print('ICD Negative Prevalence: ', negPrevalence)"
   ]
  },
  {
   "cell_type": "code",
   "execution_count": null,
   "metadata": {},
   "outputs": [],
   "source": []
  }
 ],
 "metadata": {
  "kernelspec": {
   "display_name": "NAX",
   "language": "python",
   "name": "python3"
  },
  "language_info": {
   "codemirror_mode": {
    "name": "ipython",
    "version": 3
   },
   "file_extension": ".py",
   "mimetype": "text/x-python",
   "name": "python",
   "nbconvert_exporter": "python",
   "pygments_lexer": "ipython3",
   "version": "3.12.3"
  }
 },
 "nbformat": 4,
 "nbformat_minor": 2
}
