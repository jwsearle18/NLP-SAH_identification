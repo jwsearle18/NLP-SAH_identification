{
 "cells": [
  {
   "cell_type": "code",
   "execution_count": 1,
   "metadata": {},
   "outputs": [],
   "source": [
    "import pandas as pd\n",
    "from thunderpack import ThunderReader\n",
    "from tqdm import tqdm\n",
    "import re\n",
    "import gc"
   ]
  },
  {
   "cell_type": "markdown",
   "metadata": {},
   "source": [
    "# Goal of this notebook:\n",
    " - Filter my current dataframe (pre_cpt_filtering.csv) to only include patients who have either had a head CT or a brain MRI\n",
    " - Plan to do so:\n",
    "   - Read in cpt df\n",
    "   - Filter for head CT and brain MRI codes\n",
    "   - Extract list of patient ID's\n",
    "   - Read in pre_cpt_filtering.csv\n",
    "   - Pull ID column, compare with cpt ID's, and keep overlap\n",
    "   - Filter pre_cpt_filtering based on the new list\n"
   ]
  },
  {
   "cell_type": "code",
   "execution_count": 2,
   "metadata": {},
   "outputs": [
    {
     "name": "stdout",
     "output_type": "stream",
     "text": [
      "735\n"
     ]
    }
   ],
   "source": [
    "reader = ThunderReader('/home/jsearle/bigDrive/Dropbox/zz_EHR_Thunderpacks/MGB/thunderpack_cpt_1m_MGB')\n",
    "key_length = len(list(reader.keys()))\n",
    "print(key_length)"
   ]
  },
  {
   "cell_type": "markdown",
   "metadata": {},
   "source": [
    "### CPT Codes to filter for:\n",
    "**70450**: \tCT Head or Brain without contrast\\\n",
    "**70460**:\tCT Head or Brain with contrast\\\n",
    "**70470**: \tCT Head or Brain without contrast, followed by contrast and further sections\\\n",
    "**70551**: \tMRI Brain (including brain stem) without contrast\\\n",
    "**70552**: \tMRI Brain (including brain stem) with contrast\\\n",
    "**70553**: \tMRI Brain (including brain stem) without contrast, followed by with contrast"
   ]
  },
  {
   "cell_type": "code",
   "execution_count": 3,
   "metadata": {},
   "outputs": [],
   "source": [
    "code_regex = \"(?:70450|70460|70470|70551|70552|70553)\""
   ]
  },
  {
   "cell_type": "code",
   "execution_count": 4,
   "metadata": {},
   "outputs": [
    {
     "name": "stderr",
     "output_type": "stream",
     "text": [
      "100%|██████████| 735/735 [26:19<00:00,  2.15s/it]\n"
     ]
    }
   ],
   "source": [
    "dfs = []\n",
    "for i in tqdm(range(1, key_length + 1)):\n",
    "    df = reader[f'cpt_partition_{i}']\n",
    "    df = df[df['CPT'].astype(str).str.match(code_regex)]\n",
    "    dfs.append(df)"
   ]
  },
  {
   "cell_type": "code",
   "execution_count": 5,
   "metadata": {},
   "outputs": [
    {
     "name": "stdout",
     "output_type": "stream",
     "text": [
      "2723303\n"
     ]
    }
   ],
   "source": [
    "df = pd.concat(dfs, axis=0, ignore_index=True)\n",
    "print(len(df))"
   ]
  },
  {
   "cell_type": "code",
   "execution_count": 6,
   "metadata": {},
   "outputs": [
    {
     "data": {
      "text/html": [
       "<div>\n",
       "<style scoped>\n",
       "    .dataframe tbody tr th:only-of-type {\n",
       "        vertical-align: middle;\n",
       "    }\n",
       "\n",
       "    .dataframe tbody tr th {\n",
       "        vertical-align: top;\n",
       "    }\n",
       "\n",
       "    .dataframe thead th {\n",
       "        text-align: right;\n",
       "    }\n",
       "</style>\n",
       "<table border=\"1\" class=\"dataframe\">\n",
       "  <thead>\n",
       "    <tr style=\"text-align: right;\">\n",
       "      <th></th>\n",
       "      <th>BDSPPatientID</th>\n",
       "      <th>BDSPEncounterID</th>\n",
       "      <th>CPT</th>\n",
       "      <th>StartDTS</th>\n",
       "      <th>EndDTS</th>\n",
       "      <th>BDSPLastModifiedDTS</th>\n",
       "    </tr>\n",
       "  </thead>\n",
       "  <tbody>\n",
       "    <tr>\n",
       "      <th>0</th>\n",
       "      <td>116257406</td>\n",
       "      <td>13555739296</td>\n",
       "      <td>70553</td>\n",
       "      <td>2021-08-15 00:00:00.0000000</td>\n",
       "      <td>2021-08-17 00:00:00.0000000</td>\n",
       "      <td>2022-12-09 09:18:39.4433333</td>\n",
       "    </tr>\n",
       "    <tr>\n",
       "      <th>1</th>\n",
       "      <td>111316311</td>\n",
       "      <td>10342917280</td>\n",
       "      <td>70450</td>\n",
       "      <td>2019-01-01 00:00:00.0000000</td>\n",
       "      <td>2019-01-01 00:00:00.0000000</td>\n",
       "      <td>2023-01-09 10:56:39.1333333</td>\n",
       "    </tr>\n",
       "    <tr>\n",
       "      <th>2</th>\n",
       "      <td>120960333</td>\n",
       "      <td>10659988635</td>\n",
       "      <td>70553</td>\n",
       "      <td>2016-08-30 00:00:00.0000000</td>\n",
       "      <td>2016-08-30 00:00:00.0000000</td>\n",
       "      <td>2023-01-09 10:56:39.1333333</td>\n",
       "    </tr>\n",
       "    <tr>\n",
       "      <th>3</th>\n",
       "      <td>114483137</td>\n",
       "      <td>13426862981</td>\n",
       "      <td>70450</td>\n",
       "      <td>2019-08-18 00:00:00.0000000</td>\n",
       "      <td>2019-08-30 00:00:00.0000000</td>\n",
       "      <td>2022-12-09 08:29:42.8766667</td>\n",
       "    </tr>\n",
       "    <tr>\n",
       "      <th>4</th>\n",
       "      <td>112591416</td>\n",
       "      <td>10780820903</td>\n",
       "      <td>70450</td>\n",
       "      <td>2020-06-18 00:00:00.0000000</td>\n",
       "      <td>2020-06-18 00:00:00.0000000</td>\n",
       "      <td>2023-01-09 10:56:39.1333333</td>\n",
       "    </tr>\n",
       "  </tbody>\n",
       "</table>\n",
       "</div>"
      ],
      "text/plain": [
       "  BDSPPatientID BDSPEncounterID    CPT                     StartDTS  \\\n",
       "0     116257406     13555739296  70553  2021-08-15 00:00:00.0000000   \n",
       "1     111316311     10342917280  70450  2019-01-01 00:00:00.0000000   \n",
       "2     120960333     10659988635  70553  2016-08-30 00:00:00.0000000   \n",
       "3     114483137     13426862981  70450  2019-08-18 00:00:00.0000000   \n",
       "4     112591416     10780820903  70450  2020-06-18 00:00:00.0000000   \n",
       "\n",
       "                        EndDTS          BDSPLastModifiedDTS  \n",
       "0  2021-08-17 00:00:00.0000000  2022-12-09 09:18:39.4433333  \n",
       "1  2019-01-01 00:00:00.0000000  2023-01-09 10:56:39.1333333  \n",
       "2  2016-08-30 00:00:00.0000000  2023-01-09 10:56:39.1333333  \n",
       "3  2019-08-30 00:00:00.0000000  2022-12-09 08:29:42.8766667  \n",
       "4  2020-06-18 00:00:00.0000000  2023-01-09 10:56:39.1333333  "
      ]
     },
     "execution_count": 6,
     "metadata": {},
     "output_type": "execute_result"
    }
   ],
   "source": [
    "df.head()"
   ]
  },
  {
   "cell_type": "code",
   "execution_count": 7,
   "metadata": {},
   "outputs": [
    {
     "name": "stdout",
     "output_type": "stream",
     "text": [
      "430691\n"
     ]
    }
   ],
   "source": [
    "unique_pt_ids = set(df['BDSPPatientID'])\n",
    "print(len(unique_pt_ids))"
   ]
  },
  {
   "cell_type": "markdown",
   "metadata": {},
   "source": [
    "The variable 'unique_pt_ids' is a set of all patient ID's associated with a patient that has had either a Head CT or Brain MRI\\\n",
    "Next Steps:\n",
    " - Read in the pre_cpt_filtering.csv dataframe\n",
    " - Pull the unique pt ID's from that df\n",
    " - Find the overlap"
   ]
  },
  {
   "cell_type": "code",
   "execution_count": 8,
   "metadata": {},
   "outputs": [
    {
     "data": {
      "text/html": [
       "<div>\n",
       "<style scoped>\n",
       "    .dataframe tbody tr th:only-of-type {\n",
       "        vertical-align: middle;\n",
       "    }\n",
       "\n",
       "    .dataframe tbody tr th {\n",
       "        vertical-align: top;\n",
       "    }\n",
       "\n",
       "    .dataframe thead th {\n",
       "        text-align: right;\n",
       "    }\n",
       "</style>\n",
       "<table border=\"1\" class=\"dataframe\">\n",
       "  <thead>\n",
       "    <tr style=\"text-align: right;\">\n",
       "      <th></th>\n",
       "      <th>BDSPPatientID</th>\n",
       "      <th>ICD_Date</th>\n",
       "      <th>NoteDate</th>\n",
       "      <th>ICD</th>\n",
       "      <th>CodeType</th>\n",
       "      <th>NoteTitle</th>\n",
       "    </tr>\n",
       "  </thead>\n",
       "  <tbody>\n",
       "    <tr>\n",
       "      <th>0</th>\n",
       "      <td>121173304.0</td>\n",
       "      <td>2021-03-07</td>\n",
       "      <td>2021-02-26 00:00:00</td>\n",
       "      <td>205.00</td>\n",
       "      <td>ICD</td>\n",
       "      <td>Notes_13542494271_5936347980_20210226.txt</td>\n",
       "    </tr>\n",
       "    <tr>\n",
       "      <th>1</th>\n",
       "      <td>112711779.0</td>\n",
       "      <td>2022-04-01</td>\n",
       "      <td>2022-04-05 00:00:00</td>\n",
       "      <td>793.11</td>\n",
       "      <td>ICD</td>\n",
       "      <td>Notes_13500753060_5772195018_20220405.txt</td>\n",
       "    </tr>\n",
       "    <tr>\n",
       "      <th>2</th>\n",
       "      <td>117553376.0</td>\n",
       "      <td>2017-09-19</td>\n",
       "      <td>2017-08-24 00:00:00</td>\n",
       "      <td>368.8</td>\n",
       "      <td>ICD</td>\n",
       "      <td>Notes_13336483339_1359110280_20170824.txt</td>\n",
       "    </tr>\n",
       "    <tr>\n",
       "      <th>3</th>\n",
       "      <td>111813998.0</td>\n",
       "      <td>2019-01-22</td>\n",
       "      <td>2019-02-07 00:00:00</td>\n",
       "      <td>V49.89</td>\n",
       "      <td>ICD</td>\n",
       "      <td>Notes_13416480748_2022890910_20190207.txt</td>\n",
       "    </tr>\n",
       "    <tr>\n",
       "      <th>4</th>\n",
       "      <td>116523553.0</td>\n",
       "      <td>2017-04-19</td>\n",
       "      <td>2017-04-25 00:00:00</td>\n",
       "      <td>648.83</td>\n",
       "      <td>ICD</td>\n",
       "      <td>Notes_13291229443_1699851441_20170425.txt</td>\n",
       "    </tr>\n",
       "  </tbody>\n",
       "</table>\n",
       "</div>"
      ],
      "text/plain": [
       "   BDSPPatientID    ICD_Date             NoteDate     ICD CodeType  \\\n",
       "0    121173304.0  2021-03-07  2021-02-26 00:00:00  205.00      ICD   \n",
       "1    112711779.0  2022-04-01  2022-04-05 00:00:00  793.11      ICD   \n",
       "2    117553376.0  2017-09-19  2017-08-24 00:00:00   368.8      ICD   \n",
       "3    111813998.0  2019-01-22  2019-02-07 00:00:00  V49.89      ICD   \n",
       "4    116523553.0  2017-04-19  2017-04-25 00:00:00  648.83      ICD   \n",
       "\n",
       "                                   NoteTitle  \n",
       "0  Notes_13542494271_5936347980_20210226.txt  \n",
       "1  Notes_13500753060_5772195018_20220405.txt  \n",
       "2  Notes_13336483339_1359110280_20170824.txt  \n",
       "3  Notes_13416480748_2022890910_20190207.txt  \n",
       "4  Notes_13291229443_1699851441_20170425.txt  "
      ]
     },
     "execution_count": 8,
     "metadata": {},
     "output_type": "execute_result"
    }
   ],
   "source": [
    "pre_cpt_filtering = pd.read_csv('pre_cpt_filtering.csv')\n",
    "pre_cpt_filtering.head()"
   ]
  },
  {
   "cell_type": "code",
   "execution_count": 9,
   "metadata": {},
   "outputs": [
    {
     "name": "stdout",
     "output_type": "stream",
     "text": [
      "<class 'numpy.float64'>\n",
      "<class 'str'>\n"
     ]
    }
   ],
   "source": [
    "print(type(pre_cpt_filtering['BDSPPatientID'][0]))\n",
    "print(type(df['BDSPPatientID'][0]))"
   ]
  },
  {
   "cell_type": "code",
   "execution_count": 10,
   "metadata": {},
   "outputs": [],
   "source": [
    "pre_cpt_filtering['BDSPPatientID'] = pre_cpt_filtering['BDSPPatientID'].astype(int).astype(str)"
   ]
  },
  {
   "cell_type": "code",
   "execution_count": 11,
   "metadata": {},
   "outputs": [
    {
     "data": {
      "text/html": [
       "<div>\n",
       "<style scoped>\n",
       "    .dataframe tbody tr th:only-of-type {\n",
       "        vertical-align: middle;\n",
       "    }\n",
       "\n",
       "    .dataframe tbody tr th {\n",
       "        vertical-align: top;\n",
       "    }\n",
       "\n",
       "    .dataframe thead th {\n",
       "        text-align: right;\n",
       "    }\n",
       "</style>\n",
       "<table border=\"1\" class=\"dataframe\">\n",
       "  <thead>\n",
       "    <tr style=\"text-align: right;\">\n",
       "      <th></th>\n",
       "      <th>BDSPPatientID</th>\n",
       "      <th>ICD_Date</th>\n",
       "      <th>NoteDate</th>\n",
       "      <th>ICD</th>\n",
       "      <th>CodeType</th>\n",
       "      <th>NoteTitle</th>\n",
       "    </tr>\n",
       "  </thead>\n",
       "  <tbody>\n",
       "    <tr>\n",
       "      <th>0</th>\n",
       "      <td>121173304</td>\n",
       "      <td>2021-03-07</td>\n",
       "      <td>2021-02-26 00:00:00</td>\n",
       "      <td>205.00</td>\n",
       "      <td>ICD</td>\n",
       "      <td>Notes_13542494271_5936347980_20210226.txt</td>\n",
       "    </tr>\n",
       "    <tr>\n",
       "      <th>1</th>\n",
       "      <td>112711779</td>\n",
       "      <td>2022-04-01</td>\n",
       "      <td>2022-04-05 00:00:00</td>\n",
       "      <td>793.11</td>\n",
       "      <td>ICD</td>\n",
       "      <td>Notes_13500753060_5772195018_20220405.txt</td>\n",
       "    </tr>\n",
       "    <tr>\n",
       "      <th>2</th>\n",
       "      <td>117553376</td>\n",
       "      <td>2017-09-19</td>\n",
       "      <td>2017-08-24 00:00:00</td>\n",
       "      <td>368.8</td>\n",
       "      <td>ICD</td>\n",
       "      <td>Notes_13336483339_1359110280_20170824.txt</td>\n",
       "    </tr>\n",
       "    <tr>\n",
       "      <th>3</th>\n",
       "      <td>111813998</td>\n",
       "      <td>2019-01-22</td>\n",
       "      <td>2019-02-07 00:00:00</td>\n",
       "      <td>V49.89</td>\n",
       "      <td>ICD</td>\n",
       "      <td>Notes_13416480748_2022890910_20190207.txt</td>\n",
       "    </tr>\n",
       "    <tr>\n",
       "      <th>4</th>\n",
       "      <td>116523553</td>\n",
       "      <td>2017-04-19</td>\n",
       "      <td>2017-04-25 00:00:00</td>\n",
       "      <td>648.83</td>\n",
       "      <td>ICD</td>\n",
       "      <td>Notes_13291229443_1699851441_20170425.txt</td>\n",
       "    </tr>\n",
       "  </tbody>\n",
       "</table>\n",
       "</div>"
      ],
      "text/plain": [
       "  BDSPPatientID    ICD_Date             NoteDate     ICD CodeType  \\\n",
       "0     121173304  2021-03-07  2021-02-26 00:00:00  205.00      ICD   \n",
       "1     112711779  2022-04-01  2022-04-05 00:00:00  793.11      ICD   \n",
       "2     117553376  2017-09-19  2017-08-24 00:00:00   368.8      ICD   \n",
       "3     111813998  2019-01-22  2019-02-07 00:00:00  V49.89      ICD   \n",
       "4     116523553  2017-04-19  2017-04-25 00:00:00  648.83      ICD   \n",
       "\n",
       "                                   NoteTitle  \n",
       "0  Notes_13542494271_5936347980_20210226.txt  \n",
       "1  Notes_13500753060_5772195018_20220405.txt  \n",
       "2  Notes_13336483339_1359110280_20170824.txt  \n",
       "3  Notes_13416480748_2022890910_20190207.txt  \n",
       "4  Notes_13291229443_1699851441_20170425.txt  "
      ]
     },
     "execution_count": 11,
     "metadata": {},
     "output_type": "execute_result"
    }
   ],
   "source": [
    "pre_cpt_filtering.head()"
   ]
  },
  {
   "cell_type": "code",
   "execution_count": 12,
   "metadata": {},
   "outputs": [],
   "source": [
    "unique_pre_cpt = set(pre_cpt_filtering['BDSPPatientID'])"
   ]
  },
  {
   "cell_type": "code",
   "execution_count": 13,
   "metadata": {},
   "outputs": [
    {
     "name": "stdout",
     "output_type": "stream",
     "text": [
      "23899\n"
     ]
    }
   ],
   "source": [
    "overlap = unique_pt_ids.intersection(unique_pre_cpt)\n",
    "print(len(overlap))"
   ]
  },
  {
   "cell_type": "markdown",
   "metadata": {},
   "source": [
    "Looks like we have 23,899 patients who overlap.  Let's filter the pre_cpt file to only include those patients"
   ]
  },
  {
   "cell_type": "code",
   "execution_count": 15,
   "metadata": {},
   "outputs": [
    {
     "name": "stdout",
     "output_type": "stream",
     "text": [
      "757913\n"
     ]
    }
   ],
   "source": [
    "prepped_df = pre_cpt_filtering[pre_cpt_filtering['BDSPPatientID'].isin(overlap)]\n",
    "print(len(prepped_df))"
   ]
  },
  {
   "cell_type": "code",
   "execution_count": 16,
   "metadata": {},
   "outputs": [
    {
     "data": {
      "text/html": [
       "<div>\n",
       "<style scoped>\n",
       "    .dataframe tbody tr th:only-of-type {\n",
       "        vertical-align: middle;\n",
       "    }\n",
       "\n",
       "    .dataframe tbody tr th {\n",
       "        vertical-align: top;\n",
       "    }\n",
       "\n",
       "    .dataframe thead th {\n",
       "        text-align: right;\n",
       "    }\n",
       "</style>\n",
       "<table border=\"1\" class=\"dataframe\">\n",
       "  <thead>\n",
       "    <tr style=\"text-align: right;\">\n",
       "      <th></th>\n",
       "      <th>BDSPPatientID</th>\n",
       "      <th>ICD_Date</th>\n",
       "      <th>NoteDate</th>\n",
       "      <th>ICD</th>\n",
       "      <th>CodeType</th>\n",
       "      <th>NoteTitle</th>\n",
       "    </tr>\n",
       "  </thead>\n",
       "  <tbody>\n",
       "    <tr>\n",
       "      <th>0</th>\n",
       "      <td>121173304</td>\n",
       "      <td>2021-03-07</td>\n",
       "      <td>2021-02-26 00:00:00</td>\n",
       "      <td>205.00</td>\n",
       "      <td>ICD</td>\n",
       "      <td>Notes_13542494271_5936347980_20210226.txt</td>\n",
       "    </tr>\n",
       "    <tr>\n",
       "      <th>1</th>\n",
       "      <td>112711779</td>\n",
       "      <td>2022-04-01</td>\n",
       "      <td>2022-04-05 00:00:00</td>\n",
       "      <td>793.11</td>\n",
       "      <td>ICD</td>\n",
       "      <td>Notes_13500753060_5772195018_20220405.txt</td>\n",
       "    </tr>\n",
       "    <tr>\n",
       "      <th>2</th>\n",
       "      <td>117553376</td>\n",
       "      <td>2017-09-19</td>\n",
       "      <td>2017-08-24 00:00:00</td>\n",
       "      <td>368.8</td>\n",
       "      <td>ICD</td>\n",
       "      <td>Notes_13336483339_1359110280_20170824.txt</td>\n",
       "    </tr>\n",
       "    <tr>\n",
       "      <th>3</th>\n",
       "      <td>111813998</td>\n",
       "      <td>2019-01-22</td>\n",
       "      <td>2019-02-07 00:00:00</td>\n",
       "      <td>V49.89</td>\n",
       "      <td>ICD</td>\n",
       "      <td>Notes_13416480748_2022890910_20190207.txt</td>\n",
       "    </tr>\n",
       "    <tr>\n",
       "      <th>4</th>\n",
       "      <td>116523553</td>\n",
       "      <td>2017-04-19</td>\n",
       "      <td>2017-04-25 00:00:00</td>\n",
       "      <td>648.83</td>\n",
       "      <td>ICD</td>\n",
       "      <td>Notes_13291229443_1699851441_20170425.txt</td>\n",
       "    </tr>\n",
       "  </tbody>\n",
       "</table>\n",
       "</div>"
      ],
      "text/plain": [
       "  BDSPPatientID    ICD_Date             NoteDate     ICD CodeType  \\\n",
       "0     121173304  2021-03-07  2021-02-26 00:00:00  205.00      ICD   \n",
       "1     112711779  2022-04-01  2022-04-05 00:00:00  793.11      ICD   \n",
       "2     117553376  2017-09-19  2017-08-24 00:00:00   368.8      ICD   \n",
       "3     111813998  2019-01-22  2019-02-07 00:00:00  V49.89      ICD   \n",
       "4     116523553  2017-04-19  2017-04-25 00:00:00  648.83      ICD   \n",
       "\n",
       "                                   NoteTitle  \n",
       "0  Notes_13542494271_5936347980_20210226.txt  \n",
       "1  Notes_13500753060_5772195018_20220405.txt  \n",
       "2  Notes_13336483339_1359110280_20170824.txt  \n",
       "3  Notes_13416480748_2022890910_20190207.txt  \n",
       "4  Notes_13291229443_1699851441_20170425.txt  "
      ]
     },
     "execution_count": 16,
     "metadata": {},
     "output_type": "execute_result"
    }
   ],
   "source": [
    "prepped_df.head()"
   ]
  },
  {
   "cell_type": "markdown",
   "metadata": {},
   "source": [
    "# Goal Accomplished\n",
    "Summary:\n",
    " - Got the CPT dataframe read in while filtering for head CTs and brain MRIs\n",
    " - Pulled unique list of patient ID's\n",
    " - Got the pre_cpt_filtering csv file read in\n",
    " - Pulled unique list of patient ID's from this df\n",
    " - Found the overlap\n",
    " - Filtered the csv df to only include this overlap\n",
    "\n",
    "Next:\n",
    " - Save it to a new csv\n",
    " - Create cohorts based on ICD code +/-"
   ]
  },
  {
   "cell_type": "code",
   "execution_count": 17,
   "metadata": {},
   "outputs": [],
   "source": [
    "prepped_df.to_csv('prepped_df.csv', index=False, header=True, sep=',', na_rep='NA')"
   ]
  },
  {
   "cell_type": "code",
   "execution_count": 18,
   "metadata": {},
   "outputs": [
    {
     "data": {
      "text/html": [
       "<div>\n",
       "<style scoped>\n",
       "    .dataframe tbody tr th:only-of-type {\n",
       "        vertical-align: middle;\n",
       "    }\n",
       "\n",
       "    .dataframe tbody tr th {\n",
       "        vertical-align: top;\n",
       "    }\n",
       "\n",
       "    .dataframe thead th {\n",
       "        text-align: right;\n",
       "    }\n",
       "</style>\n",
       "<table border=\"1\" class=\"dataframe\">\n",
       "  <thead>\n",
       "    <tr style=\"text-align: right;\">\n",
       "      <th></th>\n",
       "      <th>BDSPPatientID</th>\n",
       "      <th>ICD_Date</th>\n",
       "      <th>NoteDate</th>\n",
       "      <th>ICD</th>\n",
       "      <th>CodeType</th>\n",
       "      <th>NoteTitle</th>\n",
       "    </tr>\n",
       "  </thead>\n",
       "  <tbody>\n",
       "    <tr>\n",
       "      <th>0</th>\n",
       "      <td>121173304</td>\n",
       "      <td>2021-03-07</td>\n",
       "      <td>2021-02-26 00:00:00</td>\n",
       "      <td>205.00</td>\n",
       "      <td>ICD</td>\n",
       "      <td>Notes_13542494271_5936347980_20210226.txt</td>\n",
       "    </tr>\n",
       "    <tr>\n",
       "      <th>1</th>\n",
       "      <td>112711779</td>\n",
       "      <td>2022-04-01</td>\n",
       "      <td>2022-04-05 00:00:00</td>\n",
       "      <td>793.11</td>\n",
       "      <td>ICD</td>\n",
       "      <td>Notes_13500753060_5772195018_20220405.txt</td>\n",
       "    </tr>\n",
       "    <tr>\n",
       "      <th>2</th>\n",
       "      <td>117553376</td>\n",
       "      <td>2017-09-19</td>\n",
       "      <td>2017-08-24 00:00:00</td>\n",
       "      <td>368.8</td>\n",
       "      <td>ICD</td>\n",
       "      <td>Notes_13336483339_1359110280_20170824.txt</td>\n",
       "    </tr>\n",
       "    <tr>\n",
       "      <th>3</th>\n",
       "      <td>111813998</td>\n",
       "      <td>2019-01-22</td>\n",
       "      <td>2019-02-07 00:00:00</td>\n",
       "      <td>V49.89</td>\n",
       "      <td>ICD</td>\n",
       "      <td>Notes_13416480748_2022890910_20190207.txt</td>\n",
       "    </tr>\n",
       "    <tr>\n",
       "      <th>4</th>\n",
       "      <td>116523553</td>\n",
       "      <td>2017-04-19</td>\n",
       "      <td>2017-04-25 00:00:00</td>\n",
       "      <td>648.83</td>\n",
       "      <td>ICD</td>\n",
       "      <td>Notes_13291229443_1699851441_20170425.txt</td>\n",
       "    </tr>\n",
       "  </tbody>\n",
       "</table>\n",
       "</div>"
      ],
      "text/plain": [
       "   BDSPPatientID    ICD_Date             NoteDate     ICD CodeType  \\\n",
       "0      121173304  2021-03-07  2021-02-26 00:00:00  205.00      ICD   \n",
       "1      112711779  2022-04-01  2022-04-05 00:00:00  793.11      ICD   \n",
       "2      117553376  2017-09-19  2017-08-24 00:00:00   368.8      ICD   \n",
       "3      111813998  2019-01-22  2019-02-07 00:00:00  V49.89      ICD   \n",
       "4      116523553  2017-04-19  2017-04-25 00:00:00  648.83      ICD   \n",
       "\n",
       "                                   NoteTitle  \n",
       "0  Notes_13542494271_5936347980_20210226.txt  \n",
       "1  Notes_13500753060_5772195018_20220405.txt  \n",
       "2  Notes_13336483339_1359110280_20170824.txt  \n",
       "3  Notes_13416480748_2022890910_20190207.txt  \n",
       "4  Notes_13291229443_1699851441_20170425.txt  "
      ]
     },
     "execution_count": 18,
     "metadata": {},
     "output_type": "execute_result"
    }
   ],
   "source": [
    "test = pd.read_csv('prepped_df.csv')\n",
    "test.head()"
   ]
  }
 ],
 "metadata": {
  "kernelspec": {
   "display_name": "NAX",
   "language": "python",
   "name": "python3"
  },
  "language_info": {
   "codemirror_mode": {
    "name": "ipython",
    "version": 3
   },
   "file_extension": ".py",
   "mimetype": "text/x-python",
   "name": "python",
   "nbconvert_exporter": "python",
   "pygments_lexer": "ipython3",
   "version": "3.12.3"
  }
 },
 "nbformat": 4,
 "nbformat_minor": 2
}
