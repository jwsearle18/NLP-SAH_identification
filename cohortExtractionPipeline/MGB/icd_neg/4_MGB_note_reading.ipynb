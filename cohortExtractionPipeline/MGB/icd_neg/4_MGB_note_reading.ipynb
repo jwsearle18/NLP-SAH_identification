{
 "cells": [
  {
   "cell_type": "code",
   "execution_count": 6,
   "metadata": {},
   "outputs": [],
   "source": [
    "import pandas as pd\n",
    "from thunderpack import ThunderReader\n",
    "from tqdm import tqdm\n",
    "import tarfile\n",
    "import zipfile\n",
    "import random\n",
    "import os\n",
    "import shutil\n",
    "import re\n",
    "tqdm.pandas()"
   ]
  },
  {
   "cell_type": "markdown",
   "metadata": {},
   "source": [
    "# Goal of this notebook:\n",
    " - Add a column to the dataframe which includes the text of the note associated with the row\n",
    " - Plan:\n",
    "    - Figure out how to open tar archive from here\n",
    "    - Create a function that opens the tar archive, finds the file, and extracts the text\n",
    "    - Make a pandas series from these text blocks and append to the initial dataframe"
   ]
  },
  {
   "cell_type": "code",
   "execution_count": 7,
   "metadata": {},
   "outputs": [
    {
     "data": {
      "text/html": [
       "<div>\n",
       "<style scoped>\n",
       "    .dataframe tbody tr th:only-of-type {\n",
       "        vertical-align: middle;\n",
       "    }\n",
       "\n",
       "    .dataframe tbody tr th {\n",
       "        vertical-align: top;\n",
       "    }\n",
       "\n",
       "    .dataframe thead th {\n",
       "        text-align: right;\n",
       "    }\n",
       "</style>\n",
       "<table border=\"1\" class=\"dataframe\">\n",
       "  <thead>\n",
       "    <tr style=\"text-align: right;\">\n",
       "      <th></th>\n",
       "      <th>BDSPPatientID</th>\n",
       "      <th>NoteDate</th>\n",
       "      <th>NoteTitle</th>\n",
       "    </tr>\n",
       "  </thead>\n",
       "  <tbody>\n",
       "    <tr>\n",
       "      <th>0</th>\n",
       "      <td>118374115</td>\n",
       "      <td>2018-11-20 00:00:00</td>\n",
       "      <td>Notes_13333491432_2130196704_20181120.txt</td>\n",
       "    </tr>\n",
       "    <tr>\n",
       "      <th>1</th>\n",
       "      <td>116931824</td>\n",
       "      <td>2022-12-29 00:00:00</td>\n",
       "      <td>Notes_13563868206_7830407523_20221229.txt</td>\n",
       "    </tr>\n",
       "    <tr>\n",
       "      <th>2</th>\n",
       "      <td>118587891</td>\n",
       "      <td>2021-05-30 00:00:00</td>\n",
       "      <td>Notes_13532685798_4823397982_20210530.txt</td>\n",
       "    </tr>\n",
       "    <tr>\n",
       "      <th>3</th>\n",
       "      <td>114557355</td>\n",
       "      <td>2022-07-22 00:00:00</td>\n",
       "      <td>Notes_13620259495_8489742841_20220722.txt</td>\n",
       "    </tr>\n",
       "    <tr>\n",
       "      <th>4</th>\n",
       "      <td>114329029</td>\n",
       "      <td>2018-05-15 00:00:00</td>\n",
       "      <td>Notes_13356996149_1753656538_20180515.txt</td>\n",
       "    </tr>\n",
       "  </tbody>\n",
       "</table>\n",
       "</div>"
      ],
      "text/plain": [
       "   BDSPPatientID             NoteDate  \\\n",
       "0      118374115  2018-11-20 00:00:00   \n",
       "1      116931824  2022-12-29 00:00:00   \n",
       "2      118587891  2021-05-30 00:00:00   \n",
       "3      114557355  2022-07-22 00:00:00   \n",
       "4      114329029  2018-05-15 00:00:00   \n",
       "\n",
       "                                   NoteTitle  \n",
       "0  Notes_13333491432_2130196704_20181120.txt  \n",
       "1  Notes_13563868206_7830407523_20221229.txt  \n",
       "2  Notes_13532685798_4823397982_20210530.txt  \n",
       "3  Notes_13620259495_8489742841_20220722.txt  \n",
       "4  Notes_13356996149_1753656538_20180515.txt  "
      ]
     },
     "execution_count": 7,
     "metadata": {},
     "output_type": "execute_result"
    }
   ],
   "source": [
    "cohort_neg = pd.read_csv('cohort_neg.csv')\n",
    "cohort_neg.head()"
   ]
  },
  {
   "cell_type": "code",
   "execution_count": 8,
   "metadata": {},
   "outputs": [
    {
     "name": "stdout",
     "output_type": "stream",
     "text": [
      "Notes_13333491432_2130196704_20181120.txt\n"
     ]
    }
   ],
   "source": [
    "notes = cohort_neg['NoteTitle']\n",
    "print(notes[0])"
   ]
  },
  {
   "cell_type": "markdown",
   "metadata": {},
   "source": [
    "Before continuing, we will make some helper functions that will make the process easier.\n",
    " - In order to go through the whole list of notes and extract their text, we will need to know which zip file they are\n",
    " - To do this we will use regex to extract the year and append it to the base file path\n",
    " - We also need to modify the read_from_zip method"
   ]
  },
  {
   "cell_type": "code",
   "execution_count": 9,
   "metadata": {},
   "outputs": [],
   "source": [
    "# This will extract the year from the file name\n",
    "def extract_year(file_name):\n",
    "    match = re.search(r'_(\\d{8})\\.txt$', file_name)\n",
    "    if match:\n",
    "        return match.group(1)[:4]\n",
    "    return None"
   ]
  },
  {
   "cell_type": "code",
   "execution_count": 10,
   "metadata": {},
   "outputs": [],
   "source": [
    "def read_file_from_zip(base_path, file_name):\n",
    "    year = extract_year(file_name)\n",
    "    if year:\n",
    "        zip_path = f'{base_path}/mgb_notes_{year}.zip'\n",
    "        try:\n",
    "            with zipfile.ZipFile(zip_path, 'r') as zipf:\n",
    "                with zipf.open(f'{year}/{file_name}') as file:\n",
    "                    content = file.read()\n",
    "                    return content.decode('utf-8', errors = 'ignore')\n",
    "        except (KeyError, FileNotFoundError):\n",
    "            return None\n",
    "    return None"
   ]
  },
  {
   "cell_type": "markdown",
   "metadata": {},
   "source": [
    "With these updated helper functions we should be able to attach the txt of each note to the corresponding rows"
   ]
  },
  {
   "cell_type": "code",
   "execution_count": 11,
   "metadata": {},
   "outputs": [
    {
     "name": "stderr",
     "output_type": "stream",
     "text": [
      "100%|██████████| 1087/1087 [5:20:51<00:00, 17.71s/it] \n"
     ]
    }
   ],
   "source": [
    "base_path = '/home/jsearle/bigDrive/NAX/zipNotes/MGB'\n",
    "\n",
    "cohort_neg['text'] = cohort_neg['NoteTitle'].progress_apply(lambda x: read_file_from_zip(base_path, x))\n",
    "\n",
    "cohort_neg.to_csv('cohort_plus_text.csv', index=False, header=True, sep=',', na_rep='NA')"
   ]
  },
  {
   "cell_type": "code",
   "execution_count": 12,
   "metadata": {},
   "outputs": [
    {
     "data": {
      "text/html": [
       "<div>\n",
       "<style scoped>\n",
       "    .dataframe tbody tr th:only-of-type {\n",
       "        vertical-align: middle;\n",
       "    }\n",
       "\n",
       "    .dataframe tbody tr th {\n",
       "        vertical-align: top;\n",
       "    }\n",
       "\n",
       "    .dataframe thead th {\n",
       "        text-align: right;\n",
       "    }\n",
       "</style>\n",
       "<table border=\"1\" class=\"dataframe\">\n",
       "  <thead>\n",
       "    <tr style=\"text-align: right;\">\n",
       "      <th></th>\n",
       "      <th>BDSPPatientID</th>\n",
       "      <th>NoteDate</th>\n",
       "      <th>NoteTitle</th>\n",
       "      <th>text</th>\n",
       "    </tr>\n",
       "  </thead>\n",
       "  <tbody>\n",
       "    <tr>\n",
       "      <th>0</th>\n",
       "      <td>118374115</td>\n",
       "      <td>2018-11-20 00:00:00</td>\n",
       "      <td>Notes_13333491432_2130196704_20181120.txt</td>\n",
       "      <td>Physician ***** *****       Admit date: ****...</td>\n",
       "    </tr>\n",
       "    <tr>\n",
       "      <th>1</th>\n",
       "      <td>116931824</td>\n",
       "      <td>2022-12-29 00:00:00</td>\n",
       "      <td>Notes_13563868206_7830407523_20221229.txt</td>\n",
       "      <td>Physician ***** *****       Admit date: ****...</td>\n",
       "    </tr>\n",
       "    <tr>\n",
       "      <th>2</th>\n",
       "      <td>118587891</td>\n",
       "      <td>2021-05-30 00:00:00</td>\n",
       "      <td>Notes_13532685798_4823397982_20210530.txt</td>\n",
       "      <td>Physician ***** *****       Admit date: ****...</td>\n",
       "    </tr>\n",
       "    <tr>\n",
       "      <th>3</th>\n",
       "      <td>114557355</td>\n",
       "      <td>2022-07-22 00:00:00</td>\n",
       "      <td>Notes_13620259495_8489742841_20220722.txt</td>\n",
       "      <td>Physician ***** *****       Admit date: ****...</td>\n",
       "    </tr>\n",
       "    <tr>\n",
       "      <th>4</th>\n",
       "      <td>114329029</td>\n",
       "      <td>2018-05-15 00:00:00</td>\n",
       "      <td>Notes_13356996149_1753656538_20180515.txt</td>\n",
       "      <td>Physician ***** *****       Admit date: ****...</td>\n",
       "    </tr>\n",
       "  </tbody>\n",
       "</table>\n",
       "</div>"
      ],
      "text/plain": [
       "   BDSPPatientID             NoteDate  \\\n",
       "0      118374115  2018-11-20 00:00:00   \n",
       "1      116931824  2022-12-29 00:00:00   \n",
       "2      118587891  2021-05-30 00:00:00   \n",
       "3      114557355  2022-07-22 00:00:00   \n",
       "4      114329029  2018-05-15 00:00:00   \n",
       "\n",
       "                                   NoteTitle  \\\n",
       "0  Notes_13333491432_2130196704_20181120.txt   \n",
       "1  Notes_13563868206_7830407523_20221229.txt   \n",
       "2  Notes_13532685798_4823397982_20210530.txt   \n",
       "3  Notes_13620259495_8489742841_20220722.txt   \n",
       "4  Notes_13356996149_1753656538_20180515.txt   \n",
       "\n",
       "                                                text  \n",
       "0    Physician ***** *****       Admit date: ****...  \n",
       "1    Physician ***** *****       Admit date: ****...  \n",
       "2    Physician ***** *****       Admit date: ****...  \n",
       "3    Physician ***** *****       Admit date: ****...  \n",
       "4    Physician ***** *****       Admit date: ****...  "
      ]
     },
     "execution_count": 12,
     "metadata": {},
     "output_type": "execute_result"
    }
   ],
   "source": [
    "cohort_neg.head()"
   ]
  },
  {
   "cell_type": "markdown",
   "metadata": {},
   "source": [
    "I forgot to check the character counts -- let's make sure each note has more than 500 characters"
   ]
  },
  {
   "cell_type": "code",
   "execution_count": 13,
   "metadata": {},
   "outputs": [],
   "source": [
    "def check_word_count(text, threshold):\n",
    "    return len(text) > threshold"
   ]
  },
  {
   "cell_type": "code",
   "execution_count": 14,
   "metadata": {},
   "outputs": [],
   "source": [
    "threshold = 500\n",
    "cohort_neg['valid'] = cohort_neg['text'].apply(lambda x: check_word_count(x, threshold))"
   ]
  },
  {
   "cell_type": "code",
   "execution_count": 15,
   "metadata": {},
   "outputs": [
    {
     "data": {
      "text/html": [
       "<div>\n",
       "<style scoped>\n",
       "    .dataframe tbody tr th:only-of-type {\n",
       "        vertical-align: middle;\n",
       "    }\n",
       "\n",
       "    .dataframe tbody tr th {\n",
       "        vertical-align: top;\n",
       "    }\n",
       "\n",
       "    .dataframe thead th {\n",
       "        text-align: right;\n",
       "    }\n",
       "</style>\n",
       "<table border=\"1\" class=\"dataframe\">\n",
       "  <thead>\n",
       "    <tr style=\"text-align: right;\">\n",
       "      <th></th>\n",
       "      <th>BDSPPatientID</th>\n",
       "      <th>NoteDate</th>\n",
       "      <th>NoteTitle</th>\n",
       "      <th>text</th>\n",
       "      <th>valid</th>\n",
       "    </tr>\n",
       "  </thead>\n",
       "  <tbody>\n",
       "    <tr>\n",
       "      <th>0</th>\n",
       "      <td>118374115</td>\n",
       "      <td>2018-11-20 00:00:00</td>\n",
       "      <td>Notes_13333491432_2130196704_20181120.txt</td>\n",
       "      <td>Physician ***** *****       Admit date: ****...</td>\n",
       "      <td>True</td>\n",
       "    </tr>\n",
       "    <tr>\n",
       "      <th>1</th>\n",
       "      <td>116931824</td>\n",
       "      <td>2022-12-29 00:00:00</td>\n",
       "      <td>Notes_13563868206_7830407523_20221229.txt</td>\n",
       "      <td>Physician ***** *****       Admit date: ****...</td>\n",
       "      <td>True</td>\n",
       "    </tr>\n",
       "    <tr>\n",
       "      <th>2</th>\n",
       "      <td>118587891</td>\n",
       "      <td>2021-05-30 00:00:00</td>\n",
       "      <td>Notes_13532685798_4823397982_20210530.txt</td>\n",
       "      <td>Physician ***** *****       Admit date: ****...</td>\n",
       "      <td>True</td>\n",
       "    </tr>\n",
       "    <tr>\n",
       "      <th>3</th>\n",
       "      <td>114557355</td>\n",
       "      <td>2022-07-22 00:00:00</td>\n",
       "      <td>Notes_13620259495_8489742841_20220722.txt</td>\n",
       "      <td>Physician ***** *****       Admit date: ****...</td>\n",
       "      <td>True</td>\n",
       "    </tr>\n",
       "    <tr>\n",
       "      <th>4</th>\n",
       "      <td>114329029</td>\n",
       "      <td>2018-05-15 00:00:00</td>\n",
       "      <td>Notes_13356996149_1753656538_20180515.txt</td>\n",
       "      <td>Physician ***** *****       Admit date: ****...</td>\n",
       "      <td>True</td>\n",
       "    </tr>\n",
       "  </tbody>\n",
       "</table>\n",
       "</div>"
      ],
      "text/plain": [
       "   BDSPPatientID             NoteDate  \\\n",
       "0      118374115  2018-11-20 00:00:00   \n",
       "1      116931824  2022-12-29 00:00:00   \n",
       "2      118587891  2021-05-30 00:00:00   \n",
       "3      114557355  2022-07-22 00:00:00   \n",
       "4      114329029  2018-05-15 00:00:00   \n",
       "\n",
       "                                   NoteTitle  \\\n",
       "0  Notes_13333491432_2130196704_20181120.txt   \n",
       "1  Notes_13563868206_7830407523_20221229.txt   \n",
       "2  Notes_13532685798_4823397982_20210530.txt   \n",
       "3  Notes_13620259495_8489742841_20220722.txt   \n",
       "4  Notes_13356996149_1753656538_20180515.txt   \n",
       "\n",
       "                                                text  valid  \n",
       "0    Physician ***** *****       Admit date: ****...   True  \n",
       "1    Physician ***** *****       Admit date: ****...   True  \n",
       "2    Physician ***** *****       Admit date: ****...   True  \n",
       "3    Physician ***** *****       Admit date: ****...   True  \n",
       "4    Physician ***** *****       Admit date: ****...   True  "
      ]
     },
     "execution_count": 15,
     "metadata": {},
     "output_type": "execute_result"
    }
   ],
   "source": [
    "cohort_neg.head()"
   ]
  },
  {
   "cell_type": "code",
   "execution_count": 16,
   "metadata": {},
   "outputs": [
    {
     "name": "stdout",
     "output_type": "stream",
     "text": [
      "1085\n"
     ]
    }
   ],
   "source": [
    "print(sum(cohort_neg['valid']))"
   ]
  },
  {
   "cell_type": "code",
   "execution_count": 17,
   "metadata": {},
   "outputs": [
    {
     "name": "stdout",
     "output_type": "stream",
     "text": [
      "[647, 1012]\n"
     ]
    }
   ],
   "source": [
    "false_indeces = cohort_neg.index[~cohort_neg['valid']].tolist()\n",
    "print(false_indeces)"
   ]
  },
  {
   "cell_type": "code",
   "execution_count": 18,
   "metadata": {},
   "outputs": [],
   "source": [
    "cohort_neg = cohort_neg.drop(index=false_indeces)"
   ]
  },
  {
   "cell_type": "code",
   "execution_count": 19,
   "metadata": {},
   "outputs": [
    {
     "name": "stdout",
     "output_type": "stream",
     "text": [
      "1085\n"
     ]
    }
   ],
   "source": [
    "print(len(cohort_neg))"
   ]
  },
  {
   "cell_type": "code",
   "execution_count": 21,
   "metadata": {},
   "outputs": [
    {
     "name": "stdout",
     "output_type": "stream",
     "text": [
      "1085\n"
     ]
    },
    {
     "data": {
      "text/html": [
       "<div>\n",
       "<style scoped>\n",
       "    .dataframe tbody tr th:only-of-type {\n",
       "        vertical-align: middle;\n",
       "    }\n",
       "\n",
       "    .dataframe tbody tr th {\n",
       "        vertical-align: top;\n",
       "    }\n",
       "\n",
       "    .dataframe thead th {\n",
       "        text-align: right;\n",
       "    }\n",
       "</style>\n",
       "<table border=\"1\" class=\"dataframe\">\n",
       "  <thead>\n",
       "    <tr style=\"text-align: right;\">\n",
       "      <th></th>\n",
       "      <th>BDSPPatientID</th>\n",
       "      <th>NoteDate</th>\n",
       "      <th>NoteTitle</th>\n",
       "      <th>text</th>\n",
       "      <th>valid</th>\n",
       "    </tr>\n",
       "  </thead>\n",
       "  <tbody>\n",
       "    <tr>\n",
       "      <th>0</th>\n",
       "      <td>118374115</td>\n",
       "      <td>2018-11-20 00:00:00</td>\n",
       "      <td>Notes_13333491432_2130196704_20181120.txt</td>\n",
       "      <td>Physician ***** *****       Admit date: ****...</td>\n",
       "      <td>True</td>\n",
       "    </tr>\n",
       "    <tr>\n",
       "      <th>1</th>\n",
       "      <td>116931824</td>\n",
       "      <td>2022-12-29 00:00:00</td>\n",
       "      <td>Notes_13563868206_7830407523_20221229.txt</td>\n",
       "      <td>Physician ***** *****       Admit date: ****...</td>\n",
       "      <td>True</td>\n",
       "    </tr>\n",
       "    <tr>\n",
       "      <th>2</th>\n",
       "      <td>118587891</td>\n",
       "      <td>2021-05-30 00:00:00</td>\n",
       "      <td>Notes_13532685798_4823397982_20210530.txt</td>\n",
       "      <td>Physician ***** *****       Admit date: ****...</td>\n",
       "      <td>True</td>\n",
       "    </tr>\n",
       "    <tr>\n",
       "      <th>3</th>\n",
       "      <td>114557355</td>\n",
       "      <td>2022-07-22 00:00:00</td>\n",
       "      <td>Notes_13620259495_8489742841_20220722.txt</td>\n",
       "      <td>Physician ***** *****       Admit date: ****...</td>\n",
       "      <td>True</td>\n",
       "    </tr>\n",
       "    <tr>\n",
       "      <th>4</th>\n",
       "      <td>114329029</td>\n",
       "      <td>2018-05-15 00:00:00</td>\n",
       "      <td>Notes_13356996149_1753656538_20180515.txt</td>\n",
       "      <td>Physician ***** *****       Admit date: ****...</td>\n",
       "      <td>True</td>\n",
       "    </tr>\n",
       "  </tbody>\n",
       "</table>\n",
       "</div>"
      ],
      "text/plain": [
       "   BDSPPatientID             NoteDate  \\\n",
       "0      118374115  2018-11-20 00:00:00   \n",
       "1      116931824  2022-12-29 00:00:00   \n",
       "2      118587891  2021-05-30 00:00:00   \n",
       "3      114557355  2022-07-22 00:00:00   \n",
       "4      114329029  2018-05-15 00:00:00   \n",
       "\n",
       "                                   NoteTitle  \\\n",
       "0  Notes_13333491432_2130196704_20181120.txt   \n",
       "1  Notes_13563868206_7830407523_20221229.txt   \n",
       "2  Notes_13532685798_4823397982_20210530.txt   \n",
       "3  Notes_13620259495_8489742841_20220722.txt   \n",
       "4  Notes_13356996149_1753656538_20180515.txt   \n",
       "\n",
       "                                                text  valid  \n",
       "0    Physician ***** *****       Admit date: ****...   True  \n",
       "1    Physician ***** *****       Admit date: ****...   True  \n",
       "2    Physician ***** *****       Admit date: ****...   True  \n",
       "3    Physician ***** *****       Admit date: ****...   True  \n",
       "4    Physician ***** *****       Admit date: ****...   True  "
      ]
     },
     "execution_count": 21,
     "metadata": {},
     "output_type": "execute_result"
    }
   ],
   "source": [
    "\n",
    "# cohort_neg = cohort_neg.drop(columns=['ICD_Date', 'CodeType'])\n",
    "print(len(cohort_neg))\n",
    "cohort_neg.head()"
   ]
  },
  {
   "cell_type": "markdown",
   "metadata": {},
   "source": [
    "Double check that the character count is valid"
   ]
  },
  {
   "cell_type": "code",
   "execution_count": 22,
   "metadata": {},
   "outputs": [
    {
     "name": "stdout",
     "output_type": "stream",
     "text": [
      "1085\n"
     ]
    }
   ],
   "source": [
    "threshold = 500\n",
    "cohort_neg['valid'] = cohort_neg['text'].apply(lambda x: check_word_count(x, threshold))\n",
    "print(sum(cohort_neg['valid']))"
   ]
  },
  {
   "cell_type": "code",
   "execution_count": 23,
   "metadata": {},
   "outputs": [],
   "source": [
    "updated_cohort_neg = cohort_neg.drop(columns=['valid'])\n",
    "updated_cohort_neg.to_csv('final_icd_neg_df.csv', index=False, header=True, sep=',', na_rep='NA')"
   ]
  },
  {
   "cell_type": "code",
   "execution_count": 24,
   "metadata": {},
   "outputs": [
    {
     "data": {
      "text/html": [
       "<div>\n",
       "<style scoped>\n",
       "    .dataframe tbody tr th:only-of-type {\n",
       "        vertical-align: middle;\n",
       "    }\n",
       "\n",
       "    .dataframe tbody tr th {\n",
       "        vertical-align: top;\n",
       "    }\n",
       "\n",
       "    .dataframe thead th {\n",
       "        text-align: right;\n",
       "    }\n",
       "</style>\n",
       "<table border=\"1\" class=\"dataframe\">\n",
       "  <thead>\n",
       "    <tr style=\"text-align: right;\">\n",
       "      <th></th>\n",
       "      <th>BDSPPatientID</th>\n",
       "      <th>NoteDate</th>\n",
       "      <th>NoteTitle</th>\n",
       "      <th>text</th>\n",
       "    </tr>\n",
       "  </thead>\n",
       "  <tbody>\n",
       "    <tr>\n",
       "      <th>0</th>\n",
       "      <td>118374115</td>\n",
       "      <td>2018-11-20 00:00:00</td>\n",
       "      <td>Notes_13333491432_2130196704_20181120.txt</td>\n",
       "      <td>Physician ***** *****       Admit date: ****...</td>\n",
       "    </tr>\n",
       "    <tr>\n",
       "      <th>1</th>\n",
       "      <td>116931824</td>\n",
       "      <td>2022-12-29 00:00:00</td>\n",
       "      <td>Notes_13563868206_7830407523_20221229.txt</td>\n",
       "      <td>Physician ***** *****       Admit date: ****...</td>\n",
       "    </tr>\n",
       "    <tr>\n",
       "      <th>2</th>\n",
       "      <td>118587891</td>\n",
       "      <td>2021-05-30 00:00:00</td>\n",
       "      <td>Notes_13532685798_4823397982_20210530.txt</td>\n",
       "      <td>Physician ***** *****       Admit date: ****...</td>\n",
       "    </tr>\n",
       "    <tr>\n",
       "      <th>3</th>\n",
       "      <td>114557355</td>\n",
       "      <td>2022-07-22 00:00:00</td>\n",
       "      <td>Notes_13620259495_8489742841_20220722.txt</td>\n",
       "      <td>Physician ***** *****       Admit date: ****...</td>\n",
       "    </tr>\n",
       "    <tr>\n",
       "      <th>4</th>\n",
       "      <td>114329029</td>\n",
       "      <td>2018-05-15 00:00:00</td>\n",
       "      <td>Notes_13356996149_1753656538_20180515.txt</td>\n",
       "      <td>Physician ***** *****       Admit date: ****...</td>\n",
       "    </tr>\n",
       "  </tbody>\n",
       "</table>\n",
       "</div>"
      ],
      "text/plain": [
       "   BDSPPatientID             NoteDate  \\\n",
       "0      118374115  2018-11-20 00:00:00   \n",
       "1      116931824  2022-12-29 00:00:00   \n",
       "2      118587891  2021-05-30 00:00:00   \n",
       "3      114557355  2022-07-22 00:00:00   \n",
       "4      114329029  2018-05-15 00:00:00   \n",
       "\n",
       "                                   NoteTitle  \\\n",
       "0  Notes_13333491432_2130196704_20181120.txt   \n",
       "1  Notes_13563868206_7830407523_20221229.txt   \n",
       "2  Notes_13532685798_4823397982_20210530.txt   \n",
       "3  Notes_13620259495_8489742841_20220722.txt   \n",
       "4  Notes_13356996149_1753656538_20180515.txt   \n",
       "\n",
       "                                                text  \n",
       "0    Physician ***** *****       Admit date: ****...  \n",
       "1    Physician ***** *****       Admit date: ****...  \n",
       "2    Physician ***** *****       Admit date: ****...  \n",
       "3    Physician ***** *****       Admit date: ****...  \n",
       "4    Physician ***** *****       Admit date: ****...  "
      ]
     },
     "execution_count": 24,
     "metadata": {},
     "output_type": "execute_result"
    }
   ],
   "source": [
    "test = pd.read_csv('final_icd_neg_df.csv')\n",
    "test.head()"
   ]
  }
 ],
 "metadata": {
  "kernelspec": {
   "display_name": "NAX",
   "language": "python",
   "name": "python3"
  },
  "language_info": {
   "codemirror_mode": {
    "name": "ipython",
    "version": 3
   },
   "file_extension": ".py",
   "mimetype": "text/x-python",
   "name": "python",
   "nbconvert_exporter": "python",
   "pygments_lexer": "ipython3",
   "version": "3.12.3"
  }
 },
 "nbformat": 4,
 "nbformat_minor": 2
}
