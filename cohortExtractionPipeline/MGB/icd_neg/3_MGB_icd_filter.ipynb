{
 "cells": [
  {
   "cell_type": "code",
   "execution_count": 10,
   "metadata": {},
   "outputs": [],
   "source": [
    "import pandas as pd\n",
    "from thunderpack import ThunderReader\n",
    "from tqdm import tqdm\n",
    "import re\n",
    "import gc"
   ]
  },
  {
   "cell_type": "markdown",
   "metadata": {},
   "source": [
    "# Goal of this notebook:\n",
    " - Filter notes by ICD code indicating lack of SAH:\n",
    "   - ICD -\n",
    " - Plan to do so:\n",
    "   - For ICD +, filter using regex to include only ICD codes that I have listed\n",
    "   - For ICD -, do the opposite\n",
    "   - Remember that there are more rows than unique patients.  ie: some patients will have multiple ICD codes all linked to the same note\n",
    "   - To fix that - try to condense rows into one per note by making the ICD column contain a list of ICD's (not tidy but I feel like it works here)"
   ]
  },
  {
   "cell_type": "markdown",
   "metadata": {},
   "source": [
    "Start by reading in prepped_df.csv"
   ]
  },
  {
   "cell_type": "code",
   "execution_count": 11,
   "metadata": {},
   "outputs": [
    {
     "data": {
      "text/html": [
       "<div>\n",
       "<style scoped>\n",
       "    .dataframe tbody tr th:only-of-type {\n",
       "        vertical-align: middle;\n",
       "    }\n",
       "\n",
       "    .dataframe tbody tr th {\n",
       "        vertical-align: top;\n",
       "    }\n",
       "\n",
       "    .dataframe thead th {\n",
       "        text-align: right;\n",
       "    }\n",
       "</style>\n",
       "<table border=\"1\" class=\"dataframe\">\n",
       "  <thead>\n",
       "    <tr style=\"text-align: right;\">\n",
       "      <th></th>\n",
       "      <th>BDSPPatientID</th>\n",
       "      <th>ICD_Date</th>\n",
       "      <th>NoteDate</th>\n",
       "      <th>ICD</th>\n",
       "      <th>CodeType</th>\n",
       "      <th>NoteTitle</th>\n",
       "    </tr>\n",
       "  </thead>\n",
       "  <tbody>\n",
       "    <tr>\n",
       "      <th>0</th>\n",
       "      <td>121173304</td>\n",
       "      <td>2021-03-07</td>\n",
       "      <td>2021-02-26 00:00:00</td>\n",
       "      <td>205.00</td>\n",
       "      <td>ICD</td>\n",
       "      <td>Notes_13542494271_5936347980_20210226.txt</td>\n",
       "    </tr>\n",
       "    <tr>\n",
       "      <th>1</th>\n",
       "      <td>112711779</td>\n",
       "      <td>2022-04-01</td>\n",
       "      <td>2022-04-05 00:00:00</td>\n",
       "      <td>793.11</td>\n",
       "      <td>ICD</td>\n",
       "      <td>Notes_13500753060_5772195018_20220405.txt</td>\n",
       "    </tr>\n",
       "    <tr>\n",
       "      <th>2</th>\n",
       "      <td>117553376</td>\n",
       "      <td>2017-09-19</td>\n",
       "      <td>2017-08-24 00:00:00</td>\n",
       "      <td>368.8</td>\n",
       "      <td>ICD</td>\n",
       "      <td>Notes_13336483339_1359110280_20170824.txt</td>\n",
       "    </tr>\n",
       "    <tr>\n",
       "      <th>3</th>\n",
       "      <td>111813998</td>\n",
       "      <td>2019-01-22</td>\n",
       "      <td>2019-02-07 00:00:00</td>\n",
       "      <td>V49.89</td>\n",
       "      <td>ICD</td>\n",
       "      <td>Notes_13416480748_2022890910_20190207.txt</td>\n",
       "    </tr>\n",
       "    <tr>\n",
       "      <th>4</th>\n",
       "      <td>116523553</td>\n",
       "      <td>2017-04-19</td>\n",
       "      <td>2017-04-25 00:00:00</td>\n",
       "      <td>648.83</td>\n",
       "      <td>ICD</td>\n",
       "      <td>Notes_13291229443_1699851441_20170425.txt</td>\n",
       "    </tr>\n",
       "  </tbody>\n",
       "</table>\n",
       "</div>"
      ],
      "text/plain": [
       "   BDSPPatientID    ICD_Date             NoteDate     ICD CodeType  \\\n",
       "0      121173304  2021-03-07  2021-02-26 00:00:00  205.00      ICD   \n",
       "1      112711779  2022-04-01  2022-04-05 00:00:00  793.11      ICD   \n",
       "2      117553376  2017-09-19  2017-08-24 00:00:00   368.8      ICD   \n",
       "3      111813998  2019-01-22  2019-02-07 00:00:00  V49.89      ICD   \n",
       "4      116523553  2017-04-19  2017-04-25 00:00:00  648.83      ICD   \n",
       "\n",
       "                                   NoteTitle  \n",
       "0  Notes_13542494271_5936347980_20210226.txt  \n",
       "1  Notes_13500753060_5772195018_20220405.txt  \n",
       "2  Notes_13336483339_1359110280_20170824.txt  \n",
       "3  Notes_13416480748_2022890910_20190207.txt  \n",
       "4  Notes_13291229443_1699851441_20170425.txt  "
      ]
     },
     "execution_count": 11,
     "metadata": {},
     "output_type": "execute_result"
    }
   ],
   "source": [
    "prepped_df = pd.read_csv('prepped_df.csv')\n",
    "prepped_df.head()"
   ]
  },
  {
   "cell_type": "markdown",
   "metadata": {},
   "source": [
    "Let's repeat the process but matching everything except TBI codes to get our ICD- cohort"
   ]
  },
  {
   "cell_type": "code",
   "execution_count": 12,
   "metadata": {},
   "outputs": [
    {
     "data": {
      "text/html": [
       "<div>\n",
       "<style scoped>\n",
       "    .dataframe tbody tr th:only-of-type {\n",
       "        vertical-align: middle;\n",
       "    }\n",
       "\n",
       "    .dataframe tbody tr th {\n",
       "        vertical-align: top;\n",
       "    }\n",
       "\n",
       "    .dataframe thead th {\n",
       "        text-align: right;\n",
       "    }\n",
       "</style>\n",
       "<table border=\"1\" class=\"dataframe\">\n",
       "  <thead>\n",
       "    <tr style=\"text-align: right;\">\n",
       "      <th></th>\n",
       "      <th>BDSPPatientID</th>\n",
       "      <th>ICD_Date</th>\n",
       "      <th>NoteDate</th>\n",
       "      <th>ICD</th>\n",
       "      <th>CodeType</th>\n",
       "      <th>NoteTitle</th>\n",
       "    </tr>\n",
       "  </thead>\n",
       "  <tbody>\n",
       "    <tr>\n",
       "      <th>0</th>\n",
       "      <td>121173304</td>\n",
       "      <td>2021-03-07</td>\n",
       "      <td>2021-02-26 00:00:00</td>\n",
       "      <td>205.00</td>\n",
       "      <td>ICD</td>\n",
       "      <td>Notes_13542494271_5936347980_20210226.txt</td>\n",
       "    </tr>\n",
       "    <tr>\n",
       "      <th>1</th>\n",
       "      <td>112711779</td>\n",
       "      <td>2022-04-01</td>\n",
       "      <td>2022-04-05 00:00:00</td>\n",
       "      <td>793.11</td>\n",
       "      <td>ICD</td>\n",
       "      <td>Notes_13500753060_5772195018_20220405.txt</td>\n",
       "    </tr>\n",
       "    <tr>\n",
       "      <th>2</th>\n",
       "      <td>117553376</td>\n",
       "      <td>2017-09-19</td>\n",
       "      <td>2017-08-24 00:00:00</td>\n",
       "      <td>368.8</td>\n",
       "      <td>ICD</td>\n",
       "      <td>Notes_13336483339_1359110280_20170824.txt</td>\n",
       "    </tr>\n",
       "    <tr>\n",
       "      <th>3</th>\n",
       "      <td>111813998</td>\n",
       "      <td>2019-01-22</td>\n",
       "      <td>2019-02-07 00:00:00</td>\n",
       "      <td>V49.89</td>\n",
       "      <td>ICD</td>\n",
       "      <td>Notes_13416480748_2022890910_20190207.txt</td>\n",
       "    </tr>\n",
       "    <tr>\n",
       "      <th>4</th>\n",
       "      <td>116523553</td>\n",
       "      <td>2017-04-19</td>\n",
       "      <td>2017-04-25 00:00:00</td>\n",
       "      <td>648.83</td>\n",
       "      <td>ICD</td>\n",
       "      <td>Notes_13291229443_1699851441_20170425.txt</td>\n",
       "    </tr>\n",
       "  </tbody>\n",
       "</table>\n",
       "</div>"
      ],
      "text/plain": [
       "   BDSPPatientID    ICD_Date             NoteDate     ICD CodeType  \\\n",
       "0      121173304  2021-03-07  2021-02-26 00:00:00  205.00      ICD   \n",
       "1      112711779  2022-04-01  2022-04-05 00:00:00  793.11      ICD   \n",
       "2      117553376  2017-09-19  2017-08-24 00:00:00   368.8      ICD   \n",
       "3      111813998  2019-01-22  2019-02-07 00:00:00  V49.89      ICD   \n",
       "4      116523553  2017-04-19  2017-04-25 00:00:00  648.83      ICD   \n",
       "\n",
       "                                   NoteTitle  \n",
       "0  Notes_13542494271_5936347980_20210226.txt  \n",
       "1  Notes_13500753060_5772195018_20220405.txt  \n",
       "2  Notes_13336483339_1359110280_20170824.txt  \n",
       "3  Notes_13416480748_2022890910_20190207.txt  \n",
       "4  Notes_13291229443_1699851441_20170425.txt  "
      ]
     },
     "execution_count": 12,
     "metadata": {},
     "output_type": "execute_result"
    }
   ],
   "source": [
    "code_regex = \"^(?!I60|430).*\"\n",
    "icd_neg = prepped_df[prepped_df['ICD'].astype(str).str.match(code_regex, flags=re.I)]\n",
    "icd_neg.head()"
   ]
  },
  {
   "cell_type": "code",
   "execution_count": 13,
   "metadata": {},
   "outputs": [],
   "source": [
    "icd_neg.loc[:, 'ICD'] = icd_neg['ICD'].astype(str)\n",
    "grouped = icd_neg.groupby('NoteTitle')['ICD'].apply(lambda x: ', '.join(x)).reset_index()\n",
    "icd_neg_unique = icd_neg.drop_duplicates(subset=['NoteTitle']).drop(columns=['ICD'])\n",
    "icd_neg_unique = pd.merge(icd_neg_unique, grouped, on='NoteTitle', how='left')"
   ]
  },
  {
   "cell_type": "code",
   "execution_count": 14,
   "metadata": {},
   "outputs": [
    {
     "name": "stdout",
     "output_type": "stream",
     "text": [
      "23891\n"
     ]
    }
   ],
   "source": [
    "print(len(icd_neg_unique))"
   ]
  },
  {
   "cell_type": "markdown",
   "metadata": {},
   "source": [
    "Finally, let's choose our sample of 1087.  Same size as ICD +"
   ]
  },
  {
   "cell_type": "code",
   "execution_count": 15,
   "metadata": {},
   "outputs": [
    {
     "name": "stdout",
     "output_type": "stream",
     "text": [
      "1087\n"
     ]
    }
   ],
   "source": [
    "cohort_neg = icd_neg_unique.sample(n=1087, replace=False, random_state=1)\n",
    "print(len(cohort_neg))"
   ]
  },
  {
   "cell_type": "code",
   "execution_count": 16,
   "metadata": {},
   "outputs": [
    {
     "data": {
      "text/html": [
       "<div>\n",
       "<style scoped>\n",
       "    .dataframe tbody tr th:only-of-type {\n",
       "        vertical-align: middle;\n",
       "    }\n",
       "\n",
       "    .dataframe tbody tr th {\n",
       "        vertical-align: top;\n",
       "    }\n",
       "\n",
       "    .dataframe thead th {\n",
       "        text-align: right;\n",
       "    }\n",
       "</style>\n",
       "<table border=\"1\" class=\"dataframe\">\n",
       "  <thead>\n",
       "    <tr style=\"text-align: right;\">\n",
       "      <th></th>\n",
       "      <th>BDSPPatientID</th>\n",
       "      <th>ICD_Date</th>\n",
       "      <th>NoteDate</th>\n",
       "      <th>CodeType</th>\n",
       "      <th>NoteTitle</th>\n",
       "      <th>ICD</th>\n",
       "    </tr>\n",
       "  </thead>\n",
       "  <tbody>\n",
       "    <tr>\n",
       "      <th>16837</th>\n",
       "      <td>118374115</td>\n",
       "      <td>2018-10-28</td>\n",
       "      <td>2018-11-20 00:00:00</td>\n",
       "      <td>ICD</td>\n",
       "      <td>Notes_13333491432_2130196704_20181120.txt</td>\n",
       "      <td>799.89, G93.40, Z74.09, V49.89, 437.9, E85.4, ...</td>\n",
       "    </tr>\n",
       "    <tr>\n",
       "      <th>14066</th>\n",
       "      <td>116931824</td>\n",
       "      <td>2022-12-21</td>\n",
       "      <td>2022-12-29 00:00:00</td>\n",
       "      <td>ICD</td>\n",
       "      <td>Notes_13563868206_7830407523_20221229.txt</td>\n",
       "      <td>Z01.818, R31.29, E78.00, 599.72, 780.39, 569.3...</td>\n",
       "    </tr>\n",
       "    <tr>\n",
       "      <th>4406</th>\n",
       "      <td>118587891</td>\n",
       "      <td>2021-06-25</td>\n",
       "      <td>2021-05-30 00:00:00</td>\n",
       "      <td>ICD</td>\n",
       "      <td>Notes_13532685798_4823397982_20210530.txt</td>\n",
       "      <td>332.0, 530.81, G45.9, 585.3, I95.1, 799.3, Z71...</td>\n",
       "    </tr>\n",
       "    <tr>\n",
       "      <th>4120</th>\n",
       "      <td>114557355</td>\n",
       "      <td>2022-08-01</td>\n",
       "      <td>2022-07-22 00:00:00</td>\n",
       "      <td>ICD</td>\n",
       "      <td>Notes_13620259495_8489742841_20220722.txt</td>\n",
       "      <td>V76.44, 434.91, I63.512, 434.91, J02.9, G45.9,...</td>\n",
       "    </tr>\n",
       "    <tr>\n",
       "      <th>13390</th>\n",
       "      <td>114329029</td>\n",
       "      <td>2018-04-15</td>\n",
       "      <td>2018-05-15 00:00:00</td>\n",
       "      <td>ICD</td>\n",
       "      <td>Notes_13356996149_1753656538_20180515.txt</td>\n",
       "      <td>780.39, 780.39, R07.89, S06.5XAA, R56.9, 780.6...</td>\n",
       "    </tr>\n",
       "  </tbody>\n",
       "</table>\n",
       "</div>"
      ],
      "text/plain": [
       "       BDSPPatientID    ICD_Date             NoteDate CodeType  \\\n",
       "16837      118374115  2018-10-28  2018-11-20 00:00:00      ICD   \n",
       "14066      116931824  2022-12-21  2022-12-29 00:00:00      ICD   \n",
       "4406       118587891  2021-06-25  2021-05-30 00:00:00      ICD   \n",
       "4120       114557355  2022-08-01  2022-07-22 00:00:00      ICD   \n",
       "13390      114329029  2018-04-15  2018-05-15 00:00:00      ICD   \n",
       "\n",
       "                                       NoteTitle  \\\n",
       "16837  Notes_13333491432_2130196704_20181120.txt   \n",
       "14066  Notes_13563868206_7830407523_20221229.txt   \n",
       "4406   Notes_13532685798_4823397982_20210530.txt   \n",
       "4120   Notes_13620259495_8489742841_20220722.txt   \n",
       "13390  Notes_13356996149_1753656538_20180515.txt   \n",
       "\n",
       "                                                     ICD  \n",
       "16837  799.89, G93.40, Z74.09, V49.89, 437.9, E85.4, ...  \n",
       "14066  Z01.818, R31.29, E78.00, 599.72, 780.39, 569.3...  \n",
       "4406   332.0, 530.81, G45.9, 585.3, I95.1, 799.3, Z71...  \n",
       "4120   V76.44, 434.91, I63.512, 434.91, J02.9, G45.9,...  \n",
       "13390  780.39, 780.39, R07.89, S06.5XAA, R56.9, 780.6...  "
      ]
     },
     "execution_count": 16,
     "metadata": {},
     "output_type": "execute_result"
    }
   ],
   "source": [
    "cohort_neg.head()"
   ]
  },
  {
   "cell_type": "markdown",
   "metadata": {},
   "source": [
    "I guess the ICD code really only matters for the plus cohort in case we wanted to look into the spread of certain TBI codes"
   ]
  },
  {
   "cell_type": "code",
   "execution_count": 17,
   "metadata": {},
   "outputs": [
    {
     "data": {
      "text/html": [
       "<div>\n",
       "<style scoped>\n",
       "    .dataframe tbody tr th:only-of-type {\n",
       "        vertical-align: middle;\n",
       "    }\n",
       "\n",
       "    .dataframe tbody tr th {\n",
       "        vertical-align: top;\n",
       "    }\n",
       "\n",
       "    .dataframe thead th {\n",
       "        text-align: right;\n",
       "    }\n",
       "</style>\n",
       "<table border=\"1\" class=\"dataframe\">\n",
       "  <thead>\n",
       "    <tr style=\"text-align: right;\">\n",
       "      <th></th>\n",
       "      <th>BDSPPatientID</th>\n",
       "      <th>NoteDate</th>\n",
       "      <th>NoteTitle</th>\n",
       "    </tr>\n",
       "  </thead>\n",
       "  <tbody>\n",
       "    <tr>\n",
       "      <th>16837</th>\n",
       "      <td>118374115</td>\n",
       "      <td>2018-11-20 00:00:00</td>\n",
       "      <td>Notes_13333491432_2130196704_20181120.txt</td>\n",
       "    </tr>\n",
       "    <tr>\n",
       "      <th>14066</th>\n",
       "      <td>116931824</td>\n",
       "      <td>2022-12-29 00:00:00</td>\n",
       "      <td>Notes_13563868206_7830407523_20221229.txt</td>\n",
       "    </tr>\n",
       "    <tr>\n",
       "      <th>4406</th>\n",
       "      <td>118587891</td>\n",
       "      <td>2021-05-30 00:00:00</td>\n",
       "      <td>Notes_13532685798_4823397982_20210530.txt</td>\n",
       "    </tr>\n",
       "    <tr>\n",
       "      <th>4120</th>\n",
       "      <td>114557355</td>\n",
       "      <td>2022-07-22 00:00:00</td>\n",
       "      <td>Notes_13620259495_8489742841_20220722.txt</td>\n",
       "    </tr>\n",
       "    <tr>\n",
       "      <th>13390</th>\n",
       "      <td>114329029</td>\n",
       "      <td>2018-05-15 00:00:00</td>\n",
       "      <td>Notes_13356996149_1753656538_20180515.txt</td>\n",
       "    </tr>\n",
       "  </tbody>\n",
       "</table>\n",
       "</div>"
      ],
      "text/plain": [
       "       BDSPPatientID             NoteDate  \\\n",
       "16837      118374115  2018-11-20 00:00:00   \n",
       "14066      116931824  2022-12-29 00:00:00   \n",
       "4406       118587891  2021-05-30 00:00:00   \n",
       "4120       114557355  2022-07-22 00:00:00   \n",
       "13390      114329029  2018-05-15 00:00:00   \n",
       "\n",
       "                                       NoteTitle  \n",
       "16837  Notes_13333491432_2130196704_20181120.txt  \n",
       "14066  Notes_13563868206_7830407523_20221229.txt  \n",
       "4406   Notes_13532685798_4823397982_20210530.txt  \n",
       "4120   Notes_13620259495_8489742841_20220722.txt  \n",
       "13390  Notes_13356996149_1753656538_20180515.txt  "
      ]
     },
     "execution_count": 17,
     "metadata": {},
     "output_type": "execute_result"
    }
   ],
   "source": [
    "cohort_neg = cohort_neg.drop(columns=['ICD_Date', 'CodeType', 'ICD'])\n",
    "cohort_neg.head()"
   ]
  },
  {
   "cell_type": "code",
   "execution_count": 18,
   "metadata": {},
   "outputs": [],
   "source": [
    "cohort_neg.to_csv('cohort_neg.csv', index=False, header=True, sep=',', na_rep='NA')"
   ]
  },
  {
   "cell_type": "code",
   "execution_count": 19,
   "metadata": {},
   "outputs": [
    {
     "data": {
      "text/html": [
       "<div>\n",
       "<style scoped>\n",
       "    .dataframe tbody tr th:only-of-type {\n",
       "        vertical-align: middle;\n",
       "    }\n",
       "\n",
       "    .dataframe tbody tr th {\n",
       "        vertical-align: top;\n",
       "    }\n",
       "\n",
       "    .dataframe thead th {\n",
       "        text-align: right;\n",
       "    }\n",
       "</style>\n",
       "<table border=\"1\" class=\"dataframe\">\n",
       "  <thead>\n",
       "    <tr style=\"text-align: right;\">\n",
       "      <th></th>\n",
       "      <th>BDSPPatientID</th>\n",
       "      <th>NoteDate</th>\n",
       "      <th>NoteTitle</th>\n",
       "    </tr>\n",
       "  </thead>\n",
       "  <tbody>\n",
       "    <tr>\n",
       "      <th>0</th>\n",
       "      <td>118374115</td>\n",
       "      <td>2018-11-20 00:00:00</td>\n",
       "      <td>Notes_13333491432_2130196704_20181120.txt</td>\n",
       "    </tr>\n",
       "    <tr>\n",
       "      <th>1</th>\n",
       "      <td>116931824</td>\n",
       "      <td>2022-12-29 00:00:00</td>\n",
       "      <td>Notes_13563868206_7830407523_20221229.txt</td>\n",
       "    </tr>\n",
       "    <tr>\n",
       "      <th>2</th>\n",
       "      <td>118587891</td>\n",
       "      <td>2021-05-30 00:00:00</td>\n",
       "      <td>Notes_13532685798_4823397982_20210530.txt</td>\n",
       "    </tr>\n",
       "    <tr>\n",
       "      <th>3</th>\n",
       "      <td>114557355</td>\n",
       "      <td>2022-07-22 00:00:00</td>\n",
       "      <td>Notes_13620259495_8489742841_20220722.txt</td>\n",
       "    </tr>\n",
       "    <tr>\n",
       "      <th>4</th>\n",
       "      <td>114329029</td>\n",
       "      <td>2018-05-15 00:00:00</td>\n",
       "      <td>Notes_13356996149_1753656538_20180515.txt</td>\n",
       "    </tr>\n",
       "  </tbody>\n",
       "</table>\n",
       "</div>"
      ],
      "text/plain": [
       "   BDSPPatientID             NoteDate  \\\n",
       "0      118374115  2018-11-20 00:00:00   \n",
       "1      116931824  2022-12-29 00:00:00   \n",
       "2      118587891  2021-05-30 00:00:00   \n",
       "3      114557355  2022-07-22 00:00:00   \n",
       "4      114329029  2018-05-15 00:00:00   \n",
       "\n",
       "                                   NoteTitle  \n",
       "0  Notes_13333491432_2130196704_20181120.txt  \n",
       "1  Notes_13563868206_7830407523_20221229.txt  \n",
       "2  Notes_13532685798_4823397982_20210530.txt  \n",
       "3  Notes_13620259495_8489742841_20220722.txt  \n",
       "4  Notes_13356996149_1753656538_20180515.txt  "
      ]
     },
     "execution_count": 19,
     "metadata": {},
     "output_type": "execute_result"
    }
   ],
   "source": [
    "test = pd.read_csv('cohort_neg.csv')\n",
    "test.head()"
   ]
  },
  {
   "cell_type": "markdown",
   "metadata": {},
   "source": [
    "# Goal Accomplished\n",
    "Summary:\n",
    " - Used regex to search for ICD code specifics\n",
    " - Got the unique list of note titles\n",
    " - Created cohorts of 1000 (randomly)\n",
    " - Kept important columns and exported to CSV\n",
    " \n",
    "Next:\n",
    " - Bram said I need to get the whole note text into a new column somehow"
   ]
  }
 ],
 "metadata": {
  "kernelspec": {
   "display_name": "NAX",
   "language": "python",
   "name": "python3"
  },
  "language_info": {
   "codemirror_mode": {
    "name": "ipython",
    "version": 3
   },
   "file_extension": ".py",
   "mimetype": "text/x-python",
   "name": "python",
   "nbconvert_exporter": "python",
   "pygments_lexer": "ipython3",
   "version": "3.12.3"
  }
 },
 "nbformat": 4,
 "nbformat_minor": 2
}
