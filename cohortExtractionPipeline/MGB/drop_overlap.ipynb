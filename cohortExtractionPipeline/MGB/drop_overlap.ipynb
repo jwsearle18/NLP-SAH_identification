{
 "cells": [
  {
   "cell_type": "code",
   "execution_count": 1,
   "metadata": {},
   "outputs": [],
   "source": [
    "import pandas as pd\n",
    "from tqdm import tqdm"
   ]
  },
  {
   "cell_type": "markdown",
   "metadata": {},
   "source": [
    "This is to drop the overlap of notes between the positive and negative cohorts"
   ]
  },
  {
   "cell_type": "code",
   "execution_count": 2,
   "metadata": {},
   "outputs": [
    {
     "name": "stdout",
     "output_type": "stream",
     "text": [
      "1087\n"
     ]
    },
    {
     "data": {
      "text/html": [
       "<div>\n",
       "<style scoped>\n",
       "    .dataframe tbody tr th:only-of-type {\n",
       "        vertical-align: middle;\n",
       "    }\n",
       "\n",
       "    .dataframe tbody tr th {\n",
       "        vertical-align: top;\n",
       "    }\n",
       "\n",
       "    .dataframe thead th {\n",
       "        text-align: right;\n",
       "    }\n",
       "</style>\n",
       "<table border=\"1\" class=\"dataframe\">\n",
       "  <thead>\n",
       "    <tr style=\"text-align: right;\">\n",
       "      <th></th>\n",
       "      <th>BDSPPatientID</th>\n",
       "      <th>DateICD</th>\n",
       "      <th>ICD</th>\n",
       "      <th>DateNote</th>\n",
       "      <th>NoteTextFile</th>\n",
       "      <th>text</th>\n",
       "      <th>valid</th>\n",
       "    </tr>\n",
       "  </thead>\n",
       "  <tbody>\n",
       "    <tr>\n",
       "      <th>0</th>\n",
       "      <td>114316265</td>\n",
       "      <td>2023-01-24</td>\n",
       "      <td>430</td>\n",
       "      <td>2022-12-25</td>\n",
       "      <td>Notes_13605828901_9002141910_20221225.txt</td>\n",
       "      <td>Physician ***** *****       Admit date: ****...</td>\n",
       "      <td>True</td>\n",
       "    </tr>\n",
       "    <tr>\n",
       "      <th>1</th>\n",
       "      <td>120110560</td>\n",
       "      <td>2023-06-12</td>\n",
       "      <td>430</td>\n",
       "      <td>2023-06-25</td>\n",
       "      <td>Notes_13629086394_8327863776_20230625.txt</td>\n",
       "      <td>Physician ***** *****       Admit date: ****...</td>\n",
       "      <td>True</td>\n",
       "    </tr>\n",
       "    <tr>\n",
       "      <th>2</th>\n",
       "      <td>119573164</td>\n",
       "      <td>2021-02-13</td>\n",
       "      <td>I60.9</td>\n",
       "      <td>2021-02-23</td>\n",
       "      <td>Notes_13589736564_5567001557_20210223.txt</td>\n",
       "      <td>Physician ***** *****       Admit date: ****...</td>\n",
       "      <td>True</td>\n",
       "    </tr>\n",
       "    <tr>\n",
       "      <th>3</th>\n",
       "      <td>112030232</td>\n",
       "      <td>2021-05-07</td>\n",
       "      <td>430</td>\n",
       "      <td>2021-05-18</td>\n",
       "      <td>Notes_13566019013_5701887197_20210518.txt</td>\n",
       "      <td>Physician ***** *****       Admit date: ****...</td>\n",
       "      <td>True</td>\n",
       "    </tr>\n",
       "    <tr>\n",
       "      <th>4</th>\n",
       "      <td>111905857</td>\n",
       "      <td>2020-10-26</td>\n",
       "      <td>430</td>\n",
       "      <td>2020-10-02</td>\n",
       "      <td>Notes_13534548179_4160128051_20201002.txt</td>\n",
       "      <td>Physician ***** *****       Admit date: ****...</td>\n",
       "      <td>True</td>\n",
       "    </tr>\n",
       "  </tbody>\n",
       "</table>\n",
       "</div>"
      ],
      "text/plain": [
       "   BDSPPatientID     DateICD    ICD    DateNote  \\\n",
       "0      114316265  2023-01-24    430  2022-12-25   \n",
       "1      120110560  2023-06-12    430  2023-06-25   \n",
       "2      119573164  2021-02-13  I60.9  2021-02-23   \n",
       "3      112030232  2021-05-07    430  2021-05-18   \n",
       "4      111905857  2020-10-26    430  2020-10-02   \n",
       "\n",
       "                                NoteTextFile  \\\n",
       "0  Notes_13605828901_9002141910_20221225.txt   \n",
       "1  Notes_13629086394_8327863776_20230625.txt   \n",
       "2  Notes_13589736564_5567001557_20210223.txt   \n",
       "3  Notes_13566019013_5701887197_20210518.txt   \n",
       "4  Notes_13534548179_4160128051_20201002.txt   \n",
       "\n",
       "                                                text  valid  \n",
       "0    Physician ***** *****       Admit date: ****...   True  \n",
       "1    Physician ***** *****       Admit date: ****...   True  \n",
       "2    Physician ***** *****       Admit date: ****...   True  \n",
       "3    Physician ***** *****       Admit date: ****...   True  \n",
       "4    Physician ***** *****       Admit date: ****...   True  "
      ]
     },
     "execution_count": 2,
     "metadata": {},
     "output_type": "execute_result"
    }
   ],
   "source": [
    "pos_cohort = pd.read_csv('MGB_final_icd_pos.csv')\n",
    "print(len(pos_cohort))\n",
    "pos_cohort.head()"
   ]
  },
  {
   "cell_type": "code",
   "execution_count": 3,
   "metadata": {},
   "outputs": [
    {
     "name": "stdout",
     "output_type": "stream",
     "text": [
      "1085\n"
     ]
    },
    {
     "data": {
      "text/html": [
       "<div>\n",
       "<style scoped>\n",
       "    .dataframe tbody tr th:only-of-type {\n",
       "        vertical-align: middle;\n",
       "    }\n",
       "\n",
       "    .dataframe tbody tr th {\n",
       "        vertical-align: top;\n",
       "    }\n",
       "\n",
       "    .dataframe thead th {\n",
       "        text-align: right;\n",
       "    }\n",
       "</style>\n",
       "<table border=\"1\" class=\"dataframe\">\n",
       "  <thead>\n",
       "    <tr style=\"text-align: right;\">\n",
       "      <th></th>\n",
       "      <th>BDSPPatientID</th>\n",
       "      <th>NoteDate</th>\n",
       "      <th>NoteTitle</th>\n",
       "      <th>text</th>\n",
       "    </tr>\n",
       "  </thead>\n",
       "  <tbody>\n",
       "    <tr>\n",
       "      <th>0</th>\n",
       "      <td>118374115</td>\n",
       "      <td>2018-11-20 00:00:00</td>\n",
       "      <td>Notes_13333491432_2130196704_20181120.txt</td>\n",
       "      <td>Physician ***** *****       Admit date: ****...</td>\n",
       "    </tr>\n",
       "    <tr>\n",
       "      <th>1</th>\n",
       "      <td>116931824</td>\n",
       "      <td>2022-12-29 00:00:00</td>\n",
       "      <td>Notes_13563868206_7830407523_20221229.txt</td>\n",
       "      <td>Physician ***** *****       Admit date: ****...</td>\n",
       "    </tr>\n",
       "    <tr>\n",
       "      <th>2</th>\n",
       "      <td>118587891</td>\n",
       "      <td>2021-05-30 00:00:00</td>\n",
       "      <td>Notes_13532685798_4823397982_20210530.txt</td>\n",
       "      <td>Physician ***** *****       Admit date: ****...</td>\n",
       "    </tr>\n",
       "    <tr>\n",
       "      <th>3</th>\n",
       "      <td>114557355</td>\n",
       "      <td>2022-07-22 00:00:00</td>\n",
       "      <td>Notes_13620259495_8489742841_20220722.txt</td>\n",
       "      <td>Physician ***** *****       Admit date: ****...</td>\n",
       "    </tr>\n",
       "    <tr>\n",
       "      <th>4</th>\n",
       "      <td>114329029</td>\n",
       "      <td>2018-05-15 00:00:00</td>\n",
       "      <td>Notes_13356996149_1753656538_20180515.txt</td>\n",
       "      <td>Physician ***** *****       Admit date: ****...</td>\n",
       "    </tr>\n",
       "  </tbody>\n",
       "</table>\n",
       "</div>"
      ],
      "text/plain": [
       "   BDSPPatientID             NoteDate  \\\n",
       "0      118374115  2018-11-20 00:00:00   \n",
       "1      116931824  2022-12-29 00:00:00   \n",
       "2      118587891  2021-05-30 00:00:00   \n",
       "3      114557355  2022-07-22 00:00:00   \n",
       "4      114329029  2018-05-15 00:00:00   \n",
       "\n",
       "                                   NoteTitle  \\\n",
       "0  Notes_13333491432_2130196704_20181120.txt   \n",
       "1  Notes_13563868206_7830407523_20221229.txt   \n",
       "2  Notes_13532685798_4823397982_20210530.txt   \n",
       "3  Notes_13620259495_8489742841_20220722.txt   \n",
       "4  Notes_13356996149_1753656538_20180515.txt   \n",
       "\n",
       "                                                text  \n",
       "0    Physician ***** *****       Admit date: ****...  \n",
       "1    Physician ***** *****       Admit date: ****...  \n",
       "2    Physician ***** *****       Admit date: ****...  \n",
       "3    Physician ***** *****       Admit date: ****...  \n",
       "4    Physician ***** *****       Admit date: ****...  "
      ]
     },
     "execution_count": 3,
     "metadata": {},
     "output_type": "execute_result"
    }
   ],
   "source": [
    "neg_cohort = pd.read_csv('MGB_final_icd_neg.csv')\n",
    "print(len(neg_cohort))\n",
    "neg_cohort.head()"
   ]
  },
  {
   "cell_type": "code",
   "execution_count": 4,
   "metadata": {},
   "outputs": [
    {
     "name": "stdout",
     "output_type": "stream",
     "text": [
      "34\n"
     ]
    }
   ],
   "source": [
    "#find overlap between dfs\n",
    "overlap = pos_cohort[pos_cohort['BDSPPatientID'].isin(neg_cohort['BDSPPatientID'])]\n",
    "print(len(overlap))"
   ]
  },
  {
   "cell_type": "code",
   "execution_count": 5,
   "metadata": {},
   "outputs": [
    {
     "name": "stdout",
     "output_type": "stream",
     "text": [
      "1053\n",
      "1051\n"
     ]
    }
   ],
   "source": [
    "#Drop overlapping rows in each df\n",
    "pos_no_overlap = pos_cohort[~pos_cohort['BDSPPatientID'].isin(overlap['BDSPPatientID'])]\n",
    "neg_no_overlap = neg_cohort[~neg_cohort['BDSPPatientID'].isin(overlap['BDSPPatientID'])]\n",
    "\n",
    "print(len(pos_no_overlap))\n",
    "print(len(neg_no_overlap))"
   ]
  },
  {
   "cell_type": "code",
   "execution_count": 10,
   "metadata": {},
   "outputs": [],
   "source": [
    "pos_no_overlap.to_csv('MGB_icd_pos_cohort.csv', index=False, header=True, sep=',', na_rep='NA')\n",
    "neg_no_overlap.to_csv('MGB_icd_neg_cohort.csv', index=False, header=True, sep=',', na_rep='NA')"
   ]
  }
 ],
 "metadata": {
  "kernelspec": {
   "display_name": "NAX",
   "language": "python",
   "name": "python3"
  },
  "language_info": {
   "codemirror_mode": {
    "name": "ipython",
    "version": 3
   },
   "file_extension": ".py",
   "mimetype": "text/x-python",
   "name": "python",
   "nbconvert_exporter": "python",
   "pygments_lexer": "ipython3",
   "version": "3.1.-1"
  }
 },
 "nbformat": 4,
 "nbformat_minor": 2
}
