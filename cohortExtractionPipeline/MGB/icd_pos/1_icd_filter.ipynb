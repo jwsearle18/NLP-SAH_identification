{
 "cells": [
  {
   "cell_type": "markdown",
   "metadata": {},
   "source": [
    "# Goal of this notebook:\n",
    " - Filter notes by ICD code indicating SAH:\n",
    "   - ICD +\n",
    "   - ICD -\n",
    " - Plan to do so:\n",
    "   - For ICD +, filter using regex to include only ICD codes that I have listed\n",
    "   - For ICD -, do the opposite\n",
    "   - Remember that there are more rows than unique patients.  ie: some patients will have multiple ICD codes all linked to the same note\n",
    "   - To fix that - try to condense rows into one per note by making the ICD column contain a list of ICD's (not tidy but I feel like it works here)"
   ]
  },
  {
   "cell_type": "markdown",
   "metadata": {},
   "source": [
    "### ICD +\n",
    " - Filter through the icd data by the 'ICDCD' column with codes that match ^(I60|430).*\n",
    " - I will be looking at all ICD codes assigned +/- ! month the date of the discharge summary\n",
    " - Check the format of the dates\n",
    " - Merge based on patient ID and date"
   ]
  },
  {
   "cell_type": "markdown",
   "metadata": {},
   "source": [
    "# Overall Plan\n",
    "1 - All ICD+/- assignments separated. \n",
    "- Relavent info icd csv contains: BDSPPatientID, DateAssigned ('ShiftedContactDTS'), ICD ('ICDCD')\n",
    "- Relavent info notes df contains: BDSPPatientID, NoteType ('NoteTypeFull'), DateWritten ('CreateDate'), NoteTextFileName ('DeidentifiedName')"
   ]
  },
  {
   "cell_type": "code",
   "execution_count": 24,
   "metadata": {},
   "outputs": [],
   "source": [
    "# imports\n",
    "import pandas as pd\n",
    "from thunderpack import ThunderReader\n",
    "from tqdm import tqdm\n",
    "import re"
   ]
  },
  {
   "cell_type": "code",
   "execution_count": 2,
   "metadata": {},
   "outputs": [
    {
     "name": "stdout",
     "output_type": "stream",
     "text": [
      "511\n"
     ]
    }
   ],
   "source": [
    "reader = ThunderReader('/home/jsearle/bigDrive/Dropbox/zz_EHR_Thunderpacks/MGB/thunderpack_icd_9_10_1m_MGB')\n",
    "key_length = len(list(reader.keys()))\n",
    "print(key_length)"
   ]
  },
  {
   "cell_type": "code",
   "execution_count": 3,
   "metadata": {},
   "outputs": [
    {
     "name": "stderr",
     "output_type": "stream",
     "text": [
      "100%|██████████| 511/511 [23:58<00:00,  2.81s/it]\n"
     ]
    }
   ],
   "source": [
    "# filter by below icd codes\n",
    "code_regex = '^(I60|430)'\n",
    "dfs = []\n",
    "for i in tqdm(range(1, key_length + 1)):\n",
    "    df = reader[f'ICD_partition_{i}']\n",
    "    df = df[df['ICDCD'].astype(str).str.match(code_regex, flags = re.I)]\n",
    "    dfs.append(df)"
   ]
  },
  {
   "cell_type": "code",
   "execution_count": 4,
   "metadata": {},
   "outputs": [
    {
     "name": "stdout",
     "output_type": "stream",
     "text": [
      "41796\n"
     ]
    },
    {
     "data": {
      "text/html": [
       "<div>\n",
       "<style scoped>\n",
       "    .dataframe tbody tr th:only-of-type {\n",
       "        vertical-align: middle;\n",
       "    }\n",
       "\n",
       "    .dataframe tbody tr th {\n",
       "        vertical-align: top;\n",
       "    }\n",
       "\n",
       "    .dataframe thead th {\n",
       "        text-align: right;\n",
       "    }\n",
       "</style>\n",
       "<table border=\"1\" class=\"dataframe\">\n",
       "  <thead>\n",
       "    <tr style=\"text-align: right;\">\n",
       "      <th></th>\n",
       "      <th>BDSPEncounterID</th>\n",
       "      <th>EncounterLineNBR</th>\n",
       "      <th>BDSPPatientID</th>\n",
       "      <th>ShiftedContactDTS</th>\n",
       "      <th>ICDLineNBR</th>\n",
       "      <th>ICDCD</th>\n",
       "      <th>ICDDSC</th>\n",
       "      <th>DiagnosisNM</th>\n",
       "      <th>DiagnosisDSC</th>\n",
       "      <th>PrimaryDiagnosisFLG</th>\n",
       "      <th>DiagnosisChronicFLG</th>\n",
       "      <th>ShiftedUpdateDTS</th>\n",
       "      <th>DiagnosisLinkedProblemID</th>\n",
       "      <th>BDSPLastModifiedDTS</th>\n",
       "      <th>code_type</th>\n",
       "    </tr>\n",
       "  </thead>\n",
       "  <tbody>\n",
       "    <tr>\n",
       "      <th>0</th>\n",
       "      <td>1.343764e+10</td>\n",
       "      <td>2</td>\n",
       "      <td>116398048.0</td>\n",
       "      <td>2018-03-09 00:00:00.0000000</td>\n",
       "      <td>1.0</td>\n",
       "      <td>430</td>\n",
       "      <td>Subarachnoid hemorrhage</td>\n",
       "      <td>Subarachnoid hemorrhage</td>\n",
       "      <td>None</td>\n",
       "      <td>N</td>\n",
       "      <td>N</td>\n",
       "      <td>2019-07-26 09:49:00.0000000</td>\n",
       "      <td>52214845.0</td>\n",
       "      <td>2022-04-27 13:27:03.6830000</td>\n",
       "      <td>ICD9</td>\n",
       "    </tr>\n",
       "    <tr>\n",
       "      <th>1</th>\n",
       "      <td>1.339437e+10</td>\n",
       "      <td>2</td>\n",
       "      <td>119744866.0</td>\n",
       "      <td>2019-10-20 00:00:00.0000000</td>\n",
       "      <td>1.0</td>\n",
       "      <td>430</td>\n",
       "      <td>Subarachnoid hemorrhage</td>\n",
       "      <td>SAH (subarachnoid hemorrhage)</td>\n",
       "      <td>None</td>\n",
       "      <td>N</td>\n",
       "      <td>N</td>\n",
       "      <td>2023-04-28 12:05:00.0000000</td>\n",
       "      <td>81182497.0</td>\n",
       "      <td>2023-08-16 01:27:07.9010000</td>\n",
       "      <td>ICD9</td>\n",
       "    </tr>\n",
       "    <tr>\n",
       "      <th>2</th>\n",
       "      <td>1.358473e+10</td>\n",
       "      <td>1</td>\n",
       "      <td>116790672.0</td>\n",
       "      <td>2022-05-13 00:00:00.0000000</td>\n",
       "      <td>1.0</td>\n",
       "      <td>430</td>\n",
       "      <td>Subarachnoid hemorrhage</td>\n",
       "      <td>SAH (subarachnoid hemorrhage)</td>\n",
       "      <td>None</td>\n",
       "      <td>N</td>\n",
       "      <td>N</td>\n",
       "      <td>2022-05-24 09:42:00.0000000</td>\n",
       "      <td>NaN</td>\n",
       "      <td>2022-04-27 15:51:06.4400000</td>\n",
       "      <td>ICD9</td>\n",
       "    </tr>\n",
       "    <tr>\n",
       "      <th>3</th>\n",
       "      <td>1.355626e+10</td>\n",
       "      <td>1</td>\n",
       "      <td>122243491.0</td>\n",
       "      <td>2020-06-12 00:00:00.0000000</td>\n",
       "      <td>1.0</td>\n",
       "      <td>430</td>\n",
       "      <td>Subarachnoid hemorrhage</td>\n",
       "      <td>Subarachnoid hemorrhage</td>\n",
       "      <td>None</td>\n",
       "      <td>Y</td>\n",
       "      <td>N</td>\n",
       "      <td>2020-06-12 10:21:00.0000000</td>\n",
       "      <td>96911003.0</td>\n",
       "      <td>2022-04-27 13:21:20.6900000</td>\n",
       "      <td>ICD9</td>\n",
       "    </tr>\n",
       "    <tr>\n",
       "      <th>4</th>\n",
       "      <td>1.354445e+10</td>\n",
       "      <td>5</td>\n",
       "      <td>119133865.0</td>\n",
       "      <td>2021-03-07 00:00:00.0000000</td>\n",
       "      <td>1.0</td>\n",
       "      <td>430</td>\n",
       "      <td>Subarachnoid hemorrhage</td>\n",
       "      <td>Subarachnoid hemorrhage</td>\n",
       "      <td>None</td>\n",
       "      <td>N</td>\n",
       "      <td>N</td>\n",
       "      <td>2021-03-07 14:15:00.0000000</td>\n",
       "      <td>54423881.0</td>\n",
       "      <td>2022-04-27 14:08:48.7770000</td>\n",
       "      <td>ICD9</td>\n",
       "    </tr>\n",
       "  </tbody>\n",
       "</table>\n",
       "</div>"
      ],
      "text/plain": [
       "   BDSPEncounterID  EncounterLineNBR  BDSPPatientID  \\\n",
       "0     1.343764e+10                 2    116398048.0   \n",
       "1     1.339437e+10                 2    119744866.0   \n",
       "2     1.358473e+10                 1    116790672.0   \n",
       "3     1.355626e+10                 1    122243491.0   \n",
       "4     1.354445e+10                 5    119133865.0   \n",
       "\n",
       "             ShiftedContactDTS  ICDLineNBR ICDCD                   ICDDSC  \\\n",
       "0  2018-03-09 00:00:00.0000000         1.0   430  Subarachnoid hemorrhage   \n",
       "1  2019-10-20 00:00:00.0000000         1.0   430  Subarachnoid hemorrhage   \n",
       "2  2022-05-13 00:00:00.0000000         1.0   430  Subarachnoid hemorrhage   \n",
       "3  2020-06-12 00:00:00.0000000         1.0   430  Subarachnoid hemorrhage   \n",
       "4  2021-03-07 00:00:00.0000000         1.0   430  Subarachnoid hemorrhage   \n",
       "\n",
       "                     DiagnosisNM DiagnosisDSC PrimaryDiagnosisFLG  \\\n",
       "0        Subarachnoid hemorrhage         None                   N   \n",
       "1  SAH (subarachnoid hemorrhage)         None                   N   \n",
       "2  SAH (subarachnoid hemorrhage)         None                   N   \n",
       "3        Subarachnoid hemorrhage         None                   Y   \n",
       "4        Subarachnoid hemorrhage         None                   N   \n",
       "\n",
       "  DiagnosisChronicFLG             ShiftedUpdateDTS  DiagnosisLinkedProblemID  \\\n",
       "0                   N  2019-07-26 09:49:00.0000000                52214845.0   \n",
       "1                   N  2023-04-28 12:05:00.0000000                81182497.0   \n",
       "2                   N  2022-05-24 09:42:00.0000000                       NaN   \n",
       "3                   N  2020-06-12 10:21:00.0000000                96911003.0   \n",
       "4                   N  2021-03-07 14:15:00.0000000                54423881.0   \n",
       "\n",
       "           BDSPLastModifiedDTS code_type  \n",
       "0  2022-04-27 13:27:03.6830000      ICD9  \n",
       "1  2023-08-16 01:27:07.9010000      ICD9  \n",
       "2  2022-04-27 15:51:06.4400000      ICD9  \n",
       "3  2022-04-27 13:21:20.6900000      ICD9  \n",
       "4  2022-04-27 14:08:48.7770000      ICD9  "
      ]
     },
     "execution_count": 4,
     "metadata": {},
     "output_type": "execute_result"
    }
   ],
   "source": [
    "# show num of total SAH icd codes given\n",
    "# show example of df\n",
    "filtered_icd_df = pd.concat(dfs, axis=0, ignore_index=True)\n",
    "print(len(filtered_icd_df))\n",
    "filtered_icd_df.head()"
   ]
  },
  {
   "cell_type": "code",
   "execution_count": 14,
   "metadata": {},
   "outputs": [
    {
     "data": {
      "text/html": [
       "<div>\n",
       "<style scoped>\n",
       "    .dataframe tbody tr th:only-of-type {\n",
       "        vertical-align: middle;\n",
       "    }\n",
       "\n",
       "    .dataframe tbody tr th {\n",
       "        vertical-align: top;\n",
       "    }\n",
       "\n",
       "    .dataframe thead th {\n",
       "        text-align: right;\n",
       "    }\n",
       "</style>\n",
       "<table border=\"1\" class=\"dataframe\">\n",
       "  <thead>\n",
       "    <tr style=\"text-align: right;\">\n",
       "      <th></th>\n",
       "      <th>BDSPPatientID</th>\n",
       "      <th>ShiftedContactDTS</th>\n",
       "      <th>ICDCD</th>\n",
       "    </tr>\n",
       "  </thead>\n",
       "  <tbody>\n",
       "    <tr>\n",
       "      <th>0</th>\n",
       "      <td>116398048.0</td>\n",
       "      <td>2018-03-09 00:00:00.0000000</td>\n",
       "      <td>430</td>\n",
       "    </tr>\n",
       "    <tr>\n",
       "      <th>1</th>\n",
       "      <td>119744866.0</td>\n",
       "      <td>2019-10-20 00:00:00.0000000</td>\n",
       "      <td>430</td>\n",
       "    </tr>\n",
       "    <tr>\n",
       "      <th>2</th>\n",
       "      <td>116790672.0</td>\n",
       "      <td>2022-05-13 00:00:00.0000000</td>\n",
       "      <td>430</td>\n",
       "    </tr>\n",
       "    <tr>\n",
       "      <th>3</th>\n",
       "      <td>122243491.0</td>\n",
       "      <td>2020-06-12 00:00:00.0000000</td>\n",
       "      <td>430</td>\n",
       "    </tr>\n",
       "    <tr>\n",
       "      <th>4</th>\n",
       "      <td>119133865.0</td>\n",
       "      <td>2021-03-07 00:00:00.0000000</td>\n",
       "      <td>430</td>\n",
       "    </tr>\n",
       "  </tbody>\n",
       "</table>\n",
       "</div>"
      ],
      "text/plain": [
       "   BDSPPatientID            ShiftedContactDTS ICDCD\n",
       "0    116398048.0  2018-03-09 00:00:00.0000000   430\n",
       "1    119744866.0  2019-10-20 00:00:00.0000000   430\n",
       "2    116790672.0  2022-05-13 00:00:00.0000000   430\n",
       "3    122243491.0  2020-06-12 00:00:00.0000000   430\n",
       "4    119133865.0  2021-03-07 00:00:00.0000000   430"
      ]
     },
     "execution_count": 14,
     "metadata": {},
     "output_type": "execute_result"
    }
   ],
   "source": [
    "# clean up df, keep only relevant info\n",
    "keepColumns = ['BDSPPatientID', 'ShiftedContactDTS', 'ICDCD']\n",
    "clean_icd_df = filtered_icd_df[keepColumns]\n",
    "clean_icd_df.head()"
   ]
  },
  {
   "cell_type": "code",
   "execution_count": 22,
   "metadata": {},
   "outputs": [
    {
     "name": "stdout",
     "output_type": "stream",
     "text": [
      "<class 'pandas._libs.tslibs.timestamps.Timestamp'>\n"
     ]
    }
   ],
   "source": [
    "# rename columns\n",
    "rename_dict = { \n",
    "    'ShiftedContactDTS': 'DateICD', \n",
    "    'ICDCD': 'ICD', \n",
    "}\n",
    "\n",
    "clean_icd_df = clean_icd_df.rename(columns=rename_dict)\n",
    "\n",
    "clean_icd_df.head()\n"
   ]
  },
  {
   "cell_type": "code",
   "execution_count": 23,
   "metadata": {},
   "outputs": [],
   "source": [
    "# save df as csv\n",
    "clean_icd_df.to_csv('1_icd_plus_df.csv', index=False)"
   ]
  },
  {
   "cell_type": "markdown",
   "metadata": {},
   "source": [
    "### ICD -\n",
    " - Filter through the icd data by the 'ICDCD' column with codes that *don't* match ^(I60|430).*\n",
    " - I will be looking at all ICD codes assigned +/- ! month the date of the discharge summary\n",
    " - Check the format of the dates\n",
    " - Merge based on patient ID and date"
   ]
  },
  {
   "cell_type": "code",
   "execution_count": 25,
   "metadata": {},
   "outputs": [
    {
     "name": "stderr",
     "output_type": "stream",
     "text": [
      " 10%|█         | 53/511 [02:44<24:18,  3.18s/it]"
     ]
    },
    {
     "ename": "",
     "evalue": "",
     "output_type": "error",
     "traceback": [
      "\u001b[1;31mThe Kernel crashed while executing code in the current cell or a previous cell. \n",
      "\u001b[1;31mPlease review the code in the cell(s) to identify a possible cause of the failure. \n",
      "\u001b[1;31mClick <a href='https://aka.ms/vscodeJupyterKernelCrash'>here</a> for more info. \n",
      "\u001b[1;31mView Jupyter <a href='command:jupyter.viewOutput'>log</a> for further details."
     ]
    }
   ],
   "source": [
    "# filter by below not these icd codes\n",
    "code_regex = '^(?!I60|430)'\n",
    "dfs = []\n",
    "for i in tqdm(range(1, key_length + 1)):\n",
    "    df = reader[f'ICD_partition_{i}']\n",
    "    df = df[df['ICDCD'].astype(str).str.match(code_regex, flags = re.I)]\n",
    "    dfs.append(df)"
   ]
  },
  {
   "cell_type": "code",
   "execution_count": null,
   "metadata": {},
   "outputs": [],
   "source": [
    "# show num of total non-SAH icd codes given\n",
    "# show example of df\n",
    "filtered_icd_df = pd.concat(dfs, axis=0, ignore_index=True)\n",
    "print(len(filtered_icd_df))\n",
    "filtered_icd_df.head()"
   ]
  },
  {
   "cell_type": "code",
   "execution_count": null,
   "metadata": {},
   "outputs": [],
   "source": [
    "# clean up df, keep only relevant info\n",
    "keepColumns = ['BDSPPatientID', 'ShiftedContactDTS', 'ICDCD']\n",
    "clean_icd_df = filtered_icd_df[keepColumns]\n",
    "clean_icd_df.head()"
   ]
  },
  {
   "cell_type": "code",
   "execution_count": null,
   "metadata": {},
   "outputs": [],
   "source": [
    "# rename columns\n",
    "rename_dict = { \n",
    "    'ShiftedContactDTS': 'DateICD', \n",
    "    'ICDCD': 'ICD', \n",
    "}\n",
    "\n",
    "clean_icd_df = clean_icd_df.rename(columns=rename_dict)\n",
    "\n",
    "clean_icd_df.head()"
   ]
  }
 ],
 "metadata": {
  "kernelspec": {
   "display_name": "NAX",
   "language": "python",
   "name": "python3"
  },
  "language_info": {
   "codemirror_mode": {
    "name": "ipython",
    "version": 3
   },
   "file_extension": ".py",
   "mimetype": "text/x-python",
   "name": "python",
   "nbconvert_exporter": "python",
   "pygments_lexer": "ipython3",
   "version": "3.12.3"
  }
 },
 "nbformat": 4,
 "nbformat_minor": 2
}
