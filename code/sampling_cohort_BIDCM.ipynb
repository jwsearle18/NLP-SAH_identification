{
 "cells": [
  {
   "cell_type": "code",
   "execution_count": 24,
   "metadata": {},
   "outputs": [],
   "source": [
    "import pandas as pd\n",
    "from thunderpack import ThunderReader"
   ]
  },
  {
   "cell_type": "code",
   "execution_count": 25,
   "metadata": {},
   "outputs": [],
   "source": [
    "reader = ThunderReader('/home/jsearle/bigDrive/Dropbox/zz_EHR_Thunderpacks/BIDMC/thunderpack_cpt_nax_1m_BIDMC')\n",
    "key_length = len(list(reader.keys()))"
   ]
  },
  {
   "cell_type": "code",
   "execution_count": 26,
   "metadata": {},
   "outputs": [],
   "source": [
    "dfs = []\n",
    "for i in range(1, key_length + 1):\n",
    "    df = reader[f'cpt_partition_{i}']\n",
    "    dfs.append(df)\n",
    "\n",
    "df = pd.concat(dfs, axis=0, ignore_index=True)"
   ]
  },
  {
   "cell_type": "code",
   "execution_count": 27,
   "metadata": {},
   "outputs": [
    {
     "name": "stdout",
     "output_type": "stream",
     "text": [
      "618205\n"
     ]
    }
   ],
   "source": [
    "print(len(df))"
   ]
  },
  {
   "cell_type": "code",
   "execution_count": 28,
   "metadata": {},
   "outputs": [
    {
     "data": {
      "text/html": [
       "<div>\n",
       "<style scoped>\n",
       "    .dataframe tbody tr th:only-of-type {\n",
       "        vertical-align: middle;\n",
       "    }\n",
       "\n",
       "    .dataframe tbody tr th {\n",
       "        vertical-align: top;\n",
       "    }\n",
       "\n",
       "    .dataframe thead th {\n",
       "        text-align: right;\n",
       "    }\n",
       "</style>\n",
       "<table border=\"1\" class=\"dataframe\">\n",
       "  <thead>\n",
       "    <tr style=\"text-align: right;\">\n",
       "      <th></th>\n",
       "      <th>BDSPPatientID</th>\n",
       "      <th>BDSPEncounterID</th>\n",
       "      <th>CPTSequenceNumber</th>\n",
       "      <th>CPTCode</th>\n",
       "      <th>CPTDate</th>\n",
       "      <th>BDSPLastModifiedDTS</th>\n",
       "    </tr>\n",
       "  </thead>\n",
       "  <tbody>\n",
       "    <tr>\n",
       "      <th>0</th>\n",
       "      <td>150077318</td>\n",
       "      <td>132830813</td>\n",
       "      <td>1</td>\n",
       "      <td>66984</td>\n",
       "      <td>2011-07-02 00:00:00.0000000</td>\n",
       "      <td>2023-07-21 17:17:36.8999790</td>\n",
       "    </tr>\n",
       "    <tr>\n",
       "      <th>1</th>\n",
       "      <td>150067697</td>\n",
       "      <td>132820879</td>\n",
       "      <td>1</td>\n",
       "      <td>19380</td>\n",
       "      <td>2009-11-21 00:00:00.0000000</td>\n",
       "      <td>2023-07-21 17:17:36.8999790</td>\n",
       "    </tr>\n",
       "    <tr>\n",
       "      <th>2</th>\n",
       "      <td>150073329</td>\n",
       "      <td>132829011</td>\n",
       "      <td>1</td>\n",
       "      <td>19301</td>\n",
       "      <td>2011-01-04 00:00:00.0000000</td>\n",
       "      <td>2023-07-21 17:17:36.8999790</td>\n",
       "    </tr>\n",
       "    <tr>\n",
       "      <th>3</th>\n",
       "      <td>150073329</td>\n",
       "      <td>132829011</td>\n",
       "      <td>2</td>\n",
       "      <td>38525</td>\n",
       "      <td>2011-01-04 00:00:00.0000000</td>\n",
       "      <td>2023-07-21 17:17:36.8999790</td>\n",
       "    </tr>\n",
       "    <tr>\n",
       "      <th>4</th>\n",
       "      <td>150068388</td>\n",
       "      <td>132823868</td>\n",
       "      <td>1</td>\n",
       "      <td>58558</td>\n",
       "      <td>2010-01-02 00:00:00.0000000</td>\n",
       "      <td>2023-07-21 17:17:36.8999790</td>\n",
       "    </tr>\n",
       "    <tr>\n",
       "      <th>5</th>\n",
       "      <td>150059232</td>\n",
       "      <td>132815561</td>\n",
       "      <td>1</td>\n",
       "      <td>54161</td>\n",
       "      <td>2010-04-19 00:00:00.0000000</td>\n",
       "      <td>2023-07-21 16:40:40.6255460</td>\n",
       "    </tr>\n",
       "    <tr>\n",
       "      <th>6</th>\n",
       "      <td>150070176</td>\n",
       "      <td>132826736</td>\n",
       "      <td>1</td>\n",
       "      <td>19340</td>\n",
       "      <td>2009-11-02 00:00:00.0000000</td>\n",
       "      <td>2023-07-21 17:17:36.8999790</td>\n",
       "    </tr>\n",
       "  </tbody>\n",
       "</table>\n",
       "</div>"
      ],
      "text/plain": [
       "   BDSPPatientID  BDSPEncounterID  CPTSequenceNumber CPTCode  \\\n",
       "0      150077318        132830813                  1   66984   \n",
       "1      150067697        132820879                  1   19380   \n",
       "2      150073329        132829011                  1   19301   \n",
       "3      150073329        132829011                  2   38525   \n",
       "4      150068388        132823868                  1   58558   \n",
       "5      150059232        132815561                  1   54161   \n",
       "6      150070176        132826736                  1   19340   \n",
       "\n",
       "                       CPTDate          BDSPLastModifiedDTS  \n",
       "0  2011-07-02 00:00:00.0000000  2023-07-21 17:17:36.8999790  \n",
       "1  2009-11-21 00:00:00.0000000  2023-07-21 17:17:36.8999790  \n",
       "2  2011-01-04 00:00:00.0000000  2023-07-21 17:17:36.8999790  \n",
       "3  2011-01-04 00:00:00.0000000  2023-07-21 17:17:36.8999790  \n",
       "4  2010-01-02 00:00:00.0000000  2023-07-21 17:17:36.8999790  \n",
       "5  2010-04-19 00:00:00.0000000  2023-07-21 16:40:40.6255460  \n",
       "6  2009-11-02 00:00:00.0000000  2023-07-21 17:17:36.8999790  "
      ]
     },
     "execution_count": 28,
     "metadata": {},
     "output_type": "execute_result"
    }
   ],
   "source": [
    "df.head(7)"
   ]
  },
  {
   "cell_type": "code",
   "execution_count": 29,
   "metadata": {},
   "outputs": [],
   "source": [
    "codes = df['CPTCode']"
   ]
  },
  {
   "cell_type": "code",
   "execution_count": 30,
   "metadata": {},
   "outputs": [
    {
     "name": "stdout",
     "output_type": "stream",
     "text": [
      "<class 'str'>\n"
     ]
    }
   ],
   "source": [
    "print(type(codes[0]))"
   ]
  },
  {
   "cell_type": "code",
   "execution_count": 31,
   "metadata": {},
   "outputs": [
    {
     "name": "stdout",
     "output_type": "stream",
     "text": [
      "66984\n"
     ]
    }
   ],
   "source": [
    "print(codes[0])"
   ]
  },
  {
   "cell_type": "code",
   "execution_count": 52,
   "metadata": {},
   "outputs": [],
   "source": [
    "cpt_filter = df[df['CPTCode'].astype(str).str.match(f'^6170')]"
   ]
  },
  {
   "cell_type": "code",
   "execution_count": 53,
   "metadata": {},
   "outputs": [
    {
     "data": {
      "text/html": [
       "<div>\n",
       "<style scoped>\n",
       "    .dataframe tbody tr th:only-of-type {\n",
       "        vertical-align: middle;\n",
       "    }\n",
       "\n",
       "    .dataframe tbody tr th {\n",
       "        vertical-align: top;\n",
       "    }\n",
       "\n",
       "    .dataframe thead th {\n",
       "        text-align: right;\n",
       "    }\n",
       "</style>\n",
       "<table border=\"1\" class=\"dataframe\">\n",
       "  <thead>\n",
       "    <tr style=\"text-align: right;\">\n",
       "      <th></th>\n",
       "      <th>BDSPPatientID</th>\n",
       "      <th>BDSPEncounterID</th>\n",
       "      <th>CPTSequenceNumber</th>\n",
       "      <th>CPTCode</th>\n",
       "      <th>CPTDate</th>\n",
       "      <th>BDSPLastModifiedDTS</th>\n",
       "    </tr>\n",
       "  </thead>\n",
       "  <tbody>\n",
       "  </tbody>\n",
       "</table>\n",
       "</div>"
      ],
      "text/plain": [
       "Empty DataFrame\n",
       "Columns: [BDSPPatientID, BDSPEncounterID, CPTSequenceNumber, CPTCode, CPTDate, BDSPLastModifiedDTS]\n",
       "Index: []"
      ]
     },
     "execution_count": 53,
     "metadata": {},
     "output_type": "execute_result"
    }
   ],
   "source": [
    "cpt_filter.head()"
   ]
  },
  {
   "cell_type": "code",
   "execution_count": null,
   "metadata": {},
   "outputs": [],
   "source": []
  }
 ],
 "metadata": {
  "kernelspec": {
   "display_name": "NAX",
   "language": "python",
   "name": "python3"
  },
  "language_info": {
   "codemirror_mode": {
    "name": "ipython",
    "version": 3
   },
   "file_extension": ".py",
   "mimetype": "text/x-python",
   "name": "python",
   "nbconvert_exporter": "python",
   "pygments_lexer": "ipython3",
   "version": "3.11.9"
  }
 },
 "nbformat": 4,
 "nbformat_minor": 2
}
