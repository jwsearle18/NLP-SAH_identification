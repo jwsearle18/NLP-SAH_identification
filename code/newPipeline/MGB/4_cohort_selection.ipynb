{
 "cells": [
  {
   "cell_type": "code",
   "execution_count": 2,
   "metadata": {},
   "outputs": [],
   "source": [
    "# imports\n",
    "import pandas as pd\n",
    "from thunderpack import ThunderReader\n",
    "from tqdm import tqdm\n",
    "import re"
   ]
  },
  {
   "cell_type": "markdown",
   "metadata": {},
   "source": [
    "# Goal\n",
    "- Obtain random sample of patients\n",
    "## Plan\n",
    "- Randomize order of df\n",
    "- Filter df to only include 1 row per patient\n",
    "- "
   ]
  },
  {
   "cell_type": "code",
   "execution_count": 3,
   "metadata": {},
   "outputs": [
    {
     "name": "stdout",
     "output_type": "stream",
     "text": [
      "1113\n"
     ]
    }
   ],
   "source": [
    "# read in full filtered csv\n",
    "full_filtered_df = pd.read_csv('3_full_filtered.csv')\n",
    "\n",
    "# set of patient ids in full filtered df\n",
    "discharged_patients = set(full_filtered_df['BDSPPatientID'])\n",
    "print(len(discharged_patients))"
   ]
  },
  {
   "cell_type": "code",
   "execution_count": 4,
   "metadata": {},
   "outputs": [
    {
     "data": {
      "text/html": [
       "<div>\n",
       "<style scoped>\n",
       "    .dataframe tbody tr th:only-of-type {\n",
       "        vertical-align: middle;\n",
       "    }\n",
       "\n",
       "    .dataframe tbody tr th {\n",
       "        vertical-align: top;\n",
       "    }\n",
       "\n",
       "    .dataframe thead th {\n",
       "        text-align: right;\n",
       "    }\n",
       "</style>\n",
       "<table border=\"1\" class=\"dataframe\">\n",
       "  <thead>\n",
       "    <tr style=\"text-align: right;\">\n",
       "      <th></th>\n",
       "      <th>BDSPPatientID</th>\n",
       "      <th>DateICD</th>\n",
       "      <th>ICD</th>\n",
       "      <th>DateNote</th>\n",
       "      <th>NoteTextFile</th>\n",
       "    </tr>\n",
       "  </thead>\n",
       "  <tbody>\n",
       "    <tr>\n",
       "      <th>0</th>\n",
       "      <td>114316265</td>\n",
       "      <td>2023-01-24</td>\n",
       "      <td>430</td>\n",
       "      <td>2022-12-25</td>\n",
       "      <td>Notes_13605828901_9002141910_20221225.txt</td>\n",
       "    </tr>\n",
       "    <tr>\n",
       "      <th>1</th>\n",
       "      <td>120110560</td>\n",
       "      <td>2023-06-12</td>\n",
       "      <td>430</td>\n",
       "      <td>2023-06-25</td>\n",
       "      <td>Notes_13629086394_8327863776_20230625.txt</td>\n",
       "    </tr>\n",
       "    <tr>\n",
       "      <th>2</th>\n",
       "      <td>119573164</td>\n",
       "      <td>2021-02-13</td>\n",
       "      <td>I60.9</td>\n",
       "      <td>2021-02-23</td>\n",
       "      <td>Notes_13589736564_5567001557_20210223.txt</td>\n",
       "    </tr>\n",
       "    <tr>\n",
       "      <th>3</th>\n",
       "      <td>112030232</td>\n",
       "      <td>2021-05-07</td>\n",
       "      <td>430</td>\n",
       "      <td>2021-05-18</td>\n",
       "      <td>Notes_13566019013_5701887197_20210518.txt</td>\n",
       "    </tr>\n",
       "    <tr>\n",
       "      <th>4</th>\n",
       "      <td>111905857</td>\n",
       "      <td>2020-10-26</td>\n",
       "      <td>430</td>\n",
       "      <td>2020-10-02</td>\n",
       "      <td>Notes_13534548179_4160128051_20201002.txt</td>\n",
       "    </tr>\n",
       "  </tbody>\n",
       "</table>\n",
       "</div>"
      ],
      "text/plain": [
       "   BDSPPatientID     DateICD    ICD    DateNote  \\\n",
       "0      114316265  2023-01-24    430  2022-12-25   \n",
       "1      120110560  2023-06-12    430  2023-06-25   \n",
       "2      119573164  2021-02-13  I60.9  2021-02-23   \n",
       "3      112030232  2021-05-07    430  2021-05-18   \n",
       "4      111905857  2020-10-26    430  2020-10-02   \n",
       "\n",
       "                                NoteTextFile  \n",
       "0  Notes_13605828901_9002141910_20221225.txt  \n",
       "1  Notes_13629086394_8327863776_20230625.txt  \n",
       "2  Notes_13589736564_5567001557_20210223.txt  \n",
       "3  Notes_13566019013_5701887197_20210518.txt  \n",
       "4  Notes_13534548179_4160128051_20201002.txt  "
      ]
     },
     "execution_count": 4,
     "metadata": {},
     "output_type": "execute_result"
    }
   ],
   "source": [
    "# randomize order of df, 25 seed for reproducability\n",
    "rand_filtered_df = full_filtered_df.sample(frac=1, random_state=25).reset_index(drop=True)\n",
    "rand_filtered_df.head()"
   ]
  },
  {
   "cell_type": "code",
   "execution_count": 5,
   "metadata": {},
   "outputs": [
    {
     "name": "stdout",
     "output_type": "stream",
     "text": [
      "1113\n"
     ]
    }
   ],
   "source": [
    "# keep only the first instance of patient id\n",
    "rand_filtered_df = rand_filtered_df.drop_duplicates(subset='BDSPPatientID', keep='first')\n",
    "print(len(rand_filtered_df))"
   ]
  },
  {
   "cell_type": "code",
   "execution_count": 6,
   "metadata": {},
   "outputs": [],
   "source": [
    "# save as csv\n",
    "rand_filtered_df.to_csv('4_rand_filtered_df.csv', index=False)\n"
   ]
  }
 ],
 "metadata": {
  "kernelspec": {
   "display_name": "NAX",
   "language": "python",
   "name": "python3"
  },
  "language_info": {
   "codemirror_mode": {
    "name": "ipython",
    "version": 3
   },
   "file_extension": ".py",
   "mimetype": "text/x-python",
   "name": "python",
   "nbconvert_exporter": "python",
   "pygments_lexer": "ipython3",
   "version": "3.12.3"
  }
 },
 "nbformat": 4,
 "nbformat_minor": 2
}
